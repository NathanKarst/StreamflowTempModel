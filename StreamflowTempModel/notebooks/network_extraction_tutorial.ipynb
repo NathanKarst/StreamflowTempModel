{
 "cells": [
  {
   "cell_type": "markdown",
   "metadata": {},
   "source": [
    "# Channel network and REW delineation \n",
    "\n",
    "In this notebook, we'll cover the steps required to extract the REW channel network. This tutorial is specific to GRASS 7.0 and the Mac operating system (OS X). We have been most succesful with and recommend installing the GRASS 7.0.x files maintained by Michael Barton, which can be found [here](https://grass.osgeo.org/download/software/mac-osx/). Newer versions of GRASS (`7.3.x`) exist, but have not been tested for this tutorial. NOTE: For newer versions of OS X (El Capitan and on), users may need to implement [this](http://grassmac.wikidot.com) fix to get GRASS to run succesfully. "
   ]
  },
  {
   "cell_type": "code",
   "execution_count": 5,
   "metadata": {
    "collapsed": false
   },
   "outputs": [],
   "source": [
    "%matplotlib inline\n",
    "from matplotlib import pylab\n",
    "import os\n",
    "import sys\n",
    "from os.path import dirname\n",
    "import pickle\n",
    "import gdal\n",
    "import fiona\n",
    "import glob\n",
    "import shapely\n",
    "from shapely import geometry,ops\n",
    "import numpy as np\n",
    "import fiona\n",
    "import shapely\n",
    "from matplotlib import pyplot as plt\n",
    "import matplotlib.cm as cm\n",
    "import geopandas as gp\n",
    "import seaborn\n",
    "import pyproj\n",
    "parent_dir = dirname(dirname(os.getcwd()))\n",
    "sys.path.append(os.path.join(parent_dir,'StreamflowTempModel','1_data_preparation'))\n",
    "sys.path.append(os.path.join(parent_dir,'StreamflowTempModel','2_hillslope_discharge'))\n",
    "from vadoseZone import LaioVadoseZone, PorporatoVadoseZone\n",
    "from groundwaterZone import GroundwaterZone, NonlinearReservoir, NonlinearReservoir, TwoLinearReservoir, TwoParallelLinearReservoir"
   ]
  },
  {
   "cell_type": "markdown",
   "metadata": {},
   "source": [
    "## Clip DEM\n",
    "\n",
    "First, we would like to make sure that our digital elevation model (DEM) is clipped to the modeling region. This step is necessary due to the fact that the elevation file currently in the `raw_data/dem` folder is a full National Elevation Dataset (NED) tile, which is much larger than the computational domain of our watershed. "
   ]
  },
  {
   "cell_type": "code",
   "execution_count": 6,
   "metadata": {
    "collapsed": false
   },
   "outputs": [
    {
     "name": "stdout",
     "output_type": "stream",
     "text": [
      "Creating output file that is 647P x 692L.\n",
      "Processing input file ../../raw_data/dem/full_tile.tif.\n",
      "Using internal nodata values (e.g. nan) for image ../../raw_data/dem/full_tile.tif.\n",
      "Copying nodata values from source ../../raw_data/dem/full_tile.tif to destination ../../raw_data/dem/dem.tif.\n",
      "0...10...20...30...40...50...60...70...80...90...100 - done.\n"
     ]
    }
   ],
   "source": [
    "%%bash\n",
    "\n",
    "# Export again, otherwise GDAL won't be able to access projections list. \n",
    "# Necessary environment variables must be exported every new cell \n",
    "# because the %%bash command restarts a new bash kernel every time\n",
    "export PATH=/Library/Frameworks/GDAL.framework/Programs:$PATH\n",
    "export PROJSO=/Library/Frameworks/PROJ.framework/PROJ\n",
    "\n",
    "#define the path of the full tile DEM, as well as the clipping polygon\n",
    "export MASTER_DEM=../../raw_data/dem/full_tile.tif\n",
    "export WATERSHED_POLY=../../raw_data/watershed_poly/sf_leggett.shp\n",
    "rm ../../raw_data/dem/dem.tif\n",
    "gdalwarp -cutline $WATERSHED_POLY -crop_to_cutline $MASTER_DEM ../../raw_data/dem/dem.tif"
   ]
  },
  {
   "cell_type": "markdown",
   "metadata": {},
   "source": [
    "## Extracting the REWs\n",
    "\n",
    "At this point, we're ready to perform our network extraction analysis on the DEM. We will do all of this operating GRASS from a BASH command line. The particulars here are a bit messy, but essentially we create a temporary workspace for GRASS, open the DEM, perform the extraction, then close everything and cleanup. The main script used for extracting the network can be found in `1_data_preparation/extract_stream_basins_topology.sh`."
   ]
  },
  {
   "cell_type": "code",
   "execution_count": 7,
   "metadata": {
    "collapsed": false
   },
   "outputs": [
    {
     "name": "stdout",
     "output_type": "stream",
     "text": [
      "Rebuilding Addon HTML manual pages index...\n",
      "Rebuilding Addon menu...\n",
      "Python 2.7.10 found.\n",
      "\u001b[H\u001b[2J\u001b[H\u001b[2J"
     ]
    },
    {
     "name": "stderr",
     "output_type": "stream",
     "text": [
      "Cleaning up temporary files...\n",
      "Creating new GRASS GIS location/mapset...\n",
      "\n",
      "          __________  ___   __________    _______________\n",
      "         / ____/ __ \\/   | / ___/ ___/   / ____/  _/ ___/\n",
      "        / / __/ /_/ / /| | \\__ \\\\_  \\   / / __ / / \\__ \\ \n",
      "       / /_/ / _, _/ ___ |___/ /__/ /  / /_/ // / ___/ / \n",
      "       \\____/_/ |_/_/  |_/____/____/   \\____/___//____/  \n",
      "\n",
      "Welcome to GRASS GIS 7.0.5\n",
      "GRASS GIS homepage:                      http://grass.osgeo.org\n",
      "This version running through:            Bash Shell (/bin/bash)\n",
      "Help is available with the command:      g.manual -i\n",
      "See the licence terms with:              g.version -c\n",
      "See citation options with:               g.version -x\n",
      "Start the GUI with:                      g.gui wxpython\n",
      "When ready to quit enter:                exit\n",
      "\n",
      "Cleaning up temporary files...\n",
      "Done.\n",
      "\n",
      "Goodbye from GRASS GIS\n",
      "\n"
     ]
    }
   ],
   "source": [
    "%%bash\n",
    "\n",
    "# make the script executable for GRASS \n",
    "chmod u+x ../1_data_preparation/extract_stream_basins_topology.sh\n",
    "\n",
    "# create folder to store temporary grass location\n",
    "DBASE=../../grassdata\n",
    "mkdir $DBASE\n",
    "\n",
    "# setup GRASS setup file to find database. This step is necessary when using GRASS from the command line. \n",
    "echo \"LOCATION_NAME: \n",
    "GISDBASE:$DBASE\n",
    "MAPSET: \n",
    "GUI: \n",
    "PID:\" > $HOME/.grass7/rc\n",
    "\n",
    "# create new temporary location for the job, exit after creation of this location\n",
    "/Applications/GRASS-7.0.app/Contents/MacOS/grass.sh -text -c ../../raw_data/dem/dem.tif ../../grassdata/mylocation"
   ]
  },
  {
   "cell_type": "markdown",
   "metadata": {},
   "source": [
    "Run the GRASS batch job to extract REWs and network connectivity. "
   ]
  },
  {
   "cell_type": "code",
   "execution_count": 8,
   "metadata": {
    "collapsed": false
   },
   "outputs": [
    {
     "name": "stdout",
     "output_type": "stream",
     "text": [
      "Rebuilding Addon HTML manual pages index...\n",
      "Rebuilding Addon menu...\n",
      "Python 2.7.10 found.\n",
      "Cell area is \n",
      "Cells threshold is \n"
     ]
    },
    {
     "name": "stderr",
     "output_type": "stream",
     "text": [
      "Cleaning up temporary files...\n",
      "Starting GRASS GIS...\n",
      "Executing '../1_data_preparation/extract_stream_basins_topology.sh' ...\n",
      "rm: ../..//raw_data/topology/basin.csv: No such file or directory\n",
      "rm: ../..//raw_data/topology/topology.csv: No such file or directory\n",
      "rm: ../..//raw_data/basins_poly/*: No such file or directory\n",
      "rm: ../..//raw_data/streams_poly/*: No such file or directory\n",
      "dyld: Library not loaded: /usr/local/lib/libintl.8.dylib\n",
      "  Referenced from: /Applications/GRASS-7.0.app/Contents/MacOS/lib/libgrass_gis.7.0.5.dylib\n",
      "  Reason: image not found\n",
      "../1_data_preparation/extract_stream_basins_topology.sh: line 19:  7977 Abort trap: 6           r.in.gdal input=$MODEL/raw_data/dem/dem.tif output=dem_unfilled\n",
      "dyld: Library not loaded: /usr/local/lib/libintl.8.dylib\n",
      "  Referenced from: /Applications/GRASS-7.0.app/Contents/MacOS/lib/libgrass_gis.7.0.5.dylib\n",
      "  Reason: image not found\n",
      "../1_data_preparation/extract_stream_basins_topology.sh: line 20:  7978 Abort trap: 6           r.mapcalc \"dem_unfilled_nulled = if(dem_unfilled ,dem_unfilled , null() , null() )\"\n",
      "dyld: Library not loaded: /usr/local/lib/libintl.8.dylib\n",
      "  Referenced from: /Applications/GRASS-7.0.app/Contents/MacOS/lib/libgrass_gis.7.0.5.dylib\n",
      "  Reason: image not found\n",
      "../1_data_preparation/extract_stream_basins_topology.sh: line 21:  7979 Abort trap: 6           g.region raster=dem_unfilled_nulled -p\n",
      "dyld: Library not loaded: /usr/local/lib/libintl.8.dylib\n",
      "  Referenced from: /Applications/GRASS-7.0.app/Contents/MacOS/lib/libgrass_gis.7.0.5.dylib\n",
      "  Reason: image not found\n",
      "../1_data_preparation/extract_stream_basins_topology.sh: line 22:  7980 Abort trap: 6           g.region res=50 -ap\n",
      "dyld: Library not loaded: /usr/local/lib/libintl.8.dylib\n",
      "  Referenced from: /Applications/GRASS-7.0.app/Contents/MacOS/lib/libgrass_gis.7.0.5.dylib\n",
      "  Reason: image not found\n",
      "../1_data_preparation/extract_stream_basins_topology.sh: line 23:  7981 Abort trap: 6           r.resamp.stats --overwrite input=dem_unfilled_nulled output=$M\n",
      "dyld: Library not loaded: /usr/local/lib/libintl.8.dylib\n",
      "  Referenced from: /Applications/GRASS-7.0.app/Contents/MacOS/lib/libgrass_gis.7.0.5.dylib\n",
      "  Reason: image not found\n",
      "../1_data_preparation/extract_stream_basins_topology.sh: line 25:  7982 Abort trap: 6           g.region raster=dem\n",
      "dyld: Library not loaded: /usr/local/lib/libintl.8.dylib\n",
      "  Referenced from: /Applications/GRASS-7.0.app/Contents/MacOS/lib/libgrass_gis.7.0.5.dylib\n",
      "  Reason: image not found\n",
      "../1_data_preparation/extract_stream_basins_topology.sh: line 26:  7983 Abort trap: 6           g.region -p > info.txt\n",
      "(standard_in) 1: parse error\n",
      "(standard_in) 2: parse error\n",
      "dyld: Library not loaded: /usr/local/lib/libintl.8.dylib\n",
      "  Referenced from: /Applications/GRASS-7.0.app/Contents/MacOS/lib/libgrass_gis.7.0.5.dylib\n",
      "  Reason: image not found\n",
      "../1_data_preparation/extract_stream_basins_topology.sh: line 43:  7993 Abort trap: 6           r.watershed -a --overwrite elevation=$M accumulation=$ACCUMSTRING\n",
      "dyld: Library not loaded: /usr/local/lib/libintl.8.dylib\n",
      "  Referenced from: /Applications/GRASS-7.0.app/Contents/MacOS/lib/libgrass_gis.7.0.5.dylib\n",
      "  Reason: image not found\n",
      "../1_data_preparation/extract_stream_basins_topology.sh: line 44:  7994 Abort trap: 6           r.stream.extract --overwrite elevation=$M threshold=$THRESH stream_length=5 stream_raster=$STREAMSTRING stream_vector=stream_vector_temp direction=$DIRSTRING\n",
      "dyld: Library not loaded: /usr/local/lib/libintl.8.dylib\n",
      "  Referenced from: /Applications/GRASS-7.0.app/Contents/MacOS/lib/libgrass_gis.7.0.5.dylib\n",
      "  Reason: image not found\n",
      "dyld: Library not loaded: /usr/local/lib/libintl.8.dylib\n",
      "  Referenced from: /Applications/GRASS-7.0.app/Contents/MacOS/lib/libgrass_gis.7.0.5.dylib\n",
      "  Reason: image not found\n",
      "dyld: Library not loaded: /usr/local/lib/libintl.8.dylib\n",
      "  Referenced from: /Applications/GRASS-7.0.app/Contents/MacOS/lib/libgrass_gis.7.0.5.dylib\n",
      "  Reason: image not found\n",
      "../1_data_preparation/extract_stream_basins_topology.sh: line 69:  8007 Abort trap: 6           r.stream.order --overwrite accumulation=$ACCUMSTRING elevation=$M stream_rast=$STREAMSTRING direction=$DIRSTRING stream_vect=$STREAMVECT\n",
      "dyld: Library not loaded: /usr/local/lib/libintl.8.dylib\n",
      "  Referenced from: /Applications/GRASS-7.0.app/Contents/MacOS/lib/libgrass_gis.7.0.5.dylib\n",
      "  Reason: image not found\n",
      "../1_data_preparation/extract_stream_basins_topology.sh: line 70:  8008 Abort trap: 6           v.out.ogr --overwrite -c input=$STREAMVECT type=line output=\"$MODEL/raw_data/streams_poly\"\n",
      "dyld: Library not loaded: /usr/local/lib/libintl.8.dylib\n",
      "  Referenced from: /Applications/GRASS-7.0.app/Contents/MacOS/lib/libgrass_gis.7.0.5.dylib\n",
      "  Reason: image not found\n",
      "../1_data_preparation/extract_stream_basins_topology.sh: line 73:  8009 Abort trap: 6           v.to.rast --overwrite input=$STREAMVECT output=streamrastertemp type=line use=val value=1\n",
      "dyld: Library not loaded: /usr/local/lib/libintl.8.dylib\n",
      "  Referenced from: /Applications/GRASS-7.0.app/Contents/MacOS/lib/libgrass_gis.7.0.5.dylib\n",
      "  Reason: image not found\n",
      "../1_data_preparation/extract_stream_basins_topology.sh: line 75:  8010 Abort trap: 6           r.to.vect --overwrite input=streamrastertemp output=$POINTSVECT type=point\n",
      "dyld: Library not loaded: /usr/local/lib/libintl.8.dylib\n",
      "  Referenced from: /Applications/GRASS-7.0.app/Contents/MacOS/lib/libgrass_gis.7.0.5.dylib\n",
      "  Reason: image not found\n",
      "../1_data_preparation/extract_stream_basins_topology.sh: line 76:  8011 Abort trap: 6           v.out.ogr --overwrite -c input=$POINTSVECT type=point output=\"$MODEL/raw_data/streams_points\"\n",
      "dyld: Library not loaded: /usr/local/lib/libintl.8.dylib\n",
      "  Referenced from: /Applications/GRASS-7.0.app/Contents/MacOS/lib/libgrass_gis.7.0.5.dylib\n",
      "  Reason: image not found\n",
      "dyld: Library not loaded: /usr/local/lib/libintl.8.dylib\n",
      "  Referenced from: /Applications/GRASS-7.0.app/Contents/MacOS/lib/libgrass_gis.7.0.5.dylib\n",
      "  Reason: image not found\n",
      "../1_data_preparation/extract_stream_basins_topology.sh: line 87:  8018 Abort trap: 6           r.stream.basins --overwrite direction=$DIRSTRING stream_rast=$STREAMSTRING basins=$BASINSTRING\n",
      "dyld: Library not loaded: /usr/local/lib/libintl.8.dylib\n",
      "  Referenced from: /Applications/GRASS-7.0.app/Contents/MacOS/lib/libgrass_gis.7.0.5.dylib\n",
      "  Reason: image not found\n",
      "../1_data_preparation/extract_stream_basins_topology.sh: line 90:  8019 Abort trap: 6           r.to.vect --overwrite -v input=$BASINSTRING output=$BASINVECT type=area\n",
      "dyld: Library not loaded: /usr/local/lib/libintl.8.dylib\n",
      "  Referenced from: /Applications/GRASS-7.0.app/Contents/MacOS/lib/libgrass_gis.7.0.5.dylib\n",
      "  Reason: image not found\n",
      "../1_data_preparation/extract_stream_basins_topology.sh: line 91:  8020 Abort trap: 6           v.build --overwrite map=$BASINVECT option=build\n",
      "dyld: Library not loaded: /usr/local/lib/libintl.8.dylib\n",
      "  Referenced from: /Applications/GRASS-7.0.app/Contents/MacOS/lib/libgrass_gis.7.0.5.dylib\n",
      "  Reason: image not found\n",
      "../1_data_preparation/extract_stream_basins_topology.sh: line 95:  8021 Abort trap: 6           v.clean --overwrite input=$BASINVECT output=$BASINVECTCLEAN type=area tool=rmarea thresh=$cell_area\n",
      "dyld: Library not loaded: /usr/local/lib/libintl.8.dylib\n",
      "  Referenced from: /Applications/GRASS-7.0.app/Contents/MacOS/lib/libgrass_gis.7.0.5.dylib\n",
      "  Reason: image not found\n",
      "dyld: Library not loaded: /usr/local/lib/libintl.8.dylib\n",
      "  Referenced from: /Applications/GRASS-7.0.app/Contents/MacOS/lib/libgrass_gis.7.0.5.dylib\n",
      "  Reason: image not found\n",
      "../1_data_preparation/extract_stream_basins_topology.sh: line 97:  8028 Abort trap: 6           v.to.db map=$BASINVECTCLEAN option=area columns=area_sqkm unit=k\n",
      "dyld: Library not loaded: /usr/local/lib/libintl.8.dylib\n",
      "  Referenced from: /Applications/GRASS-7.0.app/Contents/MacOS/lib/libgrass_gis.7.0.5.dylib\n",
      "  Reason: image not found\n",
      "../1_data_preparation/extract_stream_basins_topology.sh: line 100:  8029 Abort trap: 6           v.out.ogr --overwrite input=$BASINVECTCLEAN type=area output=\"$MODEL/raw_data/basins_poly\"\n",
      "dyld: Library not loaded: /usr/local/lib/libintl.8.dylib\n",
      "  Referenced from: /Applications/GRASS-7.0.app/Contents/MacOS/lib/libgrass_gis.7.0.5.dylib\n",
      "  Reason: image not found\n",
      "Execution of '../1_data_preparation/extract_stream_basins_topology.sh' finished.\n",
      "Cleaning up temporary files...\n"
     ]
    }
   ],
   "source": [
    "%%bash\n",
    "\n",
    "# define the job file as environmental variable\n",
    "export GRASS_BATCH_JOB=\"../1_data_preparation/extract_stream_basins_topology.sh\"\n",
    "\n",
    "# define channel head initiation area; MUST be in meters^2\n",
    "# export THRESHMETERS=2000000\n",
    "\n",
    "# define channel head initiation area; MUST be in meters^2; bigger for south fork @ leggett\n",
    "export THRESHMETERS=5000000\n",
    "\n",
    "# must set path to model folder for .sh script so it can find necessary files and store output\n",
    "export MODEL=../../\n",
    "\n",
    "# set name of polygon defining watershed\n",
    "# must be the same as the clipping polygon above\n",
    "export WATERSHED_POLY=../../raw_data/watershed_poly/sf_leggett.shp\n",
    " \n",
    "# now we can use the temp location and run the job defined via GRASS_BATCH_JOB\n",
    "/Applications/GRASS-7.0.app/Contents/MacOS/grass.sh ../../grassdata/mylocation/PERMANENT\n",
    " \n",
    "# CLEANUP\n",
    "unset GRASS_BATCH_JOB\n",
    " \n",
    "# delete temporary location\n",
    "rm -rf ../../grassdata/\n",
    "\n",
    "# clear out rc file so that the GRASS GUI opens properly on next opening\n",
    "echo \"LOCATION_NAME: \n",
    "GISDBASE:\n",
    "MAPSET: \n",
    "GUI: \n",
    "PID:\" > $HOME/.grass7/rc"
   ]
  },
  {
   "cell_type": "markdown",
   "metadata": {},
   "source": [
    "## Extracted REWs\n",
    "\n",
    "Let's take a look at the REWs extracted using the above script. Here, we import the polygons corresponding to each REW, and map these REWs with labels corresponding to the REW identification number (which will be used extensively throughout these tutorials). "
   ]
  },
  {
   "cell_type": "code",
   "execution_count": 5,
   "metadata": {
    "collapsed": false
   },
   "outputs": [
    {
     "data": {
      "image/png": "[encoded data removed]",
      "text/plain": [
       "<matplotlib.figure.Figure at 0x11b0768d0>"
      ]
     },
     "metadata": {},
     "output_type": "display_data"
    }
   ],
   "source": [
    "pylab.rcParams['figure.figsize'] = (26, 18)\n",
    "basins = glob.glob(os.path.join(parent_dir,'raw_data','basins_poly','*.shp'))[0]\n",
    "basins_shape = gp.GeoDataFrame.from_file(basins)\n",
    "basins_shape['coords'] = basins_shape['geometry'].apply(lambda x: x.representative_point().coords[:])\n",
    "basins_shape['coords'] = [coords[0] for coords in basins_shape['coords']]\n",
    "\n",
    "ax1 = basins_shape.plot()\n",
    "for idx, row in basins_shape.iterrows():\n",
    "    print_str = 'REW' + str(row['cat'])\n",
    "    plt.annotate(s=print_str, xy=row['coords'],\n",
    "                 horizontalalignment='center',fontsize=15)\n",
    "\n",
    "streams = glob.glob(os.path.join(parent_dir,'raw_data','streams_poly','*.shp'))[0]\n",
    "streams_shape = gp.GeoDataFrame.from_file(streams)\n",
    "streams_shape.plot(ax=ax1,color='blue')\n",
    "\n",
    "ax1.get_xaxis().set_ticks([])\n",
    "ax1.get_yaxis().set_ticks([])\n",
    "ax1.patch.set_facecolor('white')"
   ]
  },
  {
   "cell_type": "code",
   "execution_count": null,
   "metadata": {
    "collapsed": true
   },
   "outputs": [],
   "source": []
  }
 ],
 "metadata": {
  "anaconda-cloud": {},
  "kernelspec": {
   "display_name": "Python [conda env:py2k_model]",
   "language": "python",
   "name": "conda-env-py2k_model-py"
  },
  "language_info": {
   "codemirror_mode": {
    "name": "ipython",
    "version": 2
   },
   "file_extension": ".py",
   "mimetype": "text/x-python",
   "name": "python",
   "nbconvert_exporter": "python",
   "pygments_lexer": "ipython2",
   "version": "2.7.12"
  }
 },
 "nbformat": 4,
 "nbformat_minor": 0
}
