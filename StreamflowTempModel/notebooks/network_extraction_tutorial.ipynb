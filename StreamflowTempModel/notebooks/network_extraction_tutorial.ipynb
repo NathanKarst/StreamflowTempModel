{
 "cells": [
  {
   "cell_type": "markdown",
   "metadata": {
    "deletable": true,
    "editable": true
   },
   "source": [
    "# Channel network and REW delineation \n",
    "\n",
    "In this notebook, we'll cover the steps required to extract the REW channel network. This tutorial is specific to GRASS 7.0 and the Mac operating system (OS X). We have been most succesful with and recommend installing the GRASS 7.0.x files maintained by Michael Barton, which can be found [here](https://grass.osgeo.org/download/software/mac-osx/). Newer versions of GRASS (`7.3.x`) exist, but have not been tested for this tutorial. NOTE: For newer versions of OS X (El Capitan and on), users may need to implement [this](http://grassmac.wikidot.com) fix to get GRASS to run succesfully. "
   ]
  },
  {
   "cell_type": "code",
   "execution_count": 1,
   "metadata": {
    "collapsed": true,
    "deletable": true,
    "editable": true
   },
   "outputs": [],
   "source": [
    "%matplotlib inline\n",
    "from matplotlib import pylab\n",
    "import os\n",
    "import sys\n",
    "from os.path import dirname\n",
    "import pickle\n",
    "import gdal\n",
    "import fiona\n",
    "import glob\n",
    "import shapely\n",
    "import numpy as np\n",
    "import shapely\n",
    "from matplotlib import pyplot as plt\n",
    "import matplotlib.cm as cm\n",
    "import geopandas as gp\n",
    "import seaborn as sns\n",
    "import pyproj\n",
    "parent_dir = dirname(dirname(os.getcwd()))\n",
    "sys.path.append(os.path.join(parent_dir,'StreamflowTempModel','1_data_preparation'))\n",
    "sys.path.append(os.path.join(parent_dir,'StreamflowTempModel','2_hillslope_discharge'))"
   ]
  },
  {
   "cell_type": "markdown",
   "metadata": {
    "deletable": true,
    "editable": true
   },
   "source": [
    "## Clip DEM\n",
    "\n",
    "First, we would like to make sure that our digital elevation model (DEM) is clipped to the modeling region. This step is necessary due to the fact that the elevation file currently in the `raw_data/dem` folder is a full National Elevation Dataset (NED) tile, which is much larger than the computational domain of our watershed. "
   ]
  },
  {
   "cell_type": "code",
   "execution_count": 2,
   "metadata": {
    "collapsed": false,
    "deletable": true,
    "editable": true
   },
   "outputs": [
    {
     "name": "stdout",
     "output_type": "stream",
     "text": [
      "Creating output file that is 130P x 108L.\n",
      "Processing input file ../../raw_data/dem/filled_tile.tif.\n",
      "0...10...20...30...40...50...60...70...80...90...100 - done.\n"
     ]
    }
   ],
   "source": [
    "%%bash\n",
    "\n",
    "# Export again, otherwise GDAL won't be able to access projections list. \n",
    "# Necessary environment variables must be exported every new cell \n",
    "# because the %%bash command restarts a new bash kernel every time\n",
    "export PATH=/Library/Frameworks/GDAL.framework/Programs:$PATH\n",
    "export PROJSO=/Library/Frameworks/PROJ.framework/PROJ\n",
    "\n",
    "#define the path of the full tile DEM, as well as the clipping polygon\n",
    "# export MASTER_DEM=../../raw_data/dem/fill_burn.tif\n",
    "export MASTER_DEM=../../raw_data/dem/filled_tile.tif\n",
    "\n",
    "export WATERSHED_POLY=../../raw_data/watershed_poly/elder.shp\n",
    "rm ../../raw_data/dem/dem.tif\n",
    "gdalwarp -cutline $WATERSHED_POLY -crop_to_cutline $MASTER_DEM ../../raw_data/dem/dem.tif"
   ]
  },
  {
   "cell_type": "markdown",
   "metadata": {
    "deletable": true,
    "editable": true
   },
   "source": [
    "## Extracting the REWs\n",
    "\n",
    "At this point, we're ready to perform our network extraction analysis on the DEM. We will do all of this operating GRASS from a BASH command line. The particulars here are a bit messy, but essentially we create a temporary workspace for GRASS, open the DEM, perform the extraction, then close everything and cleanup. The main script used for extracting the network can be found in `1_data_preparation/extract_stream_basins_topology.sh`."
   ]
  },
  {
   "cell_type": "code",
   "execution_count": 3,
   "metadata": {
    "collapsed": false,
    "deletable": true,
    "editable": true
   },
   "outputs": [
    {
     "name": "stdout",
     "output_type": "stream",
     "text": [
      "Rebuilding Addon HTML manual pages index...\n",
      "Rebuilding Addon menu...\n",
      "Python 2.7.10 found.\n",
      "\u001b[H\u001b[2J\u001b[H\u001b[2J"
     ]
    },
    {
     "name": "stderr",
     "output_type": "stream",
     "text": [
      "WARNING: Default locale settings are missing. GRASS running with C locale.\n",
      "Cleaning up temporary files...\n",
      "Creating new GRASS GIS location/mapset...\n",
      "\n",
      "          __________  ___   __________    _______________\n",
      "         / ____/ __ \\/   | / ___/ ___/   / ____/  _/ ___/\n",
      "        / / __/ /_/ / /| | \\__ \\\\_  \\   / / __ / / \\__ \\ \n",
      "       / /_/ / _, _/ ___ |___/ /__/ /  / /_/ // / ___/ / \n",
      "       \\____/_/ |_/_/  |_/____/____/   \\____/___//____/  \n",
      "\n",
      "Welcome to GRASS GIS 7.0.5\n",
      "GRASS GIS homepage:                      http://grass.osgeo.org\n",
      "This version running through:            Bash Shell (/bin/bash)\n",
      "Help is available with the command:      g.manual -i\n",
      "See the licence terms with:              g.version -c\n",
      "See citation options with:               g.version -x\n",
      "Start the GUI with:                      g.gui wxpython\n",
      "When ready to quit enter:                exit\n",
      "\n",
      "Cleaning up temporary files...\n",
      "Done.\n",
      "\n",
      "Goodbye from GRASS GIS\n",
      "\n"
     ]
    }
   ],
   "source": [
    "%%bash\n",
    "\n",
    "# make the script executable for GRASS \n",
    "chmod u+x ../1_data_preparation/extract_stream_basins_topology.sh\n",
    "\n",
    "# create folder to store temporary grass location\n",
    "DBASE=../../grassdata\n",
    "mkdir $DBASE\n",
    "\n",
    "# setup GRASS setup file to find database. This step is necessary when using GRASS from the command line. \n",
    "echo \"LOCATION_NAME: \n",
    "GISDBASE:$DBASE\n",
    "MAPSET: \n",
    "GUI: \n",
    "PID:\" > $HOME/.grass7/rc\n",
    "\n",
    "# create new temporary location for the job, exit after creation of this location\n",
    "/Applications/GRASS-7.0.app/Contents/MacOS/grass.sh -text -c ../../raw_data/dem/dem.tif ../../grassdata/mylocation"
   ]
  },
  {
   "cell_type": "markdown",
   "metadata": {
    "deletable": true,
    "editable": true
   },
   "source": [
    "Run the GRASS batch job to extract REWs and network connectivity. "
   ]
  },
  {
   "cell_type": "code",
   "execution_count": 4,
   "metadata": {
    "collapsed": false,
    "deletable": true,
    "editable": true,
    "scrolled": false
   },
   "outputs": [
    {
     "name": "stdout",
     "output_type": "stream",
     "text": [
      "Rebuilding Addon HTML manual pages index...\n",
      "Rebuilding Addon menu...\n",
      "Python 2.7.10 found.\n",
      "projection: 1 (UTM)\n",
      "zone:       10\n",
      "datum:      towgs84=0,0,0,0,0,0,0\n",
      "ellipsoid:  grs80\n",
      "north:      4398503.87770897\n",
      "south:      4393119.06205627\n",
      "west:       444437.32755008\n",
      "east:       450951.1085672\n",
      "nsres:      49.85940419\n",
      "ewres:      50.10600782\n",
      "rows:       108\n",
      "cols:       130\n",
      "cells:      14040\n",
      "projection: 1 (UTM)\n",
      "zone:       10\n",
      "datum:      towgs84=0,0,0,0,0,0,0\n",
      "ellipsoid:  grs80\n",
      "north:      4398503.87770897\n",
      "south:      4393119.06205627\n",
      "west:       444437.32755008\n",
      "east:       450951.1085672\n",
      "nsres:      49.85940419\n",
      "ewres:      50.10600782\n",
      "rows:       108\n",
      "cols:       130\n",
      "cells:      14040\n",
      "Cell area is 2498.25569624\n",
      "Cells threshold is 1000\n"
     ]
    },
    {
     "name": "stderr",
     "output_type": "stream",
     "text": [
      "WARNING: Default locale settings are missing. GRASS running with C locale.\n",
      "Cleaning up temporary files...\n",
      "Starting GRASS GIS...\n",
      "Executing '../1_data_preparation/extract_stream_basins_topology.sh' ...\n",
      "   0%\b\b\b\b\b   3%\b\b\b\b\b   6%\b\b\b\b\b   9%\b\b\b\b\b  12%\b\b\b\b\b  15%\b\b\b\b\b  18%\b\b\b\b\b  21%\b\b\b\b\b  24%\b\b\b\b\b  27%\b\b\b\b\b  30%\b\b\b\b\b  33%\b\b\b\b\b  36%\b\b\b\b\b  39%\b\b\b\b\b  42%\b\b\b\b\b  45%\b\b\b\b\b  48%\b\b\b\b\b  51%\b\b\b\b\b  54%\b\b\b\b\b  57%\b\b\b\b\b  60%\b\b\b\b\b  63%\b\b\b\b\b  66%\b\b\b\b\b  69%\b\b\b\b\b  72%\b\b\b\b\b  75%\b\b\b\b\b  78%\b\b\b\b\b  81%\b\b\b\b\b  84%\b\b\b\b\b  87%\b\b\b\b\b  90%\b\b\b\b\b  93%\b\b\b\b\b  96%\b\b\b\b\b  99%\b\b\b\b\b 100%\b\b\b\b\b\n",
      "Checking GDAL data type and nodata value...\n",
      "   2%\b\b\b\b\b   5%\b\b\b\b\b   8%\b\b\b\b\b  11%\b\b\b\b\b  14%\b\b\b\b\b  17%\b\b\b\b\b  20%\b\b\b\b\b  23%\b\b\b\b\b  26%\b\b\b\b\b  29%\b\b\b\b\b  32%\b\b\b\b\b  35%\b\b\b\b\b  38%\b\b\b\b\b  41%\b\b\b\b\b  44%\b\b\b\b\b  47%\b\b\b\b\b  50%\b\b\b\b\b  53%\b\b\b\b\b  56%\b\b\b\b\b  59%\b\b\b\b\b  62%\b\b\b\b\b  65%\b\b\b\b\b  68%\b\b\b\b\b  71%\b\b\b\b\b  74%\b\b\b\b\b  77%\b\b\b\b\b  80%\b\b\b\b\b  83%\b\b\b\b\b  86%\b\b\b\b\b  89%\b\b\b\b\b  92%\b\b\b\b\b  95%\b\b\b\b\b  98%\b\b\b\b\b 100%\b\b\b\b\b\n",
      "Using GDAL data type <Float64>\n",
      "Input raster map contains cells with NULL-value (no-data). The value nan\n",
      "will be used to represent no-data values in the input map. You can specify\n",
      "a nodata value with the nodata option.\n",
      "Exporting raster data to GTiff format...\n",
      "ERROR 6: SetColorTable() only supported for Byte or UInt16 bands in TIFF format.\n",
      "   2%\b\b\b\b\b   5%\b\b\b\b\b   8%\b\b\b\b\b  11%\b\b\b\b\b  14%\b\b\b\b\b  17%\b\b\b\b\b  20%\b\b\b\b\b  23%\b\b\b\b\b  26%\b\b\b\b\b  29%\b\b\b\b\b  32%\b\b\b\b\b  35%\b\b\b\b\b  38%\b\b\b\b\b  41%\b\b\b\b\b  44%\b\b\b\b\b  47%\b\b\b\b\b  50%\b\b\b\b\b  53%\b\b\b\b\b  56%\b\b\b\b\b  59%\b\b\b\b\b  62%\b\b\b\b\b  65%\b\b\b\b\b  68%\b\b\b\b\b  71%\b\b\b\b\b  74%\b\b\b\b\b  77%\b\b\b\b\b  80%\b\b\b\b\b  83%\b\b\b\b\b  86%\b\b\b\b\b  89%\b\b\b\b\b  92%\b\b\b\b\b  95%\b\b\b\b\b  98%\b\b\b\b\b 100%\b\b\b\b\b\n",
      "r.out.gdal complete. File </Users/daviddralle/Desktop/test.tif> created.\n",
      "WARNING: 4 points found, but not requested to be exported. Verify 'type'\n",
      "         parameter.\n",
      "ERROR 6: Failed to add field named 'next_stream'\n",
      "ERROR 6: Failed to add field named 'scheidegger'\n",
      "ERROR 6: Failed to add field named 'source_elev'\n",
      "ERROR 6: Failed to add field named 'outlet_elev'\n",
      "Exporting 3 features...\n",
      "  14%\b\b\b\b\b  28%\b\b\b\b\b  42%\b\b\b\b\b  57%\b\b\b\b\b  71%\b\b\b\b\b  85%\b\b\b\b\b 100%\b\b\b\b\b\n",
      "v.out.ogr complete. 3 features (Line String type) written to\n",
      "<stream_vect_2500000> (ESRI_Shapefile format).\n",
      "WARNING: OGR layer <points_2500000> already exists and will be overwritten\n",
      "WARNING: The combination of types is not supported by all formats.\n",
      "WARNING: No areas found, but requested to be exported. Will skip this\n",
      "         feature type.\n",
      "Extracting areas...\n",
      "   0%\b\b\b\b\b   3%\b\b\b\b\b   6%\b\b\b\b\b   9%\b\b\b\b\b  12%\b\b\b\b\b  15%\b\b\b\b\b  18%\b\b\b\b\b  21%\b\b\b\b\b  24%\b\b\b\b\b  27%\b\b\b\b\b  30%\b\b\b\b\b  33%\b\b\b\b\b  36%\b\b\b\b\b  39%\b\b\b\b\b  42%\b\b\b\b\b  45%\b\b\b\b\b  48%\b\b\b\b\b  51%\b\b\b\b\b  54%\b\b\b\b\b  57%\b\b\b\b\b  60%\b\b\b\b\b  63%\b\b\b\b\b  66%\b\b\b\b\b  69%\b\b\b\b\b  72%\b\b\b\b\b  75%\b\b\b\b\b  78%\b\b\b\b\b  81%\b\b\b\b\b  84%\b\b\b\b\b  87%\b\b\b\b\b  90%\b\b\b\b\b  93%\b\b\b\b\b  96%\b\b\b\b\b  99%\b\b\b\b\b 100%\b\b\b\b\b\n",
      "Writing areas...\n",
      "   0%\b\b\b\b\b   4%\b\b\b\b\b   9%\b\b\b\b\b  13%\b\b\b\b\b  18%\b\b\b\b\b  23%\b\b\b\b\b  27%\b\b\b\b\b  32%\b\b\b\b\b  36%\b\b\b\b\b  40%\b\b\b\b\b  44%\b\b\b\b\b  49%\b\b\b\b\b  53%\b\b\b\b\b  58%\b\b\b\b\b  63%\b\b\b\b\b  67%\b\b\b\b\b  72%\b\b\b\b\b  76%\b\b\b\b\b  80%\b\b\b\b\b  84%\b\b\b\b\b  89%\b\b\b\b\b  93%\b\b\b\b\b  98%\b\b\b\b\b 100%\b\b\b\b\b\n",
      "Updating attributes...\n",
      "   0%\b\b\b\b\b  33%\b\b\b\b\b  66%\b\b\b\b\b 100%\b\b\b\b\b\n",
      "Building topology for vector map <basins_vect_2500000@PERMANENT>...\n",
      "Registering primitives...\n",
      "\r",
      "12 primitives registered\n",
      "408 vertices registered\n",
      "Building areas...\n",
      "   0%\b\b\b\b\b   8%\b\b\b\b\b  16%\b\b\b\b\b  25%\b\b\b\b\b  33%\b\b\b\b\b  41%\b\b\b\b\b  50%\b\b\b\b\b  58%\b\b\b\b\b  66%\b\b\b\b\b  75%\b\b\b\b\b  83%\b\b\b\b\b  91%\b\b\b\b\b 100%\b\b\b\b\b\n",
      "4 areas built\n",
      "One isle built\n",
      "Attaching islands...\n",
      " 100%\b\b\b\b\b\n",
      "Attaching centroids...\n",
      "   8%\b\b\b\b\b  16%\b\b\b\b\b  25%\b\b\b\b\b  33%\b\b\b\b\b  41%\b\b\b\b\b  50%\b\b\b\b\b  58%\b\b\b\b\b  66%\b\b\b\b\b  75%\b\b\b\b\b  83%\b\b\b\b\b  91%\b\b\b\b\b 100%\b\b\b\b\b\n",
      "Number of nodes: 5\n",
      "Number of primitives: 12\n",
      "Number of points: 0\n",
      "Number of lines: 0\n",
      "Number of boundaries: 8\n",
      "Number of centroids: 4\n",
      "Number of areas: 4\n",
      "Number of isles: 1\n",
      "r.to.vect complete.\n",
      "Building topology for vector map <basins_vect_2500000@PERMANENT>...\n",
      "Registering primitives...\n",
      "\r",
      "12 primitives registered\n",
      "408 vertices registered\n",
      "Building areas...\n",
      "   0%\b\b\b\b\b   8%\b\b\b\b\b  16%\b\b\b\b\b  25%\b\b\b\b\b  33%\b\b\b\b\b  41%\b\b\b\b\b  50%\b\b\b\b\b  58%\b\b\b\b\b  66%\b\b\b\b\b  75%\b\b\b\b\b  83%\b\b\b\b\b  91%\b\b\b\b\b 100%\b\b\b\b\b\n",
      "4 areas built\n",
      "One isle built\n",
      "Attaching islands...\n",
      " 100%\b\b\b\b\b\n",
      "Attaching centroids...\n",
      "   8%\b\b\b\b\b  16%\b\b\b\b\b  25%\b\b\b\b\b  33%\b\b\b\b\b  41%\b\b\b\b\b  50%\b\b\b\b\b  58%\b\b\b\b\b  66%\b\b\b\b\b  75%\b\b\b\b\b  83%\b\b\b\b\b  91%\b\b\b\b\b 100%\b\b\b\b\b\n",
      "Number of nodes: 5\n",
      "Number of primitives: 12\n",
      "Number of points: 0\n",
      "Number of lines: 0\n",
      "Number of boundaries: 8\n",
      "Number of centroids: 4\n",
      "Number of areas: 4\n",
      "Number of isles: 1\n",
      "--------------------------------------------------\n",
      "Tool: Threshold\n",
      "Remove small areas: 4996.51139248\n",
      "--------------------------------------------------\n",
      "Copying features...\n",
      "   8%\b\b\b\b\b  16%\b\b\b\b\b  25%\b\b\b\b\b  33%\b\b\b\b\b  41%\b\b\b\b\b  50%\b\b\b\b\b  58%\b\b\b\b\b  66%\b\b\b\b\b  75%\b\b\b\b\b  83%\b\b\b\b\b  91%\b\b\b\b\b 100%\b\b\b\b\b\n",
      "Rebuilding parts of topology...\n",
      "Building topology for vector map <basins_vect_clean_2500000@PERMANENT>...\n",
      "Registering primitives...\n",
      "\r",
      "12 primitives registered\n",
      "408 vertices registered\n",
      "Building areas...\n",
      "   0%\b\b\b\b\b   8%\b\b\b\b\b  16%\b\b\b\b\b  25%\b\b\b\b\b  33%\b\b\b\b\b  41%\b\b\b\b\b  50%\b\b\b\b\b  58%\b\b\b\b\b  66%\b\b\b\b\b  75%\b\b\b\b\b  83%\b\b\b\b\b  91%\b\b\b\b\b 100%\b\b\b\b\b\n",
      "4 areas built\n",
      "One isle built\n",
      "Attaching islands...\n",
      " 100%\b\b\b\b\b\n",
      "Attaching centroids...\n",
      "   8%\b\b\b\b\b  16%\b\b\b\b\b  25%\b\b\b\b\b  33%\b\b\b\b\b  41%\b\b\b\b\b  50%\b\b\b\b\b  58%\b\b\b\b\b  66%\b\b\b\b\b  75%\b\b\b\b\b  83%\b\b\b\b\b  91%\b\b\b\b\b 100%\b\b\b\b\b\n",
      "Number of nodes: 5\n",
      "Number of primitives: 12\n",
      "Number of points: 0\n",
      "Number of lines: 0\n",
      "Number of boundaries: 8\n",
      "Number of centroids: 4\n",
      "Number of areas: 4\n",
      "Number of isles: 1\n",
      "--------------------------------------------------\n",
      "Tool: Remove small areas\n",
      "  25%\b\b\b\b\b  50%\b\b\b\b\b  75%\b\b\b\b\b  80%\b\b\b\b\b 100%\b\b\b\b\b\n",
      "1 areas of total size 2498.26 removed\n",
      "--------------------------------------------------\n",
      "Rebuilding topology for output vector map...\n",
      "Building topology for vector map <basins_vect_clean_2500000@PERMANENT>...\n",
      "Registering primitives...\n",
      "\r",
      "10 primitives registered\n",
      "404 vertices registered\n",
      "Building areas...\n",
      "   0%\b\b\b\b\b  10%\b\b\b\b\b  20%\b\b\b\b\b  30%\b\b\b\b\b  40%\b\b\b\b\b  50%\b\b\b\b\b  60%\b\b\b\b\b  70%\b\b\b\b\b  80%\b\b\b\b\b  90%\b\b\b\b\b 100%\b\b\b\b\b\n",
      "3 areas built\n",
      "One isle built\n",
      "Attaching islands...\n",
      " 100%\b\b\b\b\b\n",
      "Attaching centroids...\n",
      "  10%\b\b\b\b\b  20%\b\b\b\b\b  30%\b\b\b\b\b  40%\b\b\b\b\b  50%\b\b\b\b\b  60%\b\b\b\b\b  70%\b\b\b\b\b  80%\b\b\b\b\b  90%\b\b\b\b\b 100%\b\b\b\b\b\n",
      "Number of nodes: 5\n",
      "Number of primitives: 10\n",
      "Number of points: 0\n",
      "Number of lines: 0\n",
      "Number of boundaries: 7\n",
      "Number of centroids: 3\n",
      "Number of areas: 3\n",
      "Number of isles: 1\n",
      "Reading areas...\n",
      "  33%\b\b\b\b\b  66%\b\b\b\b\b 100%\b\b\b\b\b\n",
      "Updating database...\n",
      "   0%\b\b\b\b\b  33%\b\b\b\b\b  66%\b\b\b\b\b 100%\b\b\b\b\b\n",
      "3 categories read from vector map (layer 1)\n",
      "3 records selected from table (layer 1)\n",
      "3 categories read from vector map exist in selection from table\n",
      "3 records updated/inserted (layer 1)\n",
      "Exporting 3 areas (may take some time)...\n",
      "  33%\b\b\b\b\b  66%\b\b\b\b\b 100%\b\b\b\b\b\n",
      "v.out.ogr complete. 3 features (Polygon type) written to\n",
      "<basins_vect_clean_2500000> (ESRI_Shapefile format).\n",
      "WARNING: The combination of types is not supported by all formats.\n",
      "WARNING: No points found, but requested to be exported. Will skip this\n",
      "         feature type.\n",
      "WARNING: No lines found, but requested to be exported. Will skip this\n",
      "         feature type.\n",
      "Exported table <../..//raw_data/topology/basin.csv.csv>\n",
      "Execution of '../1_data_preparation/extract_stream_basins_topology.sh' finished.\n",
      "Cleaning up temporary files...\n"
     ]
    }
   ],
   "source": [
    "%%bash\n",
    "\n",
    "# define the job file as environmental variable\n",
    "export GRASS_BATCH_JOB=\"../1_data_preparation/extract_stream_basins_topology.sh\"\n",
    "\n",
    "# Elder. Channel head initiation in meters2, dem resolution in meters\n",
    "export THRESHMETERS=2500000\n",
    "# export DEMRES=50\n",
    "\n",
    "# Dry. \n",
    "# export THRESHMETERS=250000\n",
    "\n",
    "# define minimum 1st order stream length in meters. \n",
    "export MINSTREAMMETERS=100\n",
    "\n",
    "# must set path to model folder for .sh script so it can find necessary files and store output\n",
    "export MODEL=../../\n",
    "\n",
    "# set name of polygon defining watershed\n",
    "# must be the same as the clipping polygon above\n",
    "export WATERSHED_POLY=../../raw_data/watershed_poly/elder.shp\n",
    " \n",
    "# now we can use the temp location and run the job defined via GRASS_BATCH_JOB\n",
    "/Applications/GRASS-7.0.app/Contents/MacOS/grass.sh ../../grassdata/mylocation/PERMANENT\n",
    " \n",
    "# CLEANUP\n",
    "unset GRASS_BATCH_JOB\n",
    " \n",
    "# delete temporary location\n",
    "rm -rf ../../grassdata/\n",
    "\n",
    "# clear out rc file so that the GRASS GUI opens properly on next opening\n",
    "echo \"LOCATION_NAME: \n",
    "GISDBASE:\n",
    "MAPSET: \n",
    "GUI: \n",
    "PID:\" > $HOME/.grass7/rc"
   ]
  },
  {
   "cell_type": "markdown",
   "metadata": {
    "deletable": true,
    "editable": true
   },
   "source": [
    "## Extracted REWs\n",
    "\n",
    "Let's take a look at the REWs extracted using the above script. Here, we import the polygons corresponding to each REW, and map these REWs with labels corresponding to the REW identification number (which will be used extensively throughout these tutorials). "
   ]
  },
  {
   "cell_type": "code",
   "execution_count": 5,
   "metadata": {
    "collapsed": false,
    "deletable": true,
    "editable": true
   },
   "outputs": [
    {
     "data": {
      "image/png": "[encoded data removed]",
      "text/plain": [
       "<matplotlib.figure.Figure at 0x11e92c5c0>"
      ]
     },
     "metadata": {},
     "output_type": "display_data"
    }
   ],
   "source": [
    "basins = glob.glob(os.path.join(parent_dir,'raw_data','basins_poly','*.shp'))[0]\n",
    "basins_shape = gp.GeoDataFrame.from_file(basins)\n",
    "basins_shape['coords'] = basins_shape['geometry'].apply(lambda x: x.representative_point().coords[:])\n",
    "basins_shape['coords'] = [coords[0] for coords in basins_shape['coords']]\n",
    "\n",
    "f,ax1 = plt.subplots(1,figsize=(10,7))\n",
    "cs = sns.color_palette('bright',len(basins_shape)+1)\n",
    "basins_shape.plot(ax=ax1, color=cs)\n",
    "\n",
    "for idx, row in basins_shape.iterrows():\n",
    "    print_str = 'REW' + str(row['cat'])\n",
    "    plt.annotate(s=print_str, xy=row['coords'],\n",
    "                 horizontalalignment='center',fontsize=10)\n",
    "\n",
    "try: \n",
    "    streams = glob.glob(os.path.join(parent_dir,'raw_data','streams_poly','*.shp'))[0]\n",
    "    streams_shape = gp.GeoDataFrame.from_file(streams)\n",
    "    streams_shape.plot(ax=ax1,color=cs[-1])\n",
    "except: \n",
    "    print('There are no identified streams. Watershed can only be run as a single hillslope.')\n",
    "    \n",
    "ax1.get_xaxis().set_ticks([])\n",
    "ax1.get_yaxis().set_ticks([])\n",
    "ax1.patch.set_facecolor('white')"
   ]
  },
  {
   "cell_type": "code",
   "execution_count": null,
   "metadata": {
    "collapsed": true
   },
   "outputs": [],
   "source": []
  }
 ],
 "metadata": {
  "anaconda-cloud": {},
  "kernelspec": {
   "display_name": "Python 3",
   "language": "python",
   "name": "python3"
  },
  "language_info": {
   "codemirror_mode": {
    "name": "ipython",
    "version": 3
   },
   "file_extension": ".py",
   "mimetype": "text/x-python",
   "name": "python",
   "nbconvert_exporter": "python",
   "pygments_lexer": "ipython3",
   "version": "3.5.2"
  }
 },
 "nbformat": 4,
 "nbformat_minor": 1
}
