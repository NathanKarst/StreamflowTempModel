{
 "cells": [
  {
   "cell_type": "code",
   "execution_count": 1,
   "metadata": {
    "collapsed": false
   },
   "outputs": [
    {
     "name": "stderr",
     "output_type": "stream",
     "text": [
      "/Users/nathankarst/anaconda/envs/py2k_gis/lib/python2.7/site-packages/IPython/html.py:14: ShimWarning: The `IPython.html` package has been deprecated. You should import from `notebook` instead. `IPython.html.widgets` has moved to `ipywidgets`.\n",
      "  \"`IPython.html.widgets` has moved to `ipywidgets`.\", ShimWarning)\n"
     ]
    }
   ],
   "source": [
    "%matplotlib inline\n",
    "import os\n",
    "from matplotlib import pylab\n",
    "import sys\n",
    "from os.path import dirname\n",
    "parent_dir = dirname(dirname(os.getcwd()))\n",
    "sys.path.append(os.path.join(parent_dir,'StreamflowTempModel','2_hillslope_discharge'))\n",
    "sys.path.append(os.path.join(parent_dir,'StreamflowTempModel','1_data_preparation'))\n",
    "sys.path.append(os.path.join(parent_dir,'StreamflowTempModel','3_channel_routing'))\n",
    "\n",
    "from vadoseZone import *\n",
    "from groundwaterZone import *\n",
    "from REW import REW\n",
    "from matplotlib import pyplot as plt\n",
    "import numpy as np\n",
    "import seaborn as sns\n",
    "import pickle\n",
    "from datetime import date\n",
    "import pandas as pd\n",
    "import numpy as np\n",
    "import time\n",
    "import sys\n"
   ]
  },
  {
   "cell_type": "code",
   "execution_count": 2,
   "metadata": {
    "collapsed": true
   },
   "outputs": [],
   "source": [
    "params = {'ET':0, 'emax':0.5, 'leakage':0,'sw':.2,'sfc':0.8,'zr':1000,'storageVZ':0,'n':0.5,'storageGZ':1.0,'discharge':0,'k12':.2,'k1':.3,'b':2.0,'a':.01,'res1':1.0,'res2':1.0}"
   ]
  },
  {
   "cell_type": "code",
   "execution_count": 3,
   "metadata": {
    "collapsed": false
   },
   "outputs": [],
   "source": [
    "dt = 1/24.\n",
    "Tmax = 365\n",
    "t = np.linspace(0,Tmax,np.ceil(Tmax/dt))\n",
    "ppt = 10*np.ones(np.shape(t))\n",
    "pet = np.zeros(np.shape(t))"
   ]
  },
  {
   "cell_type": "code",
   "execution_count": 13,
   "metadata": {
    "collapsed": false
   },
   "outputs": [
    {
     "data": {
      "text/plain": [
       "<matplotlib.legend.Legend at 0x116e71550>"
      ]
     },
     "execution_count": 13,
     "metadata": {},
     "output_type": "execute_result"
    },
    {
     "data": {
      "image/png": "[encoded data removed]",
      "text/plain": [
       "<matplotlib.figure.Figure at 0x103aff610>"
      ]
     },
     "metadata": {},
     "output_type": "display_data"
    }
   ],
   "source": [
    "storageVZ       = np.zeros(np.size(t))\n",
    "storageGZ       = np.zeros(np.size(t))\n",
    "discharge       = np.zeros(np.size(t))\n",
    "leakage         = np.zeros(np.size(t))\n",
    "ET              = np.zeros(np.size(t))\n",
    "overlandFlow    = np.zeros(np.size(t))\n",
    "\n",
    "vz = PorporatoVadoseZone(**params)\n",
    "gz = Melange(**{'storageGZ':0,'a':.01,'b':1.5,'capacity':5})\n",
    "\n",
    "for i in range(len(t)):\n",
    "    vz.update(dt,**{'ppt':ppt[i],'pet':pet[i]})\n",
    "    storageVZ[i] = vz.storageVZ\n",
    "    leakage[i]      = vz.leakage\n",
    "    ET[i]           = vz.ET   \n",
    "    gz.update(dt,**{'leakage':leakage[i]})\n",
    "    storageGZ[i] = gz.storageGZ\n",
    "    discharge[i] = gz.discharge\n",
    "    overlandFlow[i] = gz.overlandFlow\n",
    "    \n",
    "plt.plot(t,leakage,label='Leakage')\n",
    "plt.plot(t,discharge,label='Discharge')\n",
    "plt.plot(t,overlandFlow,label='Overland Flow')\n",
    "plt.plot(t,overlandFlow + discharge,label='Overland Flow + Discharge')\n",
    "\n",
    "plt.legend()\n",
    "\n"
   ]
  }
 ],
 "metadata": {
  "kernelspec": {
   "display_name": "Python [py2k_gis]",
   "language": "python",
   "name": "Python [py2k_gis]"
  },
  "language_info": {
   "codemirror_mode": {
    "name": "ipython",
    "version": 2
   },
   "file_extension": ".py",
   "mimetype": "text/x-python",
   "name": "python",
   "nbconvert_exporter": "python",
   "pygments_lexer": "ipython2",
   "version": "2.7.11"
  }
 },
 "nbformat": 4,
 "nbformat_minor": 0
}
