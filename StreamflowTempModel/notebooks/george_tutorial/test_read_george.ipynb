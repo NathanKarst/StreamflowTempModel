{
 "cells": [
  {
   "cell_type": "code",
   "execution_count": 1,
   "metadata": {
    "collapsed": false,
    "deletable": true,
    "editable": true
   },
   "outputs": [],
   "source": [
    "from matplotlib import pyplot as plt\n",
    "import matplotlib \n",
    "import os\n",
    "import numpy as np\n",
    "import pickle\n",
    "import pandas as pd\n",
    "import copy\n",
    "%matplotlib inline\n",
    "\n",
    "rew_config = pd.read_pickle('./georgedata/rew_config.p')\n",
    "model_config = pd.read_pickle('./georgedata/model_config.p')"
   ]
  },
  {
   "cell_type": "markdown",
   "metadata": {},
   "source": [
    "# Model/rew info\n",
    "\n",
    "Information on the model configuration and the REWs are in the two config files. These come in the form of Python dictionaries. ``rew_config`` is keyed on REW id's; each id number corresponds to the `cat` attribute in the stream/basin shapefiles in the ``georgedata`` folder (in case you feel like opening these up in QGIS or something). ``model_config`` contains all the config stuff for the current model run. For the purpose of introducing you to all of this stuff, I made it a very minimal set of model data; the watershed is just the south fork@branscomb, and the model run dates are only for a few years. FYI, in ``model_config``, there are three important dates. A ``start_date``, ``spinup_date``, and ``stop_date``. The start date defines when the model run begins, the spinup date defines when the model has \"spun up\" (i.e. when initial transients are considered \"forgotten\" for the purposes of calibration/validation) and a stop date when the model run stops. Forcing data is only extracted between the start and stop dates. "
   ]
  },
  {
   "cell_type": "code",
   "execution_count": 10,
   "metadata": {
    "collapsed": false
   },
   "outputs": [
    {
     "name": "stdout",
     "output_type": "stream",
     "text": [
      "Model run start date is 2012-01-01\n"
     ]
    }
   ],
   "source": [
    "print('Model run start date is ' + str(model_config['start_date']))"
   ]
  },
  {
   "cell_type": "code",
   "execution_count": 13,
   "metadata": {
    "collapsed": false
   },
   "outputs": [
    {
     "name": "stdout",
     "output_type": "stream",
     "text": [
      "Contributing area of rew 5 (not including upstream rew's) is 3.08 square km\n"
     ]
    }
   ],
   "source": [
    "rew_id = 5\n",
    "print('Contributing area of rew %s (not including upstream rew\\'s) is %.2f square km'%(str(5), rew_config[5]['area_sqkm']))"
   ]
  },
  {
   "cell_type": "markdown",
   "metadata": {
    "deletable": true,
    "editable": true
   },
   "source": [
    "# Connecting REWs to climatic forcing\n",
    "\n",
    "To save time on model runs, I aggregate REWs to different climate \"groups\". These are areas where climate is averaged across a collection of REWs to save on having to run the model separately each REW in the group. The ``rew_config`` dictionary contains info for mapping an REW to its climate group. So, below, you see that ``rew_config[5]`` prints a dictionary entry (another dictionary) and one of the entries is ``climate_group``. In this case, the climate group is 1. So, to get the climate forcing for REW 5, I search the ``climate_group_forcing`` dictionary for key 1. The data stored there will be a pandas dataframe with the requisite climate forcing data (precip, PET, etc)."
   ]
  },
  {
   "cell_type": "code",
   "execution_count": 14,
   "metadata": {
    "collapsed": false,
    "deletable": true,
    "editable": true
   },
   "outputs": [
    {
     "name": "stdout",
     "output_type": "stream",
     "text": [
      "Climate group for REW 5 is 1\n",
      "\n",
      "Preview of climate group 1 dataframe:\n"
     ]
    },
    {
     "data": {
      "text/html": [
       "<div>\n",
       "<style>\n",
       "    .dataframe thead tr:only-child th {\n",
       "        text-align: right;\n",
       "    }\n",
       "\n",
       "    .dataframe thead th {\n",
       "        text-align: left;\n",
       "    }\n",
       "\n",
       "    .dataframe tbody tr th {\n",
       "        vertical-align: top;\n",
       "    }\n",
       "</style>\n",
       "<table border=\"1\" class=\"dataframe\">\n",
       "  <thead>\n",
       "    <tr style=\"text-align: right;\">\n",
       "      <th></th>\n",
       "      <th>year</th>\n",
       "      <th>yday</th>\n",
       "      <th>dayl</th>\n",
       "      <th>ppt</th>\n",
       "      <th>srad</th>\n",
       "      <th>tmax</th>\n",
       "      <th>tmin</th>\n",
       "      <th>vp</th>\n",
       "      <th>es</th>\n",
       "      <th>p</th>\n",
       "      <th>tmean</th>\n",
       "      <th>pet</th>\n",
       "    </tr>\n",
       "  </thead>\n",
       "  <tbody>\n",
       "    <tr>\n",
       "      <th>2012-01-01</th>\n",
       "      <td>2012.0</td>\n",
       "      <td>1.0</td>\n",
       "      <td>33177.601562</td>\n",
       "      <td>0.00</td>\n",
       "      <td>250.026666</td>\n",
       "      <td>17.633333</td>\n",
       "      <td>2.666667</td>\n",
       "      <td>736.000000</td>\n",
       "      <td>1441.091135</td>\n",
       "      <td>95180.367611</td>\n",
       "      <td>10.150000</td>\n",
       "      <td>0.142496</td>\n",
       "    </tr>\n",
       "    <tr>\n",
       "      <th>2012-01-02</th>\n",
       "      <td>2012.0</td>\n",
       "      <td>2.0</td>\n",
       "      <td>33246.721094</td>\n",
       "      <td>0.00</td>\n",
       "      <td>162.773333</td>\n",
       "      <td>12.700000</td>\n",
       "      <td>5.733333</td>\n",
       "      <td>920.000000</td>\n",
       "      <td>1441.091135</td>\n",
       "      <td>95180.367611</td>\n",
       "      <td>9.216667</td>\n",
       "      <td>0.094334</td>\n",
       "    </tr>\n",
       "    <tr>\n",
       "      <th>2012-01-03</th>\n",
       "      <td>2012.0</td>\n",
       "      <td>3.0</td>\n",
       "      <td>33523.199219</td>\n",
       "      <td>0.24</td>\n",
       "      <td>168.746668</td>\n",
       "      <td>12.800000</td>\n",
       "      <td>4.466667</td>\n",
       "      <td>837.333333</td>\n",
       "      <td>1441.091135</td>\n",
       "      <td>95180.367611</td>\n",
       "      <td>8.633333</td>\n",
       "      <td>0.101382</td>\n",
       "    </tr>\n",
       "    <tr>\n",
       "      <th>2012-01-04</th>\n",
       "      <td>2012.0</td>\n",
       "      <td>4.0</td>\n",
       "      <td>33523.199219</td>\n",
       "      <td>0.00</td>\n",
       "      <td>237.866668</td>\n",
       "      <td>16.000000</td>\n",
       "      <td>3.466667</td>\n",
       "      <td>792.000000</td>\n",
       "      <td>1441.091135</td>\n",
       "      <td>95180.367611</td>\n",
       "      <td>9.733333</td>\n",
       "      <td>0.130107</td>\n",
       "    </tr>\n",
       "    <tr>\n",
       "      <th>2012-01-05</th>\n",
       "      <td>2012.0</td>\n",
       "      <td>5.0</td>\n",
       "      <td>33523.199219</td>\n",
       "      <td>0.00</td>\n",
       "      <td>181.973334</td>\n",
       "      <td>12.166667</td>\n",
       "      <td>4.333333</td>\n",
       "      <td>826.666667</td>\n",
       "      <td>1441.091135</td>\n",
       "      <td>95180.367611</td>\n",
       "      <td>8.250000</td>\n",
       "      <td>0.097776</td>\n",
       "    </tr>\n",
       "  </tbody>\n",
       "</table>\n",
       "</div>"
      ],
      "text/plain": [
       "              year  yday          dayl   ppt        srad       tmax      tmin  \\\n",
       "2012-01-01  2012.0   1.0  33177.601562  0.00  250.026666  17.633333  2.666667   \n",
       "2012-01-02  2012.0   2.0  33246.721094  0.00  162.773333  12.700000  5.733333   \n",
       "2012-01-03  2012.0   3.0  33523.199219  0.24  168.746668  12.800000  4.466667   \n",
       "2012-01-04  2012.0   4.0  33523.199219  0.00  237.866668  16.000000  3.466667   \n",
       "2012-01-05  2012.0   5.0  33523.199219  0.00  181.973334  12.166667  4.333333   \n",
       "\n",
       "                    vp           es             p      tmean       pet  \n",
       "2012-01-01  736.000000  1441.091135  95180.367611  10.150000  0.142496  \n",
       "2012-01-02  920.000000  1441.091135  95180.367611   9.216667  0.094334  \n",
       "2012-01-03  837.333333  1441.091135  95180.367611   8.633333  0.101382  \n",
       "2012-01-04  792.000000  1441.091135  95180.367611   9.733333  0.130107  \n",
       "2012-01-05  826.666667  1441.091135  95180.367611   8.250000  0.097776  "
      ]
     },
     "execution_count": 14,
     "metadata": {},
     "output_type": "execute_result"
    }
   ],
   "source": [
    "climate_group_forcing = pd.read_pickle('./georgedata/climate_group_forcing.p')\n",
    "rew_id = 5\n",
    "climate_group = rew_config[rew_id]['climate_group']\n",
    "print('Climate group for REW %d is %s\\n\\nPreview of climate group %s dataframe:'%(rew_id, str(climate_group), str(climate_group)))\n",
    "climate_group_forcing[climate_group].head()"
   ]
  },
  {
   "cell_type": "markdown",
   "metadata": {
    "deletable": true,
    "editable": true
   },
   "source": [
    "# Messing with the data\n",
    "\n",
    "Things to note about the data. \n",
    "\n",
    "1. All the PET/precip/etc are in units of cm per day! I know. It's weird. I regret making that choice, but had reasons when first started. \n",
    "2. Not all the data is necessarily used in the model, but I threw it in here for you. For example, ``srad`` is solar radiation, and only comes into play when I do the temp modeling.\n",
    "3. Ummm...i don't know what else. Just email if you have questions. \n",
    "\n",
    "Here's how to access the data:"
   ]
  },
  {
   "cell_type": "code",
   "execution_count": 15,
   "metadata": {
    "collapsed": false,
    "deletable": true,
    "editable": true
   },
   "outputs": [
    {
     "data": {
      "text/plain": [
       "<matplotlib.text.Text at 0x11a36a588>"
      ]
     },
     "execution_count": 15,
     "metadata": {},
     "output_type": "execute_result"
    },
    {
     "data": {
      "image/png": "[encoded data removed]",
      "text/plain": [
       "<matplotlib.figure.Figure at 0x119f15710>"
      ]
     },
     "metadata": {},
     "output_type": "display_data"
    }
   ],
   "source": [
    "startdate = '2015-10-01'\n",
    "enddate = '2016-09-30'\n",
    "rew5ppt = climate_group_forcing[climate_group]['ppt'][startdate:enddate]\n",
    "rew5ppt.cumsum().plot()\n",
    "plt.ylabel('Cumulative precip [cm]')"
   ]
  },
  {
   "cell_type": "markdown",
   "metadata": {
    "deletable": true,
    "editable": true
   },
   "source": [
    "# REW level forcing data\n",
    "\n",
    "If you'd rather mess with REW level data (to be aggregated to climate groups later; perhaps groups that you yourself specify), I've also included the individual REW forcings. In the model prep scripts, these are the dataframes that I aggregate to create climate groups. You can see, the REW level forcings have the same format as the climate group forcings. So, depending on your question, you may want to alter the climate at the REW level, or at the climate group level. We can discuss this more and make decisions based off the science questions you're trying to answer. \n"
   ]
  },
  {
   "cell_type": "code",
   "execution_count": 16,
   "metadata": {
    "collapsed": false,
    "deletable": true,
    "editable": true
   },
   "outputs": [
    {
     "data": {
      "text/html": [
       "<div>\n",
       "<style>\n",
       "    .dataframe thead tr:only-child th {\n",
       "        text-align: right;\n",
       "    }\n",
       "\n",
       "    .dataframe thead th {\n",
       "        text-align: left;\n",
       "    }\n",
       "\n",
       "    .dataframe tbody tr th {\n",
       "        vertical-align: top;\n",
       "    }\n",
       "</style>\n",
       "<table border=\"1\" class=\"dataframe\">\n",
       "  <thead>\n",
       "    <tr style=\"text-align: right;\">\n",
       "      <th></th>\n",
       "      <th>year</th>\n",
       "      <th>yday</th>\n",
       "      <th>dayl</th>\n",
       "      <th>ppt</th>\n",
       "      <th>srad</th>\n",
       "      <th>tmax</th>\n",
       "      <th>tmin</th>\n",
       "      <th>vp</th>\n",
       "      <th>es</th>\n",
       "      <th>p</th>\n",
       "      <th>tmean</th>\n",
       "      <th>pet</th>\n",
       "    </tr>\n",
       "  </thead>\n",
       "  <tbody>\n",
       "    <tr>\n",
       "      <th>2012-01-01</th>\n",
       "      <td>2012.0</td>\n",
       "      <td>1.0</td>\n",
       "      <td>33177.601562</td>\n",
       "      <td>0.0</td>\n",
       "      <td>265.600006</td>\n",
       "      <td>17.5</td>\n",
       "      <td>2.0</td>\n",
       "      <td>720.0</td>\n",
       "      <td>1418.410562</td>\n",
       "      <td>94016.642035</td>\n",
       "      <td>9.75</td>\n",
       "      <td>0.143159</td>\n",
       "    </tr>\n",
       "    <tr>\n",
       "      <th>2012-01-02</th>\n",
       "      <td>2012.0</td>\n",
       "      <td>2.0</td>\n",
       "      <td>33523.199219</td>\n",
       "      <td>0.0</td>\n",
       "      <td>166.399994</td>\n",
       "      <td>12.0</td>\n",
       "      <td>5.0</td>\n",
       "      <td>880.0</td>\n",
       "      <td>1418.410562</td>\n",
       "      <td>94016.642035</td>\n",
       "      <td>8.50</td>\n",
       "      <td>0.092206</td>\n",
       "    </tr>\n",
       "    <tr>\n",
       "      <th>2012-01-03</th>\n",
       "      <td>2012.0</td>\n",
       "      <td>3.0</td>\n",
       "      <td>33523.199219</td>\n",
       "      <td>0.3</td>\n",
       "      <td>144.000000</td>\n",
       "      <td>12.5</td>\n",
       "      <td>4.0</td>\n",
       "      <td>800.0</td>\n",
       "      <td>1418.410562</td>\n",
       "      <td>94016.642035</td>\n",
       "      <td>8.25</td>\n",
       "      <td>0.101071</td>\n",
       "    </tr>\n",
       "    <tr>\n",
       "      <th>2012-01-04</th>\n",
       "      <td>2012.0</td>\n",
       "      <td>4.0</td>\n",
       "      <td>33523.199219</td>\n",
       "      <td>0.0</td>\n",
       "      <td>249.600006</td>\n",
       "      <td>16.0</td>\n",
       "      <td>3.0</td>\n",
       "      <td>760.0</td>\n",
       "      <td>1418.410562</td>\n",
       "      <td>94016.642035</td>\n",
       "      <td>9.50</td>\n",
       "      <td>0.131591</td>\n",
       "    </tr>\n",
       "    <tr>\n",
       "      <th>2012-01-05</th>\n",
       "      <td>2012.0</td>\n",
       "      <td>5.0</td>\n",
       "      <td>33523.199219</td>\n",
       "      <td>0.0</td>\n",
       "      <td>188.800003</td>\n",
       "      <td>12.0</td>\n",
       "      <td>4.0</td>\n",
       "      <td>800.0</td>\n",
       "      <td>1418.410562</td>\n",
       "      <td>94016.642035</td>\n",
       "      <td>8.00</td>\n",
       "      <td>0.098031</td>\n",
       "    </tr>\n",
       "  </tbody>\n",
       "</table>\n",
       "</div>"
      ],
      "text/plain": [
       "              year  yday          dayl  ppt        srad  tmax  tmin     vp  \\\n",
       "2012-01-01  2012.0   1.0  33177.601562  0.0  265.600006  17.5   2.0  720.0   \n",
       "2012-01-02  2012.0   2.0  33523.199219  0.0  166.399994  12.0   5.0  880.0   \n",
       "2012-01-03  2012.0   3.0  33523.199219  0.3  144.000000  12.5   4.0  800.0   \n",
       "2012-01-04  2012.0   4.0  33523.199219  0.0  249.600006  16.0   3.0  760.0   \n",
       "2012-01-05  2012.0   5.0  33523.199219  0.0  188.800003  12.0   4.0  800.0   \n",
       "\n",
       "                     es             p  tmean       pet  \n",
       "2012-01-01  1418.410562  94016.642035   9.75  0.143159  \n",
       "2012-01-02  1418.410562  94016.642035   8.50  0.092206  \n",
       "2012-01-03  1418.410562  94016.642035   8.25  0.101071  \n",
       "2012-01-04  1418.410562  94016.642035   9.50  0.131591  \n",
       "2012-01-05  1418.410562  94016.642035   8.00  0.098031  "
      ]
     },
     "execution_count": 16,
     "metadata": {},
     "output_type": "execute_result"
    }
   ],
   "source": [
    "rew_forcings = pd.read_pickle('./georgedata/rew_forcing.p')\n",
    "rew_forcings[5].head()"
   ]
  },
  {
   "cell_type": "markdown",
   "metadata": {
    "deletable": true,
    "editable": true
   },
   "source": [
    "# Altering the data and saving it\n",
    "\n",
    "When you're ready to try out \"future climate scenarios\", you'll want to edit these forcing files and give them back to me to run the model for you. Here is an example of how to increase rainfall by 10% for each REW. "
   ]
  },
  {
   "cell_type": "code",
   "execution_count": 17,
   "metadata": {
    "collapsed": false,
    "deletable": true,
    "editable": true
   },
   "outputs": [
    {
     "data": {
      "image/png": "[encoded data removed]",
      "text/plain": [
       "<matplotlib.figure.Figure at 0x119eccda0>"
      ]
     },
     "metadata": {},
     "output_type": "display_data"
    }
   ],
   "source": [
    "rew_ids = [item for item in rew_forcings.keys()]\n",
    "rew_forcings_new = {}\n",
    "for rew_id in rew_ids:\n",
    "    tmp = rew_forcings[rew_id].copy()\n",
    "    tmp.ppt = tmp.ppt + 0.10*tmp.ppt\n",
    "    rew_forcings_new[rew_id] = tmp\n",
    "    \n",
    "# Plot to check\n",
    "startdate = '2015-10-01'\n",
    "enddate = '2016-09-30'\n",
    "rew5ppt = rew_forcings[5]['ppt'][startdate:enddate]\n",
    "rew5ppt_new = rew_forcings_new[5]['ppt'][startdate:enddate]\n",
    "f,ax = plt.subplots(1)\n",
    "rew5ppt.cumsum().plot(ax=ax, label='old ppt')\n",
    "rew5ppt_new.cumsum().plot(ax=ax, label='new ppt')\n",
    "ax.legend()\n",
    "plt.ylabel('Cumulative precip [cm]')\n",
    "\n",
    "# Save the new data\n",
    "pickle.dump(rew_forcings_new, open('./georgedata/rew_forcings_new.p', 'wb') )"
   ]
  },
  {
   "cell_type": "code",
   "execution_count": null,
   "metadata": {
    "collapsed": true
   },
   "outputs": [],
   "source": []
  }
 ],
 "metadata": {
  "kernelspec": {
   "display_name": "Python 3",
   "language": "python",
   "name": "python3"
  },
  "language_info": {
   "codemirror_mode": {
    "name": "ipython",
    "version": 3
   },
   "file_extension": ".py",
   "mimetype": "text/x-python",
   "name": "python",
   "nbconvert_exporter": "python",
   "pygments_lexer": "ipython3",
   "version": "3.5.2"
  }
 },
 "nbformat": 4,
 "nbformat_minor": 2
}
