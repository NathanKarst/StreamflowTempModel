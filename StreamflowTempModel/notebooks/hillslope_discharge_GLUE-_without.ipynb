{
 "cells": [
  {
   "cell_type": "markdown",
   "metadata": {},
   "source": [
    "# Hillslope Discharge Tutorial\n",
    "\n",
    "This notebook outlines how to access parameters and forcing data across a collection of REWs in order to compute hillslope discharge. We pay special attention to dealing with REW parameter and climate groups, which potentially simplify calibration procedures. In this example, we lay out the general organization to deal with multiple parameter groups but will in fact only consider one.  "
   ]
  },
  {
   "cell_type": "code",
   "execution_count": 1,
   "metadata": {
    "collapsed": false
   },
   "outputs": [],
   "source": [
    "%matplotlib inline\n",
    "import os\n",
    "from matplotlib import pylab\n",
    "import sys\n",
    "from os.path import dirname\n",
    "parent_dir = dirname(dirname(os.getcwd()))\n",
    "sys.path.append(os.path.join(parent_dir,'StreamflowTempModel','2_hillslope_discharge'))\n",
    "sys.path.append(os.path.join(parent_dir,'StreamflowTempModel','1_data_preparation'))\n",
    "sys.path.append(os.path.join(parent_dir,'StreamflowTempModel','3_channel_routing'))\n",
    "\n",
    "from vadoseZone import *\n",
    "from groundwaterZone import *\n",
    "from REW import REW\n",
    "from tqdm import tqdm_notebook\n",
    "from matplotlib import pyplot as plt\n",
    "import numpy as np\n",
    "import seaborn as sns\n",
    "import pickle\n",
    "from datetime import date\n",
    "import pandas as pd\n",
    "import numpy as np\n",
    "import time\n",
    "import sys\n",
    "import json\n",
    "\n",
    "from prep import rew_params\n",
    "rew_params()\n",
    "from prep import rew_config\n",
    "rew_config()\n",
    "from prep import model_config\n",
    "model_config()\n",
    "\n",
    "import matplotlib as mpl\n",
    "mpl.rcParams['pdf.fonttype'] = 42\n",
    "# best_objs_list = pickle.load(open('./best_objs_list.p','rb'))\n",
    "best_params_list_pref = pickle.load(open('./best_params_list_pref.p','rb'))\n",
    "best_params_list_nopref = pickle.load(open('./best_params_list_nopref.p','rb'))"
   ]
  },
  {
   "cell_type": "markdown",
   "metadata": {},
   "source": [
    "First, we'll need to set up some data structures to hold parameters and forcing data. We'll assume that these have already been computed and have been stored in the `model_data` subfolder of the parent folder. For information on the creation of these data, refer to the [model parameterization](./parameterize_and_configure.ipynb) or [data preparation](./prism_forcing.ipynb) notebooks. \n",
    "\n",
    "The `rew_config` dictionary has as its keys the list of all REWs to be modeled in the simulation. The value of each key contains data primarily related to physical topological attributes of each REW. The most important fields in this example will be `climate_group`, `parameter_group`, and `group`, which specify the parameter set and forcing data required to run the model for each REW. \n",
    "\n",
    "The `parameter_group_params` dictionary has as its keys the list of all REW parameter groups. For each group, we can specify both scalars, like a soil moisture field capacity, and classes, like specific groundwater and vadose zone models. **The parameters enumerated for each parameter group must include those needed to fully populate the chosen vadose zone and groundwater zone models, and the naming conventions between `parameter_group_params` and each class must match.** For instance, if the chosen vadose zone model has a field capacity attribute named `sfc`, then each value in the `parameter_group_params` dictionary must have a `sfc` key. Combining parameter groups with climate groups allows us perform expensive calibration procedures on a potentially small number of REW \"types\" (e.g., coastal belt covered in a Douglas fir, with particular climate data), rather than on each REW individually. \n",
    "\n",
    "The `model_config` dictionary contains the high level parameters needed to spool up and execute the time domain simulation. Values include time stamps at which hillslope discharge will be computed, as well as the time step lengths and resampling frequencies necessary to map forcing data onto the desired simulation timescales. "
   ]
  },
  {
   "cell_type": "code",
   "execution_count": 10,
   "metadata": {
    "collapsed": false
   },
   "outputs": [
    {
     "name": "stdout",
     "output_type": "stream",
     "text": [
      "46.2088577535\n",
      "52.270011746\n"
     ]
    },
    {
     "data": {
      "image/png": "[encoded data removed]",
      "text/plain": [
       "<matplotlib.figure.Figure at 0x11ddd2610>"
      ]
     },
     "metadata": {},
     "output_type": "display_data"
    }
   ],
   "source": [
    "vzstorage = []\n",
    "for entry in best_params_list_pref:\n",
    "    vzstorage.append(entry[1]['nR']*entry[1]['zrR']*(entry[1]['stR'] - entry[1]['s0R']) + entry[1]['nS']*entry[1]['zrS']*(entry[1]['stS'] - entry[1]['s0S']))\n",
    "    \n",
    "plt.hist(vzstorage)\n",
    "print np.median(vzstorage)\n",
    "print np.percentile(vzstorage, 75)"
   ]
  },
  {
   "cell_type": "code",
   "execution_count": 2,
   "metadata": {
    "collapsed": false
   },
   "outputs": [],
   "source": [
    "# Load config, parameter, and forcing files\n",
    "\n",
    "parent_dir = os.path.dirname(os.path.dirname(os.getcwd()))\n",
    "sys.path.append(os.path.join(parent_dir, 'StreamflowTempModel', '1_data_preparation'))\n",
    "rew_config = pickle.load( open( os.path.join(parent_dir,'model_data','rew_config.p'), \"rb\" ) )\n",
    "climate_group_forcing = pickle.load( open( os.path.join(parent_dir,'model_data','climate_group_forcing.p'), \"rb\" ) )\n",
    "parameter_group_params = pickle.load( open( os.path.join(parent_dir,'model_data','parameter_group_params.p'), \"rb\" ))\n",
    "model_config = pickle.load( open( os.path.join(parent_dir, 'model_data', 'model_config.p'), 'rb'))\n"
   ]
  },
  {
   "cell_type": "markdown",
   "metadata": {},
   "source": [
    "Before starting the simulation, it's convenient to load some of the model configuration data into the local workspace, rather than continually pulling from the `model_config` dictionary. \n",
    "\n",
    "The most important quantities here are the `start_date`, `stop_date` and `spinup_date`. The first two are self-explanatory; the last specifies the date at which we assume transients related, for instance, to starting with empty groundwater and vadose zone stocks have exited the system. \n",
    "\n",
    "Note that `model_config` typically contains datetime indices, time steps, and resampling frequencies related to both the hillslope dischage _and_ channel routing models. Since we'll only be dealing with the hillslope part of the process in this example, we'll simplify the notation. "
   ]
  },
  {
   "cell_type": "code",
   "execution_count": 3,
   "metadata": {
    "collapsed": false
   },
   "outputs": [],
   "source": [
    "start_date = model_config['start_date']\n",
    "stop_date = model_config['stop_date']\n",
    "spinup_date = model_config['spinup_date']\n",
    "Tmax = model_config['Tmax']\n",
    "dt = model_config['dt_hillslope']\n",
    "resample_freq_hillslope = model_config['resample_freq_hillslope']\n",
    "Tmax = model_config['Tmax']\n",
    "timestamps_hillslope = pd.date_range(start_date, stop_date, freq=resample_freq_hillslope)\n",
    "t = np.linspace(0,Tmax,np.ceil(Tmax/dt)+1)"
   ]
  },
  {
   "cell_type": "markdown",
   "metadata": {},
   "source": [
    "With the forcing data, REW parameterizations, and overarching model description in hand, we're finally ready to run the model. We assume that in terms of hillslope discharge, no REW depends on any other, and so we can simply simulate discharge sequentially along the list of REW groups. For each REW group, we\n",
    "\n",
    "* Instantiate a `REW` instance using the parameterization provided in `parameter_group_params`. For each REW group, the appropriate parameter group ID is located in `rew_config[REW ID]['parameter_group']`;\n",
    "* Intialize empty vadose zone and groundwater zone stocks, as well as empty time series related to the major fluxes of each zone;\n",
    "* Populate the attributes of both the vadose and groundwater zones. At REW instantiation, both the vadose zone and groundwater zone are empty. Therefore, the `parameter_group_params` dictionary **must** specify all quantities necessary for model execution, and these quantities must have the same variable name in both `parameter_group_params` and the corresponding model class; \n",
    "* Resample forcing data at the hillslope discharge simulation timescale, which is specified in `model_config`; The forcing data corresponds to the climate group forcing data associated with the overarching REW group. \n",
    "* Simulate hillslope discharge at each time specified in the `t_hillsope` field of `model_config`;\n",
    "* Store the flux and stock time series data in a Pandas data frame for each REW group, and bundle these Pandas data frames into a dictionary of solved hillslopes indexed by its group ID;\n",
    "* Save these solved hillslopes to the pickle file `solved_group_hillslopes` in the `model_data folder`."
   ]
  },
  {
   "cell_type": "code",
   "execution_count": 5,
   "metadata": {
    "collapsed": false,
    "scrolled": true
   },
   "outputs": [
    {
     "name": "stdout",
     "output_type": "stream",
     "text": [
      "Solving 3 hillslope models...\n",
      "\n",
      "Solving 3 hillslope models...\n",
      "\n"
     ]
    }
   ],
   "source": [
    "group_ids = list(set([rew_config[i]['group'] for i in rew_config.keys()]))\n",
    "solved_group_hillslopes_dict = {}\n",
    "import copy\n",
    "print('Solving %s hillslope models...\\n'%(len(group_ids)))\n",
    "ETR_list = []\n",
    "ETS_list = []\n",
    "for parameter_group_params in best_params_list_pref:\n",
    "    if parameter_group_params[1]['zrR']*parameter_group_params[1]['nR']*(parameter_group_params[1]['stR'] - parameter_group_params[1]['s0R'])<0:\n",
    "        continue\n",
    "    for group_id in group_ids:\n",
    "\n",
    "        parameter_group_id = group_id[0]\n",
    "        climate_group_id = group_id[1]\n",
    "\n",
    "        vz = parameter_group_params[parameter_group_id]['vz'](**parameter_group_params[parameter_group_id])\n",
    "        gz = parameter_group_params[parameter_group_id]['gz'](**parameter_group_params[parameter_group_id])    \n",
    "\n",
    "        rew = REW(vz, gz,  **{'pet':climate_group_forcing[climate_group_id].pet, 'ppt':climate_group_forcing[climate_group_id].ppt, 'aspect':90})\n",
    "\n",
    "        storageVZ       = np.zeros(np.size(t))\n",
    "        storageGZ       = np.zeros(np.size(t))\n",
    "        discharge       = np.zeros(np.size(t))\n",
    "        leakage         = np.zeros(np.size(t))\n",
    "        ET              = np.zeros(np.size(t))\n",
    "        ETR              = np.zeros(np.size(t))\n",
    "        ETS              = np.zeros(np.size(t))\n",
    "        overlandFlow    = np.zeros(np.size(t))\n",
    "\n",
    "        # Resample pet and ppt to integration timestep\n",
    "        ppt = np.array(rew.ppt[start_date:stop_date].resample(resample_freq_hillslope).ffill())\n",
    "        pet = np.array(rew.pet[start_date:stop_date].resample(resample_freq_hillslope).ffill())\n",
    "\n",
    "        # Solve group hillslope\n",
    "        for i in range(len(t)):\n",
    "            storageVZ[i] = rew.vz.storageVZ\n",
    "            rew.vz.update(dt,**{'ppt':ppt[i],'pet':pet[i]})\n",
    "            leakage[i]      = rew.vz.leakage\n",
    "            ET[i]           = rew.vz.ET\n",
    "\n",
    "            storageGZ[i] = rew.gz.storageGZ\n",
    "            rew.gz.update(dt,**{'leakage':leakage[i]})\n",
    "            discharge[i] = rew.gz.discharge\n",
    "            overlandFlow[i] = rew.vz.overlandFlow + rew.gz.overlandFlow\n",
    "            try: \n",
    "                ETR[i] = rew.vz.ETR\n",
    "                ETS[i] = rew.vz.ETS\n",
    "            except:\n",
    "                continue\n",
    "\n",
    "        # Save all results as daily data. \n",
    "        solved_hillslope = pd.DataFrame({'storageGZ':storageGZ, 'leakage':leakage, 'ET':ET, 'storageVZ':storageVZ, 'discharge':discharge, 'overlandFlow':overlandFlow, 'ETR':ETR, 'ETS':ETS, 'ppt':ppt}, index=timestamps_hillslope)\n",
    "        stores = ['storageGZ','storageVZ']\n",
    "        df = pd.DataFrame()\n",
    "        for col in solved_hillslope.columns:\n",
    "            if col in stores:\n",
    "                df[col] = solved_hillslope[col].resample('D').first()\n",
    "            else:\n",
    "                df[col] = solved_hillslope[col].resample('D').apply(sum)*dt\n",
    "        solved_group_hillslopes_dict[group_id] = df\n",
    "    ETR_list.append(solved_hillslope.ETR.loc[spinup_date:stop_date].resample('D').mean())\n",
    "    ETS_list.append(solved_hillslope.ETS.loc[spinup_date:stop_date].resample('D').mean())\n",
    "    \n",
    "dfrlist = []\n",
    "for i, df in enumerate(ETR_list):\n",
    "    dfr = pd.DataFrame(df.tolist(), columns=['ET [cm]'], index=df.index)\n",
    "    dfr = dfr.resample('M').sum()\n",
    "    dfr['month'] = dfr.index.month\n",
    "    dfr['layer'] = 'rock'\n",
    "    dfr['model'] = 'Preferential flow'\n",
    "    dfrlist.append(dfr)\n",
    "\n",
    "\n",
    "dfslist = []\n",
    "for i, df in enumerate(ETS_list):\n",
    "    dfs = pd.DataFrame(df.tolist(), columns=['ET [cm]'], index=df.index)\n",
    "    dfs = dfs.resample('M').sum()\n",
    "    dfs['month'] = dfs.index.month\n",
    "    dfs['layer'] = 'soil'\n",
    "    dfs['model'] = 'Preferential flow'\n",
    "    dfslist.append(dfs)\n",
    "    \n",
    "dfr = pd.concat(dfrlist, axis=0)\n",
    "dfs = pd.concat(dfslist, axis=0)\n",
    "df = pd.concat([dfr, dfs], axis=0)\n",
    "df_pref = copy.deepcopy(df)\n",
    "\n",
    "solved_group_hillslopes_dict = {}\n",
    "\n",
    "print('Solving %s hillslope models...\\n'%(len(group_ids)))\n",
    "ETR_list = []\n",
    "ETS_list = []\n",
    "for parameter_group_params in best_params_list_nopref:\n",
    "    if parameter_group_params[1]['zrR']*parameter_group_params[1]['nR']*(parameter_group_params[1]['stR'] - parameter_group_params[1]['s0R'])<0:\n",
    "        continue\n",
    "    for group_id in group_ids:\n",
    "\n",
    "        parameter_group_id = group_id[0]\n",
    "        climate_group_id = group_id[1]\n",
    "\n",
    "        vz = parameter_group_params[parameter_group_id]['vz'](**parameter_group_params[parameter_group_id])\n",
    "        gz = parameter_group_params[parameter_group_id]['gz'](**parameter_group_params[parameter_group_id])    \n",
    "\n",
    "        rew = REW(vz, gz,  **{'pet':climate_group_forcing[climate_group_id].pet, 'ppt':climate_group_forcing[climate_group_id].ppt, 'aspect':90})\n",
    "\n",
    "        storageVZ       = np.zeros(np.size(t))\n",
    "        storageGZ       = np.zeros(np.size(t))\n",
    "        discharge       = np.zeros(np.size(t))\n",
    "        leakage         = np.zeros(np.size(t))\n",
    "        ET              = np.zeros(np.size(t))\n",
    "        ETR              = np.zeros(np.size(t))\n",
    "        ETS              = np.zeros(np.size(t))\n",
    "        overlandFlow    = np.zeros(np.size(t))\n",
    "\n",
    "        # Resample pet and ppt to integration timestep\n",
    "        ppt = np.array(rew.ppt[start_date:stop_date].resample(resample_freq_hillslope).ffill())\n",
    "        pet = np.array(rew.pet[start_date:stop_date].resample(resample_freq_hillslope).ffill())\n",
    "\n",
    "        # Solve group hillslope\n",
    "        for i in range(len(t)):\n",
    "            storageVZ[i] = rew.vz.storageVZ\n",
    "            rew.vz.update(dt,**{'ppt':ppt[i],'pet':pet[i]})\n",
    "            leakage[i]      = rew.vz.leakage\n",
    "            ET[i]           = rew.vz.ET\n",
    "\n",
    "            storageGZ[i] = rew.gz.storageGZ\n",
    "            rew.gz.update(dt,**{'leakage':leakage[i]})\n",
    "            discharge[i] = rew.gz.discharge\n",
    "            overlandFlow[i] = rew.vz.overlandFlow + rew.gz.overlandFlow\n",
    "            try: \n",
    "                ETR[i] = rew.vz.ETR\n",
    "                ETS[i] = rew.vz.ETS\n",
    "            except:\n",
    "                continue\n",
    "\n",
    "        # Save all results as daily data. \n",
    "        solved_hillslope = pd.DataFrame({'storageGZ':storageGZ, 'leakage':leakage, 'ET':ET, 'storageVZ':storageVZ, 'discharge':discharge, 'overlandFlow':overlandFlow, 'ETR':ETR, 'ETS':ETS, 'ppt':ppt}, index=timestamps_hillslope)\n",
    "        stores = ['storageGZ','storageVZ']\n",
    "        df = pd.DataFrame()\n",
    "        for col in solved_hillslope.columns:\n",
    "            if col in stores:\n",
    "                df[col] = solved_hillslope[col].resample('D').first()\n",
    "            else:\n",
    "                df[col] = solved_hillslope[col].resample('D').apply(sum)*dt\n",
    "        solved_group_hillslopes_dict[group_id] = df\n",
    "    ETR_list.append(solved_hillslope.ETR.loc[spinup_date:stop_date].resample('D').mean())\n",
    "    ETS_list.append(solved_hillslope.ETS.loc[spinup_date:stop_date].resample('D').mean())\n",
    "    \n",
    "dfrlist = []\n",
    "for i, df in enumerate(ETR_list):\n",
    "    dfr = pd.DataFrame(df.tolist(), columns=['ET [cm]'], index=df.index)\n",
    "    dfr = dfr.resample('M').sum()\n",
    "    dfr['month'] = dfr.index.month\n",
    "    dfr['layer'] = 'rock'\n",
    "    dfr['model'] = 'No preferential flow'\n",
    "    dfrlist.append(dfr)\n",
    "\n",
    "\n",
    "dfslist = []\n",
    "for i, df in enumerate(ETS_list):\n",
    "    dfs = pd.DataFrame(df.tolist(), columns=['ET [cm]'], index=df.index)\n",
    "    dfs = dfs.resample('M').sum()\n",
    "    dfs['month'] = dfs.index.month\n",
    "    dfs['layer'] = 'soil'\n",
    "    dfs['model'] = 'No preferential flow'\n",
    "    dfslist.append(dfs)\n",
    "    \n",
    "dfr = pd.concat(dfrlist, axis=0)\n",
    "dfs = pd.concat(dfslist, axis=0)\n",
    "df_nopref = pd.concat([dfr, dfs], axis=0)\n",
    "df = pd.concat([df_pref, df_nopref], axis=0)"
   ]
  },
  {
   "cell_type": "code",
   "execution_count": 6,
   "metadata": {
    "collapsed": false
   },
   "outputs": [
    {
     "data": {
      "image/png": "[encoded data removed]",
      "text/plain": [
       "<matplotlib.figure.Figure at 0x11d78dd10>"
      ]
     },
     "metadata": {},
     "output_type": "display_data"
    },
    {
     "data": {
      "image/png": "[encoded data removed]",
      "text/plain": [
       "<matplotlib.figure.Figure at 0x12087ffd0>"
      ]
     },
     "metadata": {},
     "output_type": "display_data"
    }
   ],
   "source": [
    "\n",
    "sns.set(style=\"darkgrid\", font_scale=1.5)\n",
    "\n",
    "# Draw a nested boxplot to show bills by day and sex\n",
    "plt.figure(figsize=(8,5))\n",
    "# sns.boxplot(x=\"month\", y=\"ET [cm]\", hue=\"layer\", data=df, palette=\"PRGn\", fliersize=0,width=.2, hue_order=['soil', 'rock'], whis=0)\n",
    "ax = sns.boxplot(x=\"month\", y=\"ET [cm]\", hue=\"layer\", data=df.loc[df.model=='Preferential flow'], palette=\"PRGn\",hue_order=['soil', 'rock'], fliersize=0)\n",
    "sns.despine(offset=10, trim=True)\n",
    "plt.tight_layout()\n",
    "ax.set_ylabel('ET [cm]')\n",
    "ylocs = np.arange(0,11)\n",
    "ax.set_yticks(ylocs)\n",
    "ax.set_ylim([-0.5, 10])\n",
    "plt.savefig('/Users/daviddralle/Desktop/soil_rock_pref.pdf')\n",
    "\n",
    "\n",
    "\n",
    "sns.set(style=\"darkgrid\", font_scale=1.5)\n",
    "\n",
    "# Draw a nested boxplot to show bills by day and sex\n",
    "plt.figure(figsize=(8,5))\n",
    "# sns.boxplot(x=\"month\", y=\"ET [cm]\", hue=\"layer\", data=df, palette=\"PRGn\", fliersize=0,width=.2, hue_order=['soil', 'rock'], whis=0)\n",
    "ax = sns.boxplot(x=\"month\", y=\"ET [cm]\", hue=\"layer\", data=df.loc[df.model=='No preferential flow'], palette=\"PRGn\",hue_order=['soil', 'rock'], fliersize=0)\n",
    "sns.despine(offset=10, trim=True)\n",
    "plt.tight_layout()\n",
    "ax.set_ylabel('ET [cm]')\n",
    "ylocs = np.arange(0,11)\n",
    "ax.set_yticks(ylocs)\n",
    "ax.set_ylim([-0.5, 10])\n",
    "plt.savefig('/Users/daviddralle/Desktop/soil_rock_nopref.pdf')\n",
    "\n",
    "    "
   ]
  },
  {
   "cell_type": "code",
   "execution_count": 11,
   "metadata": {
    "collapsed": false
   },
   "outputs": [
    {
     "data": {
      "image/png": "[encoded data removed]",
      "text/plain": [
       "<matplotlib.figure.Figure at 0x1211cbe10>"
      ]
     },
     "metadata": {},
     "output_type": "display_data"
    }
   ],
   "source": [
    "sns.set(style='darkgrid', font_scale=1.0)\n",
    "store_list_pref = []\n",
    "for item in best_params_list_pref:\n",
    "    store_list_pref.append(item[1]['zrR']*item[1]['nR']*(item[1]['stR'] - item[1]['s0R']))\n",
    "\n",
    "store_list_nopref = []\n",
    "for item in best_params_list_nopref:\n",
    "    if item[1]['zrR']*item[1]['nR']*(item[1]['stR'] - item[1]['s0R'])>0:\n",
    "        store_list_nopref.append(item[1]['zrR']*item[1]['nR']*(item[1]['stR'] - item[1]['s0R']))\n",
    "df1 = pd.DataFrame({'storage':store_list_nopref, 'model':'No preferential flow'})\n",
    "df2 = pd.DataFrame({'storage':store_list_pref, 'model':'Preferential flow'})\n",
    "df_store = pd.concat([df1, df2], axis=0)\n",
    "plt.figure(figsize=(3.5,5))\n",
    "ax = sns.boxplot(x=\"model\", y=\"storage\", data=df_store, fliersize=0,  palette=\"Spectral\")\n",
    "ax.set_ylabel('Rock storage potential [cm]')\n",
    "ax.set_xlabel('')\n",
    "plt.tight_layout()\n",
    "plt.savefig('/Users/daviddralle/Desktop/storage_potential.pdf')"
   ]
  },
  {
   "cell_type": "code",
   "execution_count": 12,
   "metadata": {
    "collapsed": false
   },
   "outputs": [],
   "source": [
    "# calibration_data_filename = 'elder_runoff.p'\n",
    "# total_area = 0\n",
    "# for rew_id in rew_config.keys():\n",
    "#     total_area += rew_config[rew_id]['area_sqkm']\n",
    "\n",
    "# name = 'discharge'\n",
    "# solved_watershed = pd.DataFrame({name:np.zeros(len(timestamps_hillslope))}, index=timestamps_hillslope).resample('D').mean()\n",
    "\n",
    "# solved_watershed_array = np.zeros(int(len(solved_watershed)))\n",
    "# for rew_id in rew_config.keys():\n",
    "#     solved_watershed_array += rew_config[rew_id]['area_sqkm']/total_area*(solved_group_hillslopes_dict[rew_config[rew_id]['group']]['discharge'] + solved_group_hillslopes_dict[rew_config[rew_id]['group']]['overlandFlow'])\n",
    "\n",
    "# solved_watershed[name] = solved_watershed_array\n",
    "\n",
    "\n",
    "# sns.set(font_scale=1.5)\n",
    "# data_df = pickle.load( open( os.path.join(parent_dir, 'calibration_data', calibration_data_filename), 'rb'))\n",
    "# data_runoff_df = data_df['runoff'][start_date:stop_date]\n",
    "# data_runoff = np.array(data_df['runoff'][start_date:stop_date])\n",
    "# outflows_df = pd.DataFrame({ 'data':data_runoff,'modeled':solved_watershed[name]}, index = data_runoff_df.index)\n",
    "# f, (ax1) = plt.subplots(1,figsize=(12,4))\n",
    "# ax1.plot(outflows_df[['data','modeled']].loc[start_date:stop_date])\n",
    "# ax1.set_ylabel('q [cm/day]')\n",
    "# plt.yscale('log')\n",
    "# # plt.ylim([1e-3,1e1])\n",
    "# plt.xlim([spinup_date, stop_date])\n",
    "# ax1.legend(['observed', 'modeled'], loc='best')\n",
    "# plt.tight_layout()\n",
    "# plt.savefig('/Users/daviddralle/Desktop/elder.pdf')"
   ]
  },
  {
   "cell_type": "code",
   "execution_count": 9,
   "metadata": {
    "collapsed": false
   },
   "outputs": [
    {
     "name": "stdout",
     "output_type": "stream",
     "text": [
      "Objective function value of 0.69\n"
     ]
    }
   ],
   "source": [
    "# def objective_function(modeled, observed):\n",
    "#     inds = ((observed > 0.05))\n",
    "#     if np.sum(modeled)<0.01:\n",
    "#         return -9999.0\n",
    "#     elif np.isnan(np.sum(modeled)):\n",
    "#         return -9999.0\n",
    "#     else:\n",
    "#         return 1-np.sum((np.log(observed.loc[inds])-np.log(modeled.loc[inds]))**2)/np.sum((np.log(observed.loc[inds])-np.mean(np.log(observed.loc[inds])))**2)\n",
    "\n",
    "\n",
    "# # def objective_function(modeled, observed):\n",
    "    \n",
    "# #     inds = ((modeled != 0) & (observed != 0))\n",
    "# #     inds[-1] = False\n",
    "# #     if np.sum(modeled)<0.01:\n",
    "# #         return -9999.0\n",
    "# #     elif np.isnan(np.sum(modeled)):\n",
    "# #         return -9999.0\n",
    "# #     else:\n",
    "# #         return 1-np.sum((np.log(observed.loc[inds])-np.log(modeled.loc[inds]))**2)/np.sum((np.log(observed.loc[inds])-np.mean(np.log(observed.loc[inds])))**2)\n",
    "\n",
    "# #     inds = ((modeled != 0) & (observed != 0))\n",
    "# #     inds[-1] = False\n",
    "# #     if np.sum(modeled)<0.01:\n",
    "# #         return -9999.0\n",
    "# #     elif np.sum(np.isnan(modeled))>0:\n",
    "# #         return -9999.0\n",
    "# #     else:\n",
    "# #         return 1-np.sum((observed.loc[inds]-modeled.loc[inds])**2)/np.sum((observed.loc[inds]-np.mean(observed.loc[inds]))**2)\n",
    "\n",
    "# modeled = outflows_df.modeled.loc[spinup_date:stop_date]\n",
    "# observed = outflows_df.data.loc[spinup_date:stop_date]\n",
    "# print('Objective function value of %.2f'%(objective_function(modeled, observed)))"
   ]
  },
  {
   "cell_type": "code",
   "execution_count": 8,
   "metadata": {
    "collapsed": false
   },
   "outputs": [],
   "source": [
    "# for groupid in solved_group_hillslopes_dict.keys():\n",
    "#     df = solved_group_hillslopes_dict[groupid]; dtt = 1\n",
    "#     # df = solved_hillslope; dtt = dt\n",
    "\n",
    "#     cumPpt = np.array(np.cumsum(df.ppt)*dtt)\n",
    "#     cumDis = np.array(np.cumsum(df.discharge)*dtt)\n",
    "#     cumOverland = np.array(np.cumsum(df.overlandFlow)*dtt)\n",
    "#     cumET = np.array(np.cumsum(df.ET)*dtt)\n",
    "\n",
    "#     S0 = df.storageGZ[0] + df.storageVZ[0]\n",
    "#     totalIn = cumPpt\n",
    "#     S = np.array(df.storageGZ + df.storageVZ)\n",
    "#     totalOut = cumET + cumDis + cumOverland\n",
    "#     balance = (totalIn[:-1] - totalOut[:-1] + S0)/S[1:]\n",
    "\n",
    "#     #should be 1 at all times\n",
    "# #     plt.plot(balance)\n",
    "#     print(groupid)\n",
    "#     print(np.max(balance))\n",
    "#     print(np.min(balance))\n",
    "#     # plt.plot(np.array(df.discharge))\n",
    "#     # plt.xlim([1500,1700])"
   ]
  },
  {
   "cell_type": "code",
   "execution_count": 9,
   "metadata": {
    "collapsed": false
   },
   "outputs": [
    {
     "data": {
      "text/html": [
       "<script>requirejs.config({paths: { 'plotly': ['https://cdn.plot.ly/plotly-latest.min']},});if(!window.Plotly) {{require(['plotly'],function(plotly) {window.Plotly=plotly;});}}</script>"
      ],
      "text/plain": [
       "<IPython.core.display.HTML object>"
      ]
     },
     "metadata": {},
     "output_type": "display_data"
    }
   ],
   "source": [
    "# For Elder\n",
    "from plotly import __version__\n",
    "from plotly.offline import download_plotlyjs, init_notebook_mode, plot, iplot\n",
    "import plotly.graph_objs as go\n",
    "init_notebook_mode(connected=True)\n",
    "\n",
    "\n",
    "\n",
    "# import plotly as py\n",
    "# py.tools.set_credentials_file(username='dralle', api_key='YZcW9d4szfskAMgbbIwN')\n",
    "# import plotly.plotly as py\n",
    "# import plotly.graph_objs as go\n",
    "# outflows_df = solved_group_hillslopes_dict[(1,3)]\n",
    "\n",
    "# totalPpt = outflows_df.ppt.loc['7-2014':'7-2015'].sum()*1.0\n",
    "# labels = ['Subsurface flow', 'ET','Overland flow']\n",
    "# fracs = []\n",
    "\n",
    "\n",
    "# fracs.append((100*outflows_df.discharge.loc['7-2014':'7-2015'].sum()/totalPpt))\n",
    "# fracs.append((100*outflows_df.ET.loc['7-2014':'7-2015'].sum()/totalPpt))\n",
    "# fracs.append(100 - fracs[0] - fracs[1])\n",
    "\n",
    "\n",
    "# fig = {\n",
    "#   \"data\": [\n",
    "#     {\n",
    "#       \"values\": fracs,\n",
    "#       \"marker\": {'colors': ['rgb(40, 114, 200)','rgb(63, 158, 78)','rgb(129, 180, 250)']},\n",
    "#       \"labels\": labels,\n",
    "#       \"text\": {\"size\":20},\n",
    "#       \"domain\": {\"x\": [.1, 1]},\n",
    "#       \"name\": \"Melange\",\n",
    "#       \"hoverinfo\":\"label+percent+name\",\n",
    "#       \"hole\": .4,\n",
    "#       \"type\": \"pie\"\n",
    "#     }],\n",
    "#   \"layout\": {\n",
    "#         \"title\":\"Melange - Hydrologic partitioning\",\n",
    "#         \"annotations\": [\n",
    "#             {\n",
    "#                 \"font\": {\n",
    "#                     \"size\": 20\n",
    "#                 },\n",
    "#                 \"showarrow\": False,\n",
    "#                 \"text\": \"Effective\\nrainfall\",\n",
    "#                 \"x\": 0.55,\n",
    "#                 \"y\": 0.5\n",
    "#             }\n",
    "#         ]\n",
    "#     }\n",
    "# }\n",
    "# py.iplot(fig)"
   ]
  },
  {
   "cell_type": "code",
   "execution_count": 10,
   "metadata": {
    "collapsed": false
   },
   "outputs": [],
   "source": [
    "# # For Melange\n",
    "# import plotly as py\n",
    "# py.tools.set_credentials_file(username='dralle', api_key='YZcW9d4szfskAMgbbIwN')\n",
    "# import plotly.plotly as py\n",
    "# import plotly.graph_objs as go\n",
    "# outflows_df = solved_group_hillslopes_dict[(2,1)]\n",
    "\n",
    "# totalPpt = outflows_df.ppt.loc['12-2015':'12-2016'].sum()*1.0\n",
    "# labels = ['Subsurface flow', 'ET','Overland flow']\n",
    "# fracs = []\n",
    "\n",
    "\n",
    "# fracs.append((100*outflows_df.discharge.loc['7-2014':'7-2015'].sum()/totalPpt))\n",
    "# fracs.append((100*outflows_df.ET.loc['7-2014':'7-2015'].sum()/totalPpt))\n",
    "# fracs.append(100 - fracs[0] - fracs[1])\n",
    "\n",
    "\n",
    "# fig = {\n",
    "#   \"data\": [\n",
    "#     {\n",
    "#       \"values\": fracs,\n",
    "#       \"marker\": {'colors': ['rgb(40, 114, 200)','rgb(63, 158, 78)','rgb(129, 180, 250)']},\n",
    "#       \"labels\": labels,\n",
    "#       \"text\": {\"size\":20},\n",
    "#       \"domain\": {\"x\": [.1, 1]},\n",
    "#       \"name\": \"Melange\",\n",
    "#       \"hoverinfo\":\"label+percent+name\",\n",
    "#       \"hole\": .4,\n",
    "#       \"type\": \"pie\"\n",
    "#     }],\n",
    "#   \"layout\": {\n",
    "#         \"title\":\"Melange - Hydrologic partitioning\",\n",
    "#         \"annotations\": [\n",
    "#             {\n",
    "#                 \"font\": {\n",
    "#                     \"size\": 20\n",
    "#                 },\n",
    "#                 \"showarrow\": False,\n",
    "#                 \"text\": \"Effective\\nrainfall\",\n",
    "#                 \"x\": 0.55,\n",
    "#                 \"y\": 0.5\n",
    "#             }\n",
    "#         ]\n",
    "#     }\n",
    "# }\n",
    "# py.iplot(fig)"
   ]
  }
 ],
 "metadata": {
  "anaconda-cloud": {},
  "kernelspec": {
   "display_name": "Python [conda env:py2k_model]",
   "language": "python",
   "name": "conda-env-py2k_model-py"
  },
  "language_info": {
   "codemirror_mode": {
    "name": "ipython",
    "version": 2
   },
   "file_extension": ".py",
   "mimetype": "text/x-python",
   "name": "python",
   "nbconvert_exporter": "python",
   "pygments_lexer": "ipython2",
   "version": "2.7.12"
  }
 },
 "nbformat": 4,
 "nbformat_minor": 0
}
