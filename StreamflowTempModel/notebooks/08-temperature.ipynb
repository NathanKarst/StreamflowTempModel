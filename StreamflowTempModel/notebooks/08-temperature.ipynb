{
 "cells": [
  {
   "cell_type": "markdown",
   "metadata": {
    "deletable": true,
    "editable": true
   },
   "source": [
    "# Temperature Tutorial"
   ]
  },
  {
   "cell_type": "markdown",
   "metadata": {
    "deletable": true,
    "editable": true
   },
   "source": [
    "In this tutorial, we'll run through the basics of generating stream temperature time series predictions. We'll assume that we've already [extracted a collection of representative elementary watersheds (REWs)](network_extraction.ipynb), [paramterized and configured the REWs](parameterize_and_configure.ipynb), [generated hillslope discharge time series](hillslope_discharge.ipynb), and [routed discharge through the channel network](channel_routing.ipynb). "
   ]
  },
  {
   "cell_type": "code",
   "execution_count": 1,
   "metadata": {
    "collapsed": false,
    "deletable": true,
    "editable": true
   },
   "outputs": [],
   "source": [
    "from matplotlib import pyplot as plt\n",
    "import matplotlib \n",
    "%matplotlib inline\n",
    "import pandas as pd\n",
    "import geopandas as gp\n",
    "import gdal\n",
    "import os\n",
    "import datetime\n",
    "from datetime import timedelta\n",
    "import numpy as np\n",
    "import fiona\n",
    "import shapely\n",
    "from shapely import geometry\n",
    "from os.path import dirname\n",
    "import random\n",
    "import glob\n",
    "import seaborn\n",
    "import sys\n",
    "import pickle\n",
    "from functools import partial\n",
    "import seaborn as sns\n",
    "parent_dir = dirname(dirname(os.getcwd()))\n",
    "sys.path.append(os.path.join(parent_dir,'StreamflowTempModel','lib'))\n",
    "sys.path.append(os.path.join(parent_dir,'StreamflowTempModel','4_temperature'))\n",
    "sys.path.append(os.path.join(parent_dir,'StreamflowTempModel','3_channel_routing'))\n",
    "sys.path.append(os.path.join(parent_dir,'StreamflowTempModel','1_data_preparation'))\n",
    "from temperature import LagrangianSimpleTemperatureChengHeatedGW, ImplicitEulerWesthoff\n",
    "from channel import TrapezoidalChannel\n",
    "import meteolib as meteo\n",
    "import evaplib as evap\n",
    "\n",
    "# in case any parameters changed\n",
    "from prep import rew_params\n",
    "rew_params()\n",
    "from prep import model_config\n",
    "model_config()"
   ]
  },
  {
   "cell_type": "code",
   "execution_count": 2,
   "metadata": {
    "collapsed": true,
    "deletable": true,
    "editable": true
   },
   "outputs": [],
   "source": [
    "try:\n",
    "    basins = glob.glob(os.path.join(parent_dir,'raw_data','basins_poly','*.shp'))[0]\n",
    "except RuntimeError:\n",
    "    print('Cannot find basins shapefile. Please make sure basins shapefile is located in \\n the model directory under /raw_data/basins_poly')"
   ]
  },
  {
   "cell_type": "markdown",
   "metadata": {
    "deletable": true,
    "editable": true
   },
   "source": [
    "We first need to gain access to all of the parameterization, configuration, hillslope discharge, and routed channel flow data that we've already generated. "
   ]
  },
  {
   "cell_type": "code",
   "execution_count": 3,
   "metadata": {
    "collapsed": false,
    "deletable": true,
    "editable": true
   },
   "outputs": [],
   "source": [
    "rew_config = pd.read_pickle(os.path.join(parent_dir,'model_data','rew_config.p') )\n",
    "climate_group_forcing = pd.read_pickle(os.path.join(parent_dir,'model_data','climate_group_forcing.p') )\n",
    "model_config = pd.read_pickle(os.path.join(parent_dir, 'model_data', 'model_config.p'))\n",
    "\n",
    "temperature_parameter_group_params = pd.read_pickle(os.path.join(parent_dir, 'model_data', 'temperature_parameter_group_params.p'))\n",
    "temperature_parameter_ranges = pd.read_pickle(os.path.join(parent_dir, 'model_data', 'temperature_parameter_ranges.p'))\n",
    "\n",
    "\n",
    "# temperature_params = pd.read_pickle(os.path.join(parent_dir, 'model_data', 'temperature_params.p'))\n",
    "# temperature_params_ranges = pd.read_pickle(os.path.join(parent_dir, 'model_data', 'temperature_params_ranges.p'))\n",
    "\n",
    "solved_channel_routing = pd.read_pickle(os.path.join(parent_dir,'model_data','solved_channel_routing.p'))\n",
    "hill_groups = pd.read_pickle(os.path.join(parent_dir,'model_data','solved_hillslope_discharge.p'))\n",
    "channel_params = pd.read_pickle(os.path.join(parent_dir,'model_data','channel_params.p'))\n",
    "radiation = pd.read_pickle(os.path.join(parent_dir, 'raw_data', 'radiation', 'radiation.p'))\n",
    "ta_ea = pd.read_pickle(os.path.join(parent_dir, 'raw_data', 'ta_ea', 'ta_ea.p'))\n",
    "# wind = pd.read_pickle(os.path.join(parent_dir, 'raw_data', 'wind', 'wind.p'))\n",
    "\n",
    "#start/stop dates for running model  \n",
    "#spinup date is the date after start_date for which we assume model is finished spinning up         \n",
    "start_date = model_config['start_date']\n",
    "stop_date = model_config['stop_date']\n",
    "spinup_date = model_config['spinup_date']\n",
    "Tmax = model_config['Tmax']\n",
    "dt = model_config['dt_temperature']\n",
    "resample_freq_channel = model_config['resample_freq_channel']\n",
    "resample_freq_hillslope = model_config['resample_freq_hillslope']\n",
    "resample_freq_temperature = model_config['resample_freq_temperature']\n",
    "t = np.linspace(0,Tmax,int(np.ceil(Tmax/dt))+1)\n",
    "timestamps_hillslope = pd.date_range(start_date, stop_date, freq=resample_freq_hillslope)\n",
    "timestamps_channel = pd.date_range(start_date, stop_date, freq=resample_freq_channel)\n",
    "timestamps_temperature = pd.date_range(start_date, stop_date, freq=resample_freq_temperature)"
   ]
  },
  {
   "cell_type": "markdown",
   "metadata": {
    "deletable": true,
    "editable": true
   },
   "source": [
    "With these basic data now loaded, we can instantiate both the channel network and the temperature networks. "
   ]
  },
  {
   "cell_type": "code",
   "execution_count": 4,
   "metadata": {
    "collapsed": false,
    "deletable": true,
    "editable": true
   },
   "outputs": [],
   "source": [
    "channel_network = {}\n",
    "for rew_id in rew_config.keys(): \n",
    "    args = rew_config[rew_id].copy()\n",
    "    args.update(channel_params[rew_id])\n",
    "    channel_network[rew_id] = args['model'](rew_id=rew_id, **args)\n",
    "\n",
    "temperature_network = {}\n",
    "for rew_id in rew_config.keys(): \n",
    "    parameter_group = rew_config[rew_id]['parameter_group']\n",
    "    args = rew_config[rew_id].copy()\n",
    "    args.update(temperature_parameter_group_params[parameter_group])\n",
    "    temperature_network[rew_id] = args['model'](rew_id=rew_id, **args)\n",
    "    "
   ]
  },
  {
   "cell_type": "markdown",
   "metadata": {
    "deletable": true,
    "editable": true
   },
   "source": [
    "We simulate the temperature time series beginning with the headwaters, i.e. those with Shreve index 1. These temperature time series are then used as boundary conditions for streams with higher Shreve. "
   ]
  },
  {
   "cell_type": "code",
   "execution_count": 5,
   "metadata": {
    "collapsed": false,
    "deletable": true,
    "editable": true
   },
   "outputs": [
    {
     "name": "stdout",
     "output_type": "stream",
     "text": [
      "Solve REWs in this order:\n",
      "[1, 2, 3]\n",
      "Working on REW 1\n",
      "Working on REW 2\n",
      "Working on REW 3\n"
     ]
    }
   ],
   "source": [
    "#Find REW with largest total contributing area\n",
    "outlet_id = [item for item in rew_config.keys()][0]\n",
    "area_max = rew_config[outlet_id]['upstream_area']\n",
    "for rew_id in rew_config.keys():\n",
    "    if rew_config[rew_id]['upstream_area']>area_max:\n",
    "        outlet_id = rew_id\n",
    "\n",
    "rew_ids = rew_config.keys()\n",
    "shreves = [rew_config[rew_id]['shreve'] for rew_id in rew_ids]\n",
    "rewQueue = [rew_id for (shreve,rew_id) in sorted(zip(shreves,rew_ids))]\n",
    "network_temps = {}\n",
    "network_airtemp = {}\n",
    "print(\"Solve REWs in this order:\")\n",
    "print(rewQueue)\n",
    "\n",
    "for rew_id in rewQueue:\n",
    "    print('Working on REW ' + str(rew_id))\n",
    "    shreve  = rew_config[rew_id]['shreve']\n",
    "    group_id = rew_config[rew_id]['group']\n",
    "    climate_group_id = group_id[1]\n",
    "    rew_df = climate_group_forcing[climate_group_id]\n",
    "    length = channel_network[rew_id].length\n",
    "    lpi = rew_config[rew_id]['lpi']\n",
    "    \n",
    "    Lin = np.array(radiation[rew_id]['Lin'][start_date:stop_date].resample(resample_freq_temperature).interpolate())\n",
    "    Sin = np.array(radiation[rew_id]['Sin'][start_date:stop_date].resample(resample_freq_temperature).interpolate())\n",
    "    doy = np.array(radiation[rew_id]['doy'][start_date:stop_date].resample(resample_freq_temperature).ffill())\n",
    "    \n",
    "    temp_ea = ta_ea[rew_id].resample(resample_freq_temperature).interpolate()\n",
    "#     wnd = wind[rew_id].resample(resample_freq_temperature).interpolate()\n",
    "    ppt_daily = climate_group_forcing[climate_group_id][start_date:stop_date].ppt\n",
    "    ppt = np.array(climate_group_forcing[climate_group_id][start_date:stop_date].ppt.resample(resample_freq_temperature).ffill())\n",
    "    ta = np.array(temp_ea['ta'][start_date:stop_date])\n",
    "    ta_mean = np.array(temp_ea['tmean'][start_date:stop_date])\n",
    "    ea = np.array(temp_ea['ea'][start_date:stop_date])\n",
    "\n",
    "    hillslope_discharge = pd.DataFrame({'discharge':hill_groups[group_id]['discharge']}, index=hill_groups[group_id].index)\n",
    "    hillslope_overlandFlow = pd.DataFrame({'overlandFlow':hill_groups[group_id]['overlandFlow']}, index=hill_groups[group_id].index)\n",
    "    \n",
    "    hillslope_volumetric_overlandFlow = np.array(hillslope_overlandFlow[start_date:stop_date].overlandFlow.resample(resample_freq_temperature).ffill())*rew_config[rew_id]['area_sqcm']\n",
    "    hillslope_volumetric_discharge = np.array(hillslope_discharge[start_date:stop_date].discharge.resample(resample_freq_temperature).ffill())*rew_config[rew_id]['area_sqcm']\n",
    "    hillslope_volumetric_discharge_daily = hillslope_discharge[start_date:stop_date].discharge*rew_config[rew_id]['area_sqcm']\n",
    "    \n",
    "    width = np.array(solved_channel_routing[rew_id][start_date:stop_date].width.resample(resample_freq_temperature).ffill())\n",
    "    u = np.array(solved_channel_routing[rew_id][start_date:stop_date].u.resample(resample_freq_temperature).ffill())\n",
    "    depth = np.array(solved_channel_routing[rew_id][start_date:stop_date].depth.resample(resample_freq_temperature).ffill())\n",
    "\n",
    "    volumetric_discharge = np.array(solved_channel_routing[rew_id][start_date:stop_date].volumetric_discharge.resample(resample_freq_temperature).ffill())\n",
    "    volumetric_discharge_daily = solved_channel_routing[rew_id][start_date:stop_date].volumetric_discharge\n",
    "    temp = np.zeros(np.shape(t))\n",
    "    \n",
    "    #get upstream discharges, upstream temperatures\n",
    "\n",
    "    if shreve == 1:\n",
    "        vol_1 = np.zeros(np.shape(t))\n",
    "        vol_2 = np.zeros(np.shape(t))\n",
    "\n",
    "        temp_1 = np.zeros(np.shape(t))\n",
    "        temp_2 = np.zeros(np.shape(t))\n",
    "    else:\n",
    "        upstream_1 = rew_config[rew_id]['prev_str01']\n",
    "        upstream_2 = rew_config[rew_id]['prev_str02']\n",
    "\n",
    "        vol_1 = np.array(solved_channel_routing[upstream_1][start_date:stop_date].volumetric_discharge.resample(resample_freq_temperature).ffill())\n",
    "        vol_2 = np.array(solved_channel_routing[upstream_2][start_date:stop_date].volumetric_discharge.resample(resample_freq_temperature).ffill())\n",
    "        \n",
    "        temp_1 = np.array(network_temps[upstream_1].temperature)\n",
    "        temp_2 = np.array(network_temps[upstream_2].temperature)\n",
    "\n",
    "    \n",
    "    tgw = np.zeros(np.shape(t))\n",
    "    ta_mean_func = np.zeros(np.shape(t))\n",
    "\n",
    "    # Now get volumes in channel link. \n",
    "    volume = np.array(solved_channel_routing[rew_id][start_date:stop_date].volumes.resample(resample_freq_temperature).interpolate())\n",
    "    start_temp_model = int(1/dt*(len(pd.date_range(start_date,spinup_date))-365))\n",
    "    for i in range(len(t)):\n",
    "        if i<start_temp_model:\n",
    "            temp[i] = temperature_network[rew_id].temperature\n",
    "        else:\n",
    "            varyArgs = ['u','width','ta_mean','vol_1','temp_1','vol_2','temp_2','hillslope_volumetric_discharge', 'hillslope_volumetric_overlandFlow', 'volumetric_discharge', 'volume', 'ta', 'Lin', 'Sin', 'ppt', 'ea', 'doy']\n",
    "            constArgs = ['length', 'lpi']\n",
    "\n",
    "            tempArgs = {}\n",
    "            for arg in varyArgs: tempArgs[arg] = locals()[arg][i]\n",
    "            for arg in constArgs: tempArgs[arg] = locals()[arg]\n",
    "\n",
    "            temp[i]=temperature_network[rew_id].temperature\n",
    "            (tgw[i], ta_mean_func[i]) = temperature_network[rew_id].update(dt, **tempArgs)\n",
    "    \n",
    "    network_airtemp[rew_id] = pd.DataFrame({'ta':ta, 'ppt':ppt, 'tgw':tgw, 'ta_mean_func':ta_mean_func}, index=timestamps_temperature)\n",
    "    network_temps[rew_id] = pd.DataFrame({'temperature':temp},index=timestamps_temperature)"
   ]
  },
  {
   "cell_type": "code",
   "execution_count": 6,
   "metadata": {
    "collapsed": true,
    "deletable": true,
    "editable": true
   },
   "outputs": [],
   "source": [
    "def objective_function(modeled, observed):\n",
    "    modeled = modeled.resample('D').mean()\n",
    "    observed = observed.resample('D').mean()\n",
    "    inds = ((modeled != 0) & (observed != 0))#&((modeled.index.month>=5)&(modeled.index.month<=9))\n",
    "    if np.sum(modeled)<0.01:\n",
    "        return -9999.0\n",
    "    elif np.isnan(np.sum(modeled)):\n",
    "        return -9999.0\n",
    "    else:\n",
    "        return 1-np.sum((observed.loc[inds]-modeled.loc[inds])**2)/np.sum((observed.loc[inds]-np.mean(observed.loc[inds]))**2)"
   ]
  },
  {
   "cell_type": "code",
   "execution_count": 7,
   "metadata": {
    "collapsed": false,
    "deletable": true,
    "editable": true
   },
   "outputs": [
    {
     "name": "stdout",
     "output_type": "stream",
     "text": [
      "0.667487327861\n"
     ]
    },
    {
     "data": {
      "image/png": "[encoded data removed]",
      "text/plain": [
       "<Figure size 504x360 with 3 Axes>"
      ]
     },
     "metadata": {
      "needs_background": "light"
     },
     "output_type": "display_data"
    }
   ],
   "source": [
    "resample_freq = 'D'\n",
    "temp_data = pd.read_pickle(os.path.join(parent_dir, 'calibration_data', 'elder_temperature.p'))\n",
    "modeled = network_temps[3].temperature.resample(resample_freq).mean().loc[spinup_date:stop_date]\n",
    "modeled2 = network_temps[2].temperature.resample(resample_freq).mean().loc[spinup_date:stop_date]\n",
    "\n",
    "observed = temp_data.temperature.resample(resample_freq).mean().loc[spinup_date:stop_date]\n",
    "f, (ax1, ax2) = plt.subplots(2,figsize=(7,5))\n",
    "ax1.plot(modeled.loc[spinup_date:stop_date])\n",
    "ax1.plot(observed.loc[spinup_date:stop_date])\n",
    "ax1.legend(['model','observe'])\n",
    "\n",
    "# ax1.plot(network_airtemp[3].tgw,alpha=0.2)\n",
    "# ax1.plot(network_airtemp[3].ta_mean_func,alpha=0.2)\n",
    "# ax1.legend(['model','observe', 'tgw', 'ta_mean'])\n",
    "\n",
    "print(objective_function(modeled, observed))\n",
    "ax2.set_title('Channel hydro', fontsize=12)\n",
    "ax1.set_title('Channel temps (validation period)', fontsize=12)\n",
    "\n",
    "ax2.plot(solved_channel_routing[rew_id][start_date:stop_date].depth, '--k', label='Average channel depth [cm]')\n",
    "ax2.plot(solved_channel_routing[rew_id][start_date:stop_date].width, '-.k', label='Average channel width [cm]')\n",
    "ax3 = ax2.twinx()\n",
    "ax3.plot(solved_channel_routing[rew_id][start_date:stop_date].u/(100*86400), '--r', label='Average channel velocity [m/s]')\n",
    "ax2.plot(0,0, '--r', label='Average channel velocity [m/s]')\n",
    "ax3.tick_params(axis='y', colors='red')\n",
    "\n",
    "ax2.legend()\n",
    "ax1.set_ylabel('Temp [C]')\n",
    "ax1.set_ylim([0,20])\n",
    "ax1.set_xlim(['10-2015', '9-2017'])\n",
    "ax2.set_xlim(['10-2015', '9-2017'])\n",
    "f.tight_layout()\n",
    "# f.savefig('/Users/daviddralle/Desktop/test.pdf')"
   ]
  },
  {
   "cell_type": "code",
   "execution_count": null,
   "metadata": {},
   "outputs": [],
   "source": [
    "resample_freq = 'D'\n",
    "temp_data = pd.read_pickle(os.path.join(parent_dir, 'calibration_data', 'elder_temperature.p'))\n",
    "modeled = network_temps[3].temperature.resample(resample_freq).mean().loc[spinup_date:stop_date]\n",
    "modeled2 = network_temps[2].temperature.resample(resample_freq).mean().loc[spinup_date:stop_date]\n",
    "\n",
    "observed = temp_data.temperature.resample(resample_freq).mean().loc[spinup_date:stop_date]\n",
    "f, (ax1, ax2) = plt.subplots(2,figsize=(7,5))\n",
    "ax1.plot(modeled.loc[spinup_date:stop_date])\n",
    "ax1.plot(observed.loc[spinup_date:stop_date])\n",
    "ax1.legend(['model','observe'])\n",
    "\n",
    "# ax1.plot(network_airtemp[3].tgw,alpha=0.2)\n",
    "# ax1.plot(network_airtemp[3].ta_mean_func,alpha=0.2)\n",
    "# ax1.legend(['model','observe', 'tgw', 'ta_mean'])\n",
    "\n",
    "print(objective_function(modeled, observed))\n",
    "ax2.set_title('Channel hydro', fontsize=12)\n",
    "ax1.set_title('Channel temps (validation period)', fontsize=12)\n",
    "\n",
    "ax2.plot(solved_channel_routing[rew_id][start_date:stop_date].depth, '--k', label='Average channel depth [cm]')\n",
    "ax2.plot(solved_channel_routing[rew_id][start_date:stop_date].width, '-.k', label='Average channel width [cm]')\n",
    "ax3 = ax2.twinx()\n",
    "ax3.plot(solved_channel_routing[rew_id][start_date:stop_date].u/(100*86400), '--r', label='Average channel velocity [m/s]')\n",
    "ax2.plot(0,0, '--r', label='Average channel velocity [m/s]')\n",
    "ax3.tick_params(axis='y', colors='red')\n",
    "\n",
    "ax2.legend()\n",
    "ax1.set_ylabel('Temp [C]')\n",
    "ax1.set_ylim([0,20])\n",
    "ax1.set_xlim(['10-2015', '-2016'])\n",
    "ax2.set_xlim(['10-2015', '-2016'])\n",
    "f.tight_layout()\n",
    "# f.savefig('/Users/daviddralle/Desktop/test.pdf')"
   ]
  },
  {
   "cell_type": "code",
   "execution_count": null,
   "metadata": {},
   "outputs": [],
   "source": [
    "resample_freq = 'D'\n",
    "temp_data = pd.read_pickle(os.path.join(parent_dir, 'calibration_data', 'branscomb_temperature.p'))\n",
    "modeled = network_temps[19].temperature.resample(resample_freq).mean().loc[spinup_date:stop_date]\n",
    "modeled2 = network_temps[2].temperature.resample(resample_freq).mean().loc[spinup_date:stop_date]\n",
    "\n",
    "observed = temp_data.temperature.resample(resample_freq).mean().loc[spinup_date:stop_date]\n",
    "f, (ax1, ax2) = plt.subplots(2,figsize=(7,5))\n",
    "ax1.plot(modeled.loc[spinup_date:stop_date])\n",
    "ax1.plot(observed.loc[spinup_date:stop_date])\n",
    "# ax1.plot(modeled2.loc[spinup_date:stop_date])\n",
    "\n",
    "ax1.legend(['model','observe'])\n",
    "\n",
    "# ax1.plot(network_airtemp[3].tgw,alpha=0.2)\n",
    "# ax1.plot(network_airtemp[3].ta_mean_func,alpha=0.2)\n",
    "# ax1.legend(['model','observe', 'tgw', 'ta_mean'])\n",
    "\n",
    "print(objective_function(modeled, observed))\n",
    "ax2.set_title('Channel hydro', fontsize=12)\n",
    "ax1.set_title('Channel temps (validation period)', fontsize=12)\n",
    "\n",
    "ax2.plot(solved_channel_routing[rew_id][start_date:stop_date].depth, '--k', label='Average channel depth [cm]')\n",
    "# ax2.plot(solved_channel_routing[rew_id][start_date:stop_date].width/100.0, '-.k', label='Average channel width [m]')\n",
    "ax3 = ax2.twinx()\n",
    "ax3.plot(solved_channel_routing[rew_id][start_date:stop_date].u/(100*86400), '--r', label='Average channel velocity [m/s]')\n",
    "ax2.plot(0,0, '--r', label='Average channel velocity [m/s]')\n",
    "ax3.tick_params(axis='y', colors='red')\n",
    "\n",
    "ax2.legend()\n",
    "ax1.set_ylabel('Temp [C]')\n",
    "ax1.set_ylim([0,20])\n",
    "ax1.set_xlim(['12-2015', '8-2016'])\n",
    "ax2.set_xlim(['12-2015', '8-2016'])\n",
    "f.tight_layout()\n",
    "f.savefig('/Users/daviddralle/Desktop/test.pdf')"
   ]
  },
  {
   "cell_type": "code",
   "execution_count": 9,
   "metadata": {
    "collapsed": false,
    "deletable": true,
    "editable": true
   },
   "outputs": [],
   "source": [
    "# # check balance of an individual channel \n",
    "# network_volumetric_discharges = pickle.load( open( os.path.join(parent_dir,'model_data','solved_channel_routing.p'), \"rb\" ) )\n",
    "\n",
    "# rew=3\n",
    "# stream = network_volumetric_discharges[rew].volumes\n",
    "# length = channel_network[rew].length\n",
    "# width = channel_network[rew].width\n",
    "# area = length*width\n",
    "# group = rew_config[rew]['group']\n",
    "# climate_group_id = group_id[1]\n",
    "# ppt = climate_group_forcing[climate_group_id][start_date:stop_date].ppt*area \n",
    "# hillslope_discharge = pd.DataFrame({'discharge':hill_groups[group_id]['discharge']}, index=hill_groups[group_id].index)\n",
    "# hillslope_overlandFlow = pd.DataFrame({'overlandFlow':hill_groups[group_id]['overlandFlow']}, index=hill_groups[group_id].index)\n",
    "# hillslope_discharge['discharge'] = hillslope_discharge['discharge'] + hillslope_overlandFlow['overlandFlow']\n",
    "# hillslope_volumetric_discharge = hillslope_discharge[start_date:stop_date].discharge*rew_config[rew]['area_sqcm']\n",
    "\n",
    "\n",
    "# outDis = network_volumetric_discharges[rew].volumetric_discharge\n",
    "# cumOutDis = outDis.cumsum() \n",
    "\n",
    "# upstream_1 = rew_config[rew]['prev_str01']\n",
    "# upstream_2 = rew_config[rew]['prev_str02']\n",
    "# try:\n",
    "#     vol_1 = network_volumetric_discharges[upstream_1].volumetric_discharge#.resample(resample_freq_channel).ffill()\n",
    "#     vol_2 = network_volumetric_discharges[upstream_2].volumetric_discharge#.resample(resample_freq_channel).ffill()\n",
    "#     inDis = vol_1 + vol_2 + hillslope_volumetric_discharge\n",
    "# except:\n",
    "#     inDis = hillslope_volumetric_discharge\n",
    "        \n",
    "\n",
    "# cumInDis = inDis.cumsum()\n",
    "\n",
    "# cumPpt = ppt.cumsum()\n",
    "\n",
    "\n",
    "# S0 = stream[0] + cumOutDis[0] - cumPpt[0] - cumInDis[0]\n",
    "# totalIn = cumPpt + cumInDis\n",
    "# S =  stream\n",
    "# totalOut = cumOutDis\n",
    "# balance = (totalIn - totalOut + S0)/S\n",
    "# plt.plot(balance[0:-2])\n",
    "# plt.ylim([0,1.1])\n",
    "# print(np.max(balance[0:-2]))\n",
    "# print(np.min(balance[0:-2]))"
   ]
  },
  {
   "cell_type": "code",
   "execution_count": 10,
   "metadata": {
    "collapsed": false,
    "deletable": true,
    "editable": true
   },
   "outputs": [],
   "source": [
    "\n",
    "# rew = 3\n",
    "# group_id = rew_config[rew]['group']\n",
    "# climate_group_id = group_id[1]\n",
    "# network_volumetric_discharges = pickle.load( open( os.path.join(parent_dir,'model_data','solved_channel_routing.p'), \"rb\" ) )\n",
    "\n",
    "# # volume in outlet rew stream\n",
    "# stream = network_volumetric_discharges[rew].volumes.resample(resample_freq_temperature).interpolate()\n",
    "# width = network_volumetric_discharges[rew].width[0]\n",
    "# length = network_volumetric_discharges[rew].length[0]\n",
    "\n",
    "# # volumetric discharge leaving rew stream\n",
    "# volumetric_discharge = network_volumetric_discharges[rew].volumetric_discharge.resample(resample_freq_temperature).bfill()\n",
    "\n",
    "# # precip on channel\n",
    "# area = width*length\n",
    "# ppt = climate_group_forcing[climate_group_id][start_date:stop_date].ppt.resample(resample_freq_temperature).bfill()*area \n",
    "\n",
    "# # incoming hillslope discharge \n",
    "# hillslope_discharge = pd.DataFrame({'discharge':hill_groups[group_id]['discharge']}, index=hill_groups[group_id].index)\n",
    "# hillslope_volumetric_discharge = hillslope_discharge[start_date:stop_date].discharge.resample(resample_freq_temperature).bfill()*rew_config[rew]['area_sqcm']\n",
    "\n",
    "# # volumetric discharges from upstream\n",
    "# upstream_1 = rew_config[rew]['prev_str01']\n",
    "# upstream_2 = rew_config[rew]['prev_str02']            \n",
    "# vol_1 = network_volumetric_discharges[upstream_1].volumetric_discharge.resample(resample_freq_temperature).bfill()\n",
    "# vol_2 = network_volumetric_discharges[upstream_2].volumetric_discharge.resample(resample_freq_temperature).bfill()\n",
    "                                          \n",
    "# cumPpt = np.cumsum(ppt)*dt\n",
    "# cumInDis = np.cumsum(vol_1 + vol_2 + hillslope_volumetric_discharge)*dt\n",
    "# cumOutDis = np.cumsum(volumetric_discharge)*dt\n",
    "\n",
    "# S0 = stream[0] - cumInDis[0] + cumOutDis[0] - cumPpt[0]\n",
    "# S = stream\n",
    "# totalIn = cumPpt + cumInDis\n",
    "# totalOut = cumOutDis\n",
    "# balance = (totalIn - totalOut + S0)/S\n",
    "# print(np.max(balance[0:-int(1/dt)]))\n",
    "# print(np.min(balance[0:-int(1/dt)]))\n",
    "# plt.plot(balance[0:-int(1/dt)])"
   ]
  },
  {
   "cell_type": "code",
   "execution_count": null,
   "metadata": {
    "collapsed": true,
    "deletable": true,
    "editable": true
   },
   "outputs": [],
   "source": []
  }
 ],
 "metadata": {
  "anaconda-cloud": {},
  "kernelspec": {
   "display_name": "py3k",
   "language": "python",
   "name": "py3k"
  },
  "language_info": {
   "codemirror_mode": {
    "name": "ipython",
    "version": 3
   },
   "file_extension": ".py",
   "mimetype": "text/x-python",
   "name": "python",
   "nbconvert_exporter": "python",
   "pygments_lexer": "ipython3",
   "version": "3.5.5"
  }
 },
 "nbformat": 4,
 "nbformat_minor": 2
}
