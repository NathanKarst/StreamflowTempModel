{
 "cells": [
  {
   "cell_type": "markdown",
   "metadata": {
    "deletable": true,
    "editable": true
   },
   "source": [
    "# Configuration and parameterization tutorial\n",
    "\n",
    "This notebook outlines the steps required to generate the files used to configure the [vadose](../docs/_build/html/vadoseZone.html), [groundwater](../docs/_build/html/groundwaterZone.html), and [channel](../docs/_build/html/channel.html) zones associated with each [REW](../docs/_build/html/REW.html)."
   ]
  },
  {
   "cell_type": "code",
   "execution_count": 1,
   "metadata": {
    "collapsed": true,
    "deletable": true,
    "editable": true
   },
   "outputs": [],
   "source": [
    "%matplotlib inline\n",
    "import os\n",
    "import sys\n",
    "from os.path import dirname\n",
    "import pickle\n",
    "import gdal\n",
    "import fiona\n",
    "import glob\n",
    "import shapely\n",
    "import pandas as pd\n",
    "import numpy as np\n",
    "from matplotlib import pyplot as plt\n",
    "from matplotlib import pylab\n",
    "import geopandas as gp\n",
    "import seaborn as sns\n",
    "import pyproj\n",
    "parent_dir = dirname(dirname(os.getcwd()))\n",
    "sys.path.append(os.path.join(parent_dir,'StreamflowTempModel','1_data_preparation'))\n",
    "sys.path.append(os.path.join(parent_dir,'StreamflowTempModel','2_hillslope_discharge'))\n",
    "from vadoseZone import LaioVadoseZone, PorporatoVadoseZone, PorporatoPreferentialVadoseZone, SimpleRockMoistureZone\n",
    "from groundwaterZone import GroundwaterZone, NonlinearReservoir, NonlinearReservoir, TwoLinearReservoir, Melange, TwoParallelLinearReservoir"
   ]
  },
  {
   "cell_type": "markdown",
   "metadata": {
    "deletable": true,
    "editable": true
   },
   "source": [
    "This tutorial assumes that an REW network has previously been extracted using the network extraction GRASS tool provided in the data preparation folder. Instructions for running this tool can be found in the [GRASS GIS tutorial](). \n",
    "\n",
    "Three python files are used for model configuration and parameterization, all of which can be found in the `1_data_preparation` directory of the model folder. \n",
    "\n",
    "##  1. Prepare model configuration - `model_config`\n",
    "\n",
    "This configuration script can be edited to change the particulars of models' numerical solvers, as well as the start and stop dates for running the model. Simply run the script to write the configuration data to a file. "
   ]
  },
  {
   "cell_type": "code",
   "execution_count": 2,
   "metadata": {
    "collapsed": true,
    "deletable": true,
    "editable": true
   },
   "outputs": [],
   "source": [
    "from prep import model_config\n",
    "model_config()\n",
    "model_config = pd.read_pickle(os.path.join(parent_dir,'model_data','model_config.p'))"
   ]
  },
  {
   "cell_type": "markdown",
   "metadata": {
    "deletable": true,
    "editable": true
   },
   "source": [
    "Keys of the model configuration dictionary include:\n",
    "* `start_date` (datetime instance): Start date for running model\n",
    "* `stop_date` (datetime instance): Stop date for running model\n",
    "* `spinup_date` (datetime instance): Date after which model has spun up. Only calibrate model after this date.\n",
    "* `Tmax` (float): Number of days of simulation\n",
    "* `dt_hillslope` (float): Hillslope simulation timestep in days\n",
    "* `dt_channel` (float): Channel simulation timestep in days\n",
    "* `resample_freq_hillslope` (float): Frequency at which to resample forcing data depending on timestep to solve the hillslope model\n",
    "* `resample_freq_channel` (float): Frequency at which to resample forcing data depending on timestep to solve the channel model\n",
    "* `timestamps_hillslope` (datetimes): Times at which to simulate hillslope dynamics\n",
    "* `timestamps_channel` (datetimes): Times at which to simulate channel dynamics\n",
    "\n",
    "To change any of these model configuration variables, use your favorite text editor to alter their values in the `prep_model_config.py` file, then re-run the script. \n",
    "\n",
    "There are some restrictions on allowable values of these configuration variables. All model time units are expressed in days, and the minimum model timestep is one minute, therefore, `dt_hillslope` and `dt_channel` must be greater than or equal to $\\frac{1}{1440}$ days. \n",
    "\n",
    "The `spinup_date` is a user specified date after which initial model solution transients can be considered negligible. This date is important for calibration, as the model is only calibrated using model generated data after `spinup_date`. The model itself, however, is run from `start_date` to `stop_date`."
   ]
  },
  {
   "cell_type": "code",
   "execution_count": 3,
   "metadata": {
    "collapsed": false,
    "deletable": true,
    "editable": true
   },
   "outputs": [
    {
     "name": "stdout",
     "output_type": "stream",
     "text": [
      "\n",
      "Model run start date is: 2015-12-01 \n",
      "Model is spun up after: 2016-10-01 \n",
      "Model run end date is: 2018-03-30\n"
     ]
    }
   ],
   "source": [
    "print(\"\\nModel run start date is: %s \\nModel is spun up after: %s \\nModel run end date is: %s\" % (str(model_config['start_date']), str(model_config['spinup_date']), str(model_config['stop_date'])))"
   ]
  },
  {
   "cell_type": "markdown",
   "metadata": {
    "deletable": true,
    "editable": true
   },
   "source": [
    "## 2. Scraping REW Topology and Geometry - `rew_config.py`\n",
    "\n",
    "This python script converts GIS data related to stream network topology and physical characteristics (see [GRASS GIS tutorial]()) into a Pandas dataframe that is written to `rew_config.p` in the `model_data directory`. "
   ]
  },
  {
   "cell_type": "code",
   "execution_count": 4,
   "metadata": {
    "collapsed": false,
    "deletable": true,
    "editable": true
   },
   "outputs": [
    {
     "name": "stdout",
     "output_type": "stream",
     "text": [
      "Watershed with REW sub-basins. \n",
      "All stream network information is stored in rew_config.p.\n",
      "e.g., streams 1 and 2 feed into stream 3.\n"
     ]
    },
    {
     "data": {
      "image/png": "[encoded data removed]",
      "text/plain": [
       "<Figure size 432x288 with 1 Axes>"
      ]
     },
     "metadata": {},
     "output_type": "display_data"
    }
   ],
   "source": [
    "from prep import rew_config\n",
    "rew_config()\n",
    "\n",
    "rew_config = pd.read_pickle(os.path.join(parent_dir,'model_data','rew_config.p'))\n",
    "basins = glob.glob(os.path.join(parent_dir,'raw_data','basins_poly','*.shp'))[0]\n",
    "basins_shape = gp.GeoDataFrame.from_file(basins)\n",
    "basins_shape['coords'] = basins_shape['geometry'].apply(lambda x: x.representative_point().coords[:])\n",
    "basins_shape['coords'] = [coords[0] for coords in basins_shape['coords']]\n",
    "\n",
    "cs = sns.color_palette('bright',len(basins_shape)+1)\n",
    "ax1 = basins_shape.plot(color=cs)\n",
    "for idx, row in basins_shape.iterrows():\n",
    "    print_str = 'REW' + str(row['cat'])\n",
    "    plt.annotate(s=print_str, xy=row['coords'],\n",
    "                 horizontalalignment='center',fontsize=10)\n",
    "\n",
    "streams = glob.glob(os.path.join(parent_dir,'raw_data','streams_poly','*.shp'))[0]\n",
    "streams_shape = gp.GeoDataFrame.from_file(streams)\n",
    "streams_shape.plot(ax=ax1,color=cs[-1])\n",
    "\n",
    "ax1.get_xaxis().set_ticks([])\n",
    "ax1.get_yaxis().set_ticks([])\n",
    "ax1.patch.set_facecolor('white')\n",
    "rew_id = max(rew_config.keys())\n",
    "prev_str01 = str(int(rew_config[rew_id]['prev_str01']))\n",
    "prev_str02 = str(int(rew_config[rew_id]['prev_str02']))\n",
    "title_str = 'Watershed with REW sub-basins. \\n'\n",
    "title_str += 'All stream network information is stored in rew_config.p.\\n'\n",
    "title_str += (\"e.g., streams %s and %s feed into stream %s.\" % (prev_str01,prev_str02,rew_id))\n",
    "print(title_str)"
   ]
  },
  {
   "cell_type": "markdown",
   "metadata": {
    "deletable": true,
    "editable": true
   },
   "source": [
    "## 3. Parameterize the Model - `rew_params`\n",
    "\n",
    "### - The parameter list\n",
    "\n",
    "This final script writes into `model_data` the parameter set for each REW [channel](../docs/_build/html/channel.html) instance, as well as for each unique REW *parameter group*. A REW *parameter group* is a collection of REWs which share physiographic features and are thus parameterized with identical data. Parameter groups are determined using the raster located at `/raw_data/paramter_groups/parameter_groups.tif`. This raster must be in place for the model to run. REWs may also be distributed amongst *climate groups*. A *climate group* is a collection of REWs which share climatic features and are thus forced with identical data. If a climate groups raster is found at `/raw_data/climate_groups/climate_groups.tif`, then climate groups are assigned according to this raster. For REWs which share both a *parameter group* and a *climate group*, only a single instance of the hillslope module will need to be solved; this potentially decreases the computational demand of the model. REWs that share both climate and parameter groups are deemed part of the same *group*. \n",
    "\n",
    "The user will determine the manner in which REWs are distributed amongst climate and parameter groups. For heterogeneous watersheds, it may be beneficial to lump REWs into the same parameter group if the REWs share similiar critical zone architecture and vegetation cover. "
   ]
  },
  {
   "cell_type": "code",
   "execution_count": 5,
   "metadata": {
    "collapsed": false,
    "deletable": true,
    "editable": true
   },
   "outputs": [
    {
     "name": "stdout",
     "output_type": "stream",
     "text": [
      "\n",
      "Parameter group 2 requires specification of the following parameters/variables: \n",
      "gz, b, capacity, a, storageVZ, eta, vz, smax, storageGZ\n",
      "\n"
     ]
    }
   ],
   "source": [
    "from prep import rew_params\n",
    "rew_params()\n",
    "\n",
    "channel_params = pd.read_pickle(os.path.join(parent_dir,'model_data','channel_params.p'))\n",
    "parameter_group_params = pd.read_pickle(os.path.join(parent_dir,'model_data','parameter_group_params.p'))\n",
    "\n",
    "for parameter_group_number in parameter_group_params.keys():\n",
    "    len_group = len(parameter_group_params[parameter_group_number])\n",
    "    parameter_list = [param for param in parameter_group_params[parameter_group_number].keys()]\n",
    "    print_str = \"\\nParameter group \" + str(parameter_group_number) + \" requires specification of the following parameters/variables: \\n\"\n",
    "    print_str += \", \".join(parameter_list)\n",
    "    print(print_str + '\\n')\n"
   ]
  },
  {
   "cell_type": "markdown",
   "metadata": {
    "deletable": true,
    "editable": true
   },
   "source": [
    "### - Model structure for each parameter group\n",
    "\n",
    "In addition to model parameterization, model structure can be changed between REW parameter groups. For each parameter group in the `parameter_group_params` dictionary, classes for both the vadose zone model (dictionary key `vz`) and the groundwater zone model (dictionary key `gz`) must be specified. In this way, groundwater and vadose zone representations can vary across the landscape. "
   ]
  },
  {
   "cell_type": "code",
   "execution_count": 6,
   "metadata": {
    "collapsed": false,
    "deletable": true,
    "editable": true
   },
   "outputs": [
    {
     "name": "stdout",
     "output_type": "stream",
     "text": [
      "\n",
      "Parameter group 2 consists of a <class 'vadoseZone.PorporatoVadoseZone'> vadose zone model \n",
      "and a <class 'groundwaterZone.Melange'> groundwater zone model.\n",
      "\n"
     ]
    }
   ],
   "source": [
    "for parameter_group_number in parameter_group_params.keys():\n",
    "    vz = str(parameter_group_params[parameter_group_number]['vz'])\n",
    "    gz = str(parameter_group_params[parameter_group_number]['gz'])\n",
    "    print_str = \"\\nParameter group \" + str(parameter_group_number) + \" consists of a \" + vz + \" vadose zone model \\n\"\n",
    "    print_str += \"and a \" + gz + \" groundwater zone model.\"\n",
    "    print(print_str + '\\n')"
   ]
  },
  {
   "cell_type": "markdown",
   "metadata": {
    "deletable": true,
    "editable": true
   },
   "source": [
    "\n",
    "\n",
    "### - Specify parameter ranges\n",
    "\n",
    "To facilitate model calibration, realistic parameter ranges can optionally be specified using the `param_ranges` dictionary. Only parameters with specified ranges will be calibrated, others will remain set to the initial value specified in `parameter_group_params` or `channel_params`. "
   ]
  },
  {
   "cell_type": "code",
   "execution_count": 7,
   "metadata": {
    "collapsed": false,
    "deletable": true,
    "editable": true
   },
   "outputs": [
    {
     "name": "stdout",
     "output_type": "stream",
     "text": [
      "\n",
      "The parameter 'eta' from parameter group 2 will be sampled from the interval (0.5, 1.0) during calibration.\n",
      "\n"
     ]
    }
   ],
   "source": [
    "parameter_ranges = pd.read_pickle(os.path.join(parent_dir,'model_data','parameter_ranges.p'))\n",
    "try: \n",
    "    for parameter_group_number in list(parameter_group_params):\n",
    "        parameter_name = list(parameter_ranges[parameter_group_number])[0]\n",
    "        parameter_range = parameter_ranges[parameter_group_number][parameter_name]\n",
    "        print_str = \"\\nThe parameter '\" + parameter_name + \"' from parameter group \" + str(parameter_group_number) + \" will be sampled from the interval \" + str(parameter_range) + \" during calibration.\"\n",
    "        print(print_str + '\\n')\n",
    "except:\n",
    "    print('No calibration parameters were specified. Do not run any calibration notebooks.')"
   ]
  }
 ],
 "metadata": {
  "anaconda-cloud": {},
  "kernelspec": {
   "display_name": "py3k",
   "language": "python",
   "name": "py3k"
  },
  "language_info": {
   "codemirror_mode": {
    "name": "ipython",
    "version": 3
   },
   "file_extension": ".py",
   "mimetype": "text/x-python",
   "name": "python",
   "nbconvert_exporter": "python",
   "pygments_lexer": "ipython3",
   "version": "3.5.5"
  }
 },
 "nbformat": 4,
 "nbformat_minor": 2
}
