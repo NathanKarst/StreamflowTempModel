{
 "cells": [
  {
   "cell_type": "markdown",
   "metadata": {},
   "source": [
    "# LPI Tutorial\n",
    "\n",
    "Get mean LPI for each REW channel"
   ]
  },
  {
   "cell_type": "code",
   "execution_count": 2,
   "metadata": {
    "collapsed": false
   },
   "outputs": [],
   "source": [
    "from matplotlib import pyplot as plt\n",
    "import matplotlib \n",
    "%matplotlib inline\n",
    "import pandas as pd\n",
    "import gdal\n",
    "import os\n",
    "import datetime\n",
    "from datetime import timedelta\n",
    "import numpy as np\n",
    "import fiona\n",
    "import shapely\n",
    "from shapely import geometry\n",
    "from os.path import dirname\n",
    "import glob\n",
    "import sys\n",
    "import pickle\n",
    "from functools import partial\n",
    "import geopandas as gp\n",
    "\n",
    "parent_dir = dirname(dirname(os.getcwd()))\n",
    "sys.path.append(os.path.join(parent_dir,'StreamflowTempModel','lib'))\n",
    "rew_config = pickle.load( open( os.path.join(parent_dir,'model_data','rew_config.p'), \"rb\" ) )\n",
    "import zonal_stats as zs\n",
    "import meteolib as meteo\n",
    "import evaplib as evap\n",
    "sys.path.append(os.path.join(parent_dir,'StreamflowTempModel','lib'))\n",
    "sys.path.append(os.path.join(parent_dir,'StreamflowTempModel','4_temperature'))\n",
    "sys.path.append(os.path.join(parent_dir,'StreamflowTempModel','3_channel_routing'))\n",
    "from temperature import SimpleTemperature\n",
    "from channel import SimpleChannel\n",
    "\n",
    "\n",
    "try:\n",
    "    basins = glob.glob(os.path.join(parent_dir,'raw_data','basins_poly','*.shp'))[0]\n",
    "except RuntimeError:\n",
    "    print 'Cannot find basins shapefile. Please make sure basins shapefile is located in \\n the model directory under /raw_data/basins_poly'\n",
    "basins = gp.read_file(basins)\n",
    "\n",
    "rew_config = pickle.load( open( os.path.join(parent_dir,'model_data','rew_config.p'), \"rb\" ) )\n",
    "climate_group_forcing = pickle.load( open( os.path.join(parent_dir,'model_data','climate_group_forcing.p'), \"rb\" ) )\n",
    "model_config = pickle.load( open( os.path.join(parent_dir, 'model_data', 'model_config.p'), 'rb'))\n",
    "temperature_params = pickle.load( open( os.path.join(parent_dir, 'model_data', 'temperature_params.p'), 'rb'))\n",
    "hill_groups = pickle.load( open( os.path.join(parent_dir,'model_data','solved_hillslope_discharge.p'), \"rb\" ) )\n",
    "solved_channel_routing = pickle.load( open( os.path.join(parent_dir,'model_data','solved_channel_routing.p'), \"rb\" ) )\n",
    "channel_params = pickle.load( open( os.path.join(parent_dir,'model_data','channel_params.p'), \"rb\" ))\n",
    "\n",
    "#start/stop dates for running model  \n",
    "#spinup date is the date after start_date for which we assume model is finished spinning up         \n",
    "start_date = model_config['start_date']\n",
    "stop_date = model_config['stop_date']\n",
    "spinup_date = model_config['spinup_date']\n",
    "Tmax = model_config['Tmax']\n",
    "dt = model_config['dt_temperature']\n",
    "resample_freq_channel = model_config['resample_freq_channel']\n",
    "resample_freq_hillslope = model_config['resample_freq_hillslope']\n",
    "resample_freq_temperature = model_config['resample_freq_temperature']\n",
    "t = np.linspace(0,Tmax,np.ceil(Tmax/dt)+1)\n",
    "timestamps_hillslope = pd.date_range(start_date, stop_date, freq=resample_freq_hillslope)\n",
    "timestamps_channel = pd.date_range(start_date, stop_date, freq=resample_freq_channel)\n",
    "timestamps_temperature = pd.date_range(start_date, stop_date, freq=resample_freq_temperature)\n",
    "\n"
   ]
  },
  {
   "cell_type": "code",
   "execution_count": 4,
   "metadata": {
    "collapsed": false
   },
   "outputs": [],
   "source": [
    "lpi_files = glob.glob(os.path.join('/Volumes/zee_data/lpi','*.tif'))\n",
    "points_file = glob.glob(os.path.join(parent_dir, 'raw_data','streams_points','*.shp'))[0]\n",
    "points = gp.read_file(points_file)\n",
    "\n",
    "mean_lpis = {i:0 for i in basins.cat}\n",
    "for raster_file in lpi_files:\n",
    "    lpis_dict = {i:[] for i in basins.cat}\n",
    "    filename = raster_file.split('/')[-1]\n",
    "    mind = filename.index('m')\n",
    "    month = int(filename[(mind+1):(mind+3)])\n",
    "    # get raster as numpy array\n",
    "    gdata = gdal.Open(raster_file)\n",
    "    gt = gdata.GetGeoTransform()\n",
    "    data = gdata.ReadAsArray().astype(np.float)\n",
    "    \n",
    "    # loop over basins, get points within each basin\n",
    "    for basinindex, basinrow in basins.iterrows():\n",
    "        for index, row in points.iterrows():\n",
    "            if row.geometry.within(basinrow.geometry):\n",
    "                pos = (row.geometry.x, row.geometry.y)\n",
    "                x = int((pos[0] - gt[0])/gt[1])\n",
    "                y = int((pos[1] - gt[3])/gt[5])\n",
    "                lpis_dict[basinrow['cat']].append(data[x,y])\n",
    "    \n",
    "    lpis_means = {i:np.mean(lpis_dict[i]) for i in lpis_dict.keys()}\n",
    "    for basin_index in lpis_means.keys():\n",
    "        mean_lpis[basin_index] = mean_lpis[basin_index] + lpis_means[basin_index]/12.0\n",
    "        \n",
    "pickle.dump(mean_lpis, open(os.path.join(parent_dir, 'raw_data', 'mean_rew_lpis.p'), 'wb'))"
   ]
  },
  {
   "cell_type": "code",
   "execution_count": 5,
   "metadata": {
    "collapsed": false
   },
   "outputs": [
    {
     "data": {
      "text/plain": [
       "{1: 0.10246279145916545, 2: 0.096578969382772273, 3: 0.11468458363149117}"
      ]
     },
     "execution_count": 5,
     "metadata": {},
     "output_type": "execute_result"
    }
   ],
   "source": [
    "mean_lpis"
   ]
  },
  {
   "cell_type": "code",
   "execution_count": 6,
   "metadata": {
    "collapsed": false
   },
   "outputs": [
    {
     "data": {
      "image/svg+xml": [
       "<svg xmlns=\"http://www.w3.org/2000/svg\" xmlns:xlink=\"http://www.w3.org/1999/xlink\" width=\"300\" height=\"300\" viewBox=\"447660.0 4392960.0 3430.0 3780.0\" preserveAspectRatio=\"xMinYMin meet\"><g transform=\"matrix(1,0,0,-1,0,8789700.0)\"><path fill-rule=\"evenodd\" fill=\"#66cc99\" stroke=\"#555555\" stroke-width=\"25.2\" opacity=\"0.6\" d=\"M 448300.0,4396600.0 L 448300.0,4396550.0 L 448350.0,4396550.0 L 448350.0,4396500.0 L 448400.0,4396500.0 L 448450.0,4396500.0 L 448450.0,4396450.0 L 448500.0,4396450.0 L 448500.0,4396400.0 L 448600.0,4396400.0 L 448600.0,4396350.0 L 448700.0,4396350.0 L 448700.0,4396300.0 L 448750.0,4396300.0 L 448750.0,4396150.0 L 448800.0,4396150.0 L 448800.0,4396050.0 L 448850.0,4396050.0 L 448850.0,4395800.0 L 448900.0,4395800.0 L 448900.0,4395750.0 L 449000.0,4395750.0 L 449000.0,4395650.0 L 449050.0,4395650.0 L 449050.0,4395550.0 L 449100.0,4395550.0 L 449100.0,4395400.0 L 449150.0,4395400.0 L 449150.0,4395350.0 L 449550.0,4395350.0 L 449550.0,4395250.0 L 449800.0,4395250.0 L 449800.0,4395300.0 L 449950.0,4395300.0 L 449950.0,4395200.0 L 450050.0,4395200.0 L 450050.0,4395150.0 L 450150.0,4395150.0 L 450150.0,4395050.0 L 450200.0,4395050.0 L 450200.0,4394950.0 L 450500.0,4394950.0 L 450500.0,4395000.0 L 450600.0,4395000.0 L 450600.0,4395050.0 L 450700.0,4395050.0 L 450700.0,4395100.0 L 450750.0,4395100.0 L 450750.0,4394950.0 L 450800.0,4394950.0 L 450800.0,4394800.0 L 450850.0,4394800.0 L 450850.0,4394700.0 L 450900.0,4394700.0 L 450900.0,4394550.0 L 450950.0,4394550.0 L 450950.0,4394450.0 L 450900.0,4394450.0 L 450900.0,4394400.0 L 450800.0,4394400.0 L 450800.0,4394450.0 L 450450.0,4394450.0 L 450450.0,4394250.0 L 450400.0,4394250.0 L 450400.0,4394100.0 L 450350.0,4394100.0 L 450350.0,4393700.0 L 450400.0,4393700.0 L 450400.0,4393650.0 L 450300.0,4393650.0 L 450300.0,4393350.0 L 450350.0,4393350.0 L 450350.0,4393200.0 L 450300.0,4393200.0 L 450300.0,4393150.0 L 450150.0,4393150.0 L 450150.0,4393100.0 L 450100.0,4393100.0 L 450100.0,4393150.0 L 450050.0,4393150.0 L 450050.0,4393200.0 L 449950.0,4393200.0 L 449950.0,4393250.0 L 449850.0,4393250.0 L 449850.0,4393300.0 L 449750.0,4393300.0 L 449750.0,4393350.0 L 449700.0,4393350.0 L 449700.0,4393400.0 L 449300.0,4393400.0 L 449300.0,4393450.0 L 449250.0,4393450.0 L 449250.0,4393550.0 L 449150.0,4393550.0 L 449150.0,4393600.0 L 449100.0,4393600.0 L 449100.0,4393650.0 L 449050.0,4393650.0 L 449050.0,4393700.0 L 449000.0,4393700.0 L 449000.0,4393750.0 L 448950.0,4393750.0 L 448950.0,4393850.0 L 448900.0,4393850.0 L 448900.0,4393950.0 L 448850.0,4393950.0 L 448850.0,4394000.0 L 448800.0,4394000.0 L 448800.0,4394100.0 L 448750.0,4394100.0 L 448750.0,4394250.0 L 448700.0,4394250.0 L 448700.0,4394400.0 L 448650.0,4394400.0 L 448650.0,4394550.0 L 448600.0,4394550.0 L 448600.0,4394600.0 L 448450.0,4394600.0 L 448450.0,4394650.0 L 448350.0,4394650.0 L 448350.0,4394700.0 L 448300.0,4394700.0 L 448300.0,4394750.0 L 448250.0,4394750.0 L 448250.0,4394700.0 L 448100.0,4394700.0 L 448100.0,4394650.0 L 447950.0,4394650.0 L 447950.0,4394700.0 L 447900.0,4394700.0 L 447900.0,4394750.0 L 447850.0,4394750.0 L 447850.0,4394850.0 L 447800.0,4394850.0 L 447800.0,4394900.0 L 447850.0,4394900.0 L 447850.0,4395100.0 L 447900.0,4395100.0 L 447900.0,4395150.0 L 447850.0,4395150.0 L 447850.0,4395750.0 L 447950.0,4395750.0 L 447950.0,4396100.0 L 448000.0,4396100.0 L 448000.0,4396200.0 L 448050.0,4396200.0 L 448050.0,4396500.0 L 448100.0,4396500.0 L 448100.0,4396550.0 L 448250.0,4396550.0 L 448250.0,4396600.0 L 448300.0,4396600.0 z\" /></g></svg>"
      ],
      "text/plain": [
       "<shapely.geometry.polygon.Polygon at 0x118b4f9d0>"
      ]
     },
     "execution_count": 6,
     "metadata": {},
     "output_type": "execute_result"
    }
   ],
   "source": [
    "basinrow.geometry"
   ]
  },
  {
   "cell_type": "code",
   "execution_count": null,
   "metadata": {
    "collapsed": true
   },
   "outputs": [],
   "source": []
  }
 ],
 "metadata": {
  "anaconda-cloud": {},
  "kernelspec": {
   "display_name": "Python [default]",
   "language": "python",
   "name": "python2"
  },
  "language_info": {
   "codemirror_mode": {
    "name": "ipython",
    "version": 2
   },
   "file_extension": ".py",
   "mimetype": "text/x-python",
   "name": "python",
   "nbconvert_exporter": "python",
   "pygments_lexer": "ipython2",
   "version": "2.7.12"
  }
 },
 "nbformat": 4,
 "nbformat_minor": 0
}
