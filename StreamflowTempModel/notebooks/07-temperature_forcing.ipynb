{
 "cells": [
  {
   "cell_type": "markdown",
   "metadata": {},
   "source": [
    "# Temperature Data Extraction Tutorial"
   ]
  },
  {
   "cell_type": "code",
   "execution_count": 1,
   "metadata": {
    "collapsed": false
   },
   "outputs": [
    {
     "name": "stderr",
     "output_type": "stream",
     "text": [
      "/anaconda3/envs/py3k/lib/python3.5/site-packages/ipykernel_launcher.py:58: DeprecationWarning: object of type <class 'numpy.float64'> cannot be safely interpreted as an integer.\n"
     ]
    }
   ],
   "source": [
    "from matplotlib import pyplot as plt\n",
    "import matplotlib \n",
    "%matplotlib inline\n",
    "import pandas as pd\n",
    "import gdal\n",
    "import seaborn as sns\n",
    "import os\n",
    "import datetime\n",
    "from datetime import timedelta\n",
    "import numpy as np\n",
    "import fiona\n",
    "import shapely\n",
    "from shapely import geometry\n",
    "from os.path import dirname\n",
    "import glob\n",
    "import sys\n",
    "import pickle\n",
    "from functools import partial\n",
    "import geopandas as gp\n",
    "parent_dir = dirname(dirname(os.getcwd()))\n",
    "sys.path.append(os.path.join(parent_dir,'StreamflowTempModel','lib'))\n",
    "rew_config = pickle.load( open( os.path.join(parent_dir,'model_data','rew_config.p'), \"rb\" ) )\n",
    "import meteolib as meteo\n",
    "import evaplib as evap\n",
    "import fao as fao\n",
    "sys.path.append(os.path.join(parent_dir,'StreamflowTempModel','lib'))\n",
    "sys.path.append(os.path.join(parent_dir,'StreamflowTempModel','4_temperature'))\n",
    "sys.path.append(os.path.join(parent_dir,'StreamflowTempModel','3_channel_routing'))\n",
    "from temperature import LagrangianSimpleTemperatureChengHeatedGW\n",
    "from channel import TrapezoidalChannel\n",
    "\n",
    "try:\n",
    "    basins = glob.glob(os.path.join(parent_dir,'raw_data','basins_poly','*.shp'))[0]\n",
    "except RuntimeError:\n",
    "    print('Cannot find basins shapefile. Please make sure basins shapefile is located in \\n the model directory under /raw_data/basins_poly')\n",
    "basins = gp.read_file(basins)\n",
    "\n",
    "rew_config = pd.read_pickle(os.path.join(parent_dir,'model_data','rew_config.p'))\n",
    "climate_group_forcing = pd.read_pickle(os.path.join(parent_dir,'model_data','climate_group_forcing.p'))\n",
    "model_config = pd.read_pickle( os.path.join(parent_dir, 'model_data', 'model_config.p'))\n",
    "temperature_params = pd.read_pickle(os.path.join(parent_dir, 'model_data', 'temperature_params.p'))\n",
    "hill_groups = pd.read_pickle(os.path.join(parent_dir,'model_data','solved_hillslope_discharge.p'))\n",
    "solved_channel_routing = pd.read_pickle(os.path.join(parent_dir,'model_data','solved_channel_routing.p'))\n",
    "channel_params = pd.read_pickle(os.path.join(parent_dir,'model_data','channel_params.p'))\n",
    "rew_points = pd.read_csv(os.path.join(parent_dir,'raw_data','basins_centroids','points.csv')).set_index('cat')\n",
    "# wind_data = pd.read_csv(os.path.join(parent_dir,'raw_data','elder_data', 'elder_wnd.p'))\n",
    "\n",
    "#start/stop dates for running model  \n",
    "#spinup date is the date after start_date for which we assume model is finished spinning up         \n",
    "start_date = model_config['start_date']\n",
    "stop_date = model_config['stop_date']\n",
    "spinup_date = model_config['spinup_date']\n",
    "Tmax = model_config['Tmax']\n",
    "resample_freq_channel = model_config['resample_freq_channel']\n",
    "resample_freq_hillslope = model_config['resample_freq_hillslope']\n",
    "resample_freq_temperature = model_config['resample_freq_temperature']\n",
    "dt = model_config['dt_temperature']\n",
    "t = np.linspace(0,Tmax,np.ceil(Tmax/dt)+1)\n",
    "timestamps_hillslope = pd.date_range(start_date, stop_date, freq=resample_freq_hillslope)\n",
    "timestamps_channel = pd.date_range(start_date, stop_date, freq=resample_freq_channel)\n",
    "timestamps_temperature = pd.date_range(start_date, stop_date, freq=resample_freq_temperature)"
   ]
  },
  {
   "cell_type": "code",
   "execution_count": 2,
   "metadata": {
    "collapsed": false
   },
   "outputs": [],
   "source": [
    "# compute relative humidity using temp and dewpoint\n",
    "def get_rh(tmean, tdmean):\n",
    "    a = 17.625\n",
    "    b = 243.04\n",
    "    return 100*np.exp(a*tdmean/(b+tdmean))/np.exp(a*tmean/(b+tmean))\n",
    "\n",
    "def get_ea(tdmean):\n",
    "    return 0.6108*np.exp((17.27*tdmean)/(tdmean+237.3))"
   ]
  },
  {
   "cell_type": "code",
   "execution_count": 3,
   "metadata": {
    "collapsed": false
   },
   "outputs": [],
   "source": [
    "# Get ExtraTer solar radiation\n",
    "# Using latitude appropriate for Eel River watershed.\n",
    "from datetime import timedelta\n",
    "radiation_dict = {}\n",
    "temperature_vaporPressure = {}\n",
    "\n",
    "for rew_id in basins.cat:\n",
    "    # Using Eqn 50 From Allen (1998) to get ext terr solar radiation\n",
    "    rng = pd.date_range(start_date,stop_date)#+ timedelta(days=1))\n",
    "    doy = [rng[i].timetuple().tm_yday for i in range(len(rng))]\n",
    "    kRs = 0.18\n",
    "    rew_lat = rew_points.loc[rew_id].lat\n",
    "    N, Rext = meteo.sun_NR(doy, rew_lat)\n",
    "    \n",
    "    shreve  = rew_config[rew_id]['shreve']\n",
    "    group_id = rew_config[rew_id]['group']\n",
    "    climate_group_id = group_id[1]\n",
    "    rew_df = climate_group_forcing[climate_group_id]\n",
    "    \n",
    "    tmax = rew_df['tmax'][start_date:stop_date]\n",
    "    tmin = rew_df['tmin'][start_date:stop_date]\n",
    "    tmean = rew_df['tmean'][start_date:stop_date]\n",
    "    tdiff = tmax-tmin\n",
    "    tdiff[tdiff<0] = 0\n",
    "\n",
    "    # Use the hargreaves formulation to account for cloud-cover\n",
    "    # Get a daily fraction for the amount of shortwave that reaches surface\n",
    "    hargreaves_Rs = kRs*np.sqrt(tdiff)*Rext\n",
    "    clearsky_Rs = fao.cs_rad(rew_config[rew_id]['elevation'], Rext)\n",
    "    relative_Rs = hargreaves_Rs/clearsky_Rs\n",
    "    relative_Rs[relative_Rs>1] = 1\n",
    "    \n",
    "    # now use daily Rs computed in notebook 06\n",
    "    rss = pd.read_pickle(os.path.join(parent_dir, 'raw_data', 'radiation', 'rss.p'))[rew_id]\n",
    "    daily_Rs = relative_Rs.copy()\n",
    "    for name, val in relative_Rs.iteritems():\n",
    "        daily_Rs.loc[name] = rss[np.min([364,name.timetuple().tm_yday-1])]*val\n",
    "\n",
    "    \n",
    "    #Calculate longwave incoming radiation using Konzelmann et al. 1994\n",
    "    rng = pd.date_range(start_date,datetime.datetime(stop_date.year,stop_date.month, stop_date.day, 12, 0),freq='12H')\n",
    "#     newrng = []\n",
    "#     for i in range(len(rng)): \n",
    "#         if np.mod(i,2):\n",
    "#             newrng.append(rng[i] +datetime.timedelta(hours=2))\n",
    "#         else: \n",
    "#             newrng.append(rng[i])\n",
    "#     rng = pd.to_datetime(newrng)\n",
    "    \n",
    "    interleaved = [val for pair in zip(rew_df['tmin'][start_date:stop_date], rew_df['tmax'][start_date:stop_date]) for val in pair]\n",
    "    minmax = pd.DataFrame(interleaved, index=rng, columns=['ta'])\n",
    "    if 'tdmean' in rew_df.columns:\n",
    "        ea = get_ea(rew_df['tdmean']).reindex(index=rng,fill_value=np.nan).interpolate(method='linear')\n",
    "    elif 'vp' in rew_df.columns:\n",
    "        ea = rew_df['vp'].reindex(index=rng,fill_value=np.nan).interpolate(method='linear')/1000.\n",
    "    else: \n",
    "        print('Actual vapor pressure cannot be computed using existing data')\n",
    "    temp_ea = pd.concat([minmax, ea, tmean],axis=1)\n",
    "    temp_ea.columns = ['ta', 'ea', 'tmean']\n",
    "    temp_ea = temp_ea.ffill()\n",
    "    sigma = 5.67e-8 #(watts)/(m^2 K^4)\n",
    "    F = 1 #cloud fraction, here taken to be 1\n",
    "    epscs = 0.23 + 0.4393*(1000*temp_ea['ea']/(temp_ea['tmean']+273.16))**(1/7.0)\n",
    "    Lin = epscs*F*sigma*(temp_ea['ta']+273.16)**4\n",
    "    Lin = pd.DataFrame(Lin.tolist(),index=Lin.index, columns=['Lin'])\n",
    "\n",
    "#     Bc = 0.7\n",
    "#     a1 = 0.094\n",
    "#     H = 20\n",
    "#     sigma_sb = 5.67e-8\n",
    "#     es = lambda Tair: 0.61275*np.exp(17.27*Tair/(273.3+Tair))\n",
    "#     ea = lambda Tair: H/100*es(Tair) \n",
    "#     eta_atm = lambda Tair: 1.1*Bc + a1*np.sqrt(ea(Tair))\n",
    "#     phi_atm = lambda Tair: 0.96*eta_atm(Tair)*sigma_sb*(Tair + 273.2)**4\n",
    "\n",
    "#     Lin_brunt = phi_atm(temp_ea['ta'])\n",
    "\n",
    "    # Interpolate daily Rs to 6 hour timesteps with diurnal cycle. \n",
    "    # Conserve energy so that daily integral of Rs = daily_Rs\n",
    "    rng = pd.date_range(start_date,datetime.datetime(stop_date.year,stop_date.month, stop_date.day, 18, 0)+timedelta(days=1),freq='6H')\n",
    "    Sin = pd.DataFrame([0]*len(rng), index=rng, columns=['Sin'])\n",
    "    for date in daily_Rs.index:\n",
    "        ind = datetime.datetime(year=date.year, month=date.month, day=date.day, hour=12)\n",
    "        # Since this is a daily value, we want \n",
    "        # a triangle wave that integrates to the same total incoming energy every day\n",
    "        Sin.at[ind, 'Sin'] = 4*daily_Rs.loc[date]/86400.\n",
    "#         Sin.set_value(col='Sin',index=ind,value=4*daily_Rs.loc[date]/86400.)\n",
    "    \n",
    "    interp_rng = pd.date_range(start_date,datetime.datetime(stop_date.year,stop_date.month, stop_date.day, 22, 0)+timedelta(days=1),freq='2H')\n",
    "    Sin = Sin.reindex(index=interp_rng,fill_value=np.nan).interpolate(method='linear')\n",
    "    Lin = Lin.reindex(index=interp_rng,fill_value=np.nan).interpolate(method='linear')\n",
    "    rng = Lin.index\n",
    "    doy = [rng[i].timetuple().tm_yday for i in range(len(rng))]\n",
    "    \n",
    "    radiation_df = pd.concat([Lin,Sin],axis=1)\n",
    "    radiation_df['doy'] = doy\n",
    "    radiation_dict[rew_id] = radiation_df\n",
    "    temperature_vaporPressure[rew_id] = temp_ea\n",
    "\n",
    "#     wind[rew_id] = wind_data['DataValue'].reindex(rng, fill_value='nearest')\n",
    "    \n",
    "pickle.dump(radiation_dict, open(os.path.join(parent_dir, 'raw_data', 'radiation', 'radiation.p'),'wb'))\n",
    "pickle.dump(temperature_vaporPressure, open(os.path.join(parent_dir, 'raw_data', 'ta_ea', 'ta_ea.p'),'wb'))\n",
    "# pickle.dump(wind, open(os.path.join(parent_dir, 'raw_data', 'wind', 'wind.p'),'wb'))"
   ]
  },
  {
   "cell_type": "code",
   "execution_count": 13,
   "metadata": {},
   "outputs": [],
   "source": [
    "rew_ids = list(rew_config)\n",
    "for rew_id in rew_ids:\n",
    "    df = temperature_vaporPressure[rew_id]\n",
    "    df.to_csv('../../model_output/temp_vp/rew%d.csv'%rew_id)"
   ]
  },
  {
   "cell_type": "code",
   "execution_count": 14,
   "metadata": {},
   "outputs": [],
   "source": [
    "rew_ids = list(rew_config)\n",
    "for rew_id in rew_ids:\n",
    "    df = radiation_dict[rew_id]\n",
    "    df.to_csv('../../model_output/radiation/rew%d.csv'%rew_id)"
   ]
  },
  {
   "cell_type": "code",
   "execution_count": 23,
   "metadata": {},
   "outputs": [
    {
     "data": {
      "text/plain": [
       "Text(0.5,1,'Shortwave solar')"
      ]
     },
     "execution_count": 23,
     "metadata": {},
     "output_type": "execute_result"
    },
    {
     "data": {
      "image/png": "[encoded data removed]",
      "text/plain": [
       "<Figure size 432x288 with 1 Axes>"
      ]
     },
     "metadata": {
      "needs_background": "light"
     },
     "output_type": "display_data"
    }
   ],
   "source": [
    "radiation_dict[33].Lin.iloc[0:100].plot()\n",
    "plt.ylabel(r'$\\mathrm{Watts/m^2}$')\n",
    "plt.title('Longwave solar')"
   ]
  },
  {
   "cell_type": "code",
   "execution_count": null,
   "metadata": {},
   "outputs": [],
   "source": []
  }
 ],
 "metadata": {
  "anaconda-cloud": {},
  "kernelspec": {
   "display_name": "py3k",
   "language": "python",
   "name": "py3k"
  },
  "language_info": {
   "codemirror_mode": {
    "name": "ipython",
    "version": 3
   },
   "file_extension": ".py",
   "mimetype": "text/x-python",
   "name": "python",
   "nbconvert_exporter": "python",
   "pygments_lexer": "ipython3",
   "version": "3.5.5"
  }
 },
 "nbformat": 4,
 "nbformat_minor": 2
}
