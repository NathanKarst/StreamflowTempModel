{
 "cells": [
  {
   "cell_type": "markdown",
   "metadata": {
    "deletable": true,
    "editable": true
   },
   "source": [
    "# Channel network and REW delineation \n",
    "\n",
    "In this notebook, we'll cover the steps required to extract the REW channel network. This tutorial is specific to GRASS 7.0 and the Mac operating system (OS X). We have been most succesful with and recommend installing the GRASS 7.0.x files maintained by Michael Barton, which can be found [here](https://grass.osgeo.org/download/software/mac-osx/). Newer versions of GRASS (`7.3.x`) exist, but have not been tested for this tutorial. NOTE: For newer versions of OS X (El Capitan and on), users may need to implement [this](http://grassmac.wikidot.com) fix to get GRASS to run succesfully. "
   ]
  },
  {
   "cell_type": "code",
   "execution_count": 1,
   "metadata": {
    "collapsed": true,
    "deletable": true,
    "editable": true
   },
   "outputs": [],
   "source": [
    "%matplotlib inline\n",
    "from matplotlib import pylab\n",
    "import os\n",
    "import sys\n",
    "from os.path import dirname\n",
    "import pickle\n",
    "import gdal\n",
    "import fiona\n",
    "import glob\n",
    "import shapely\n",
    "import numpy as np\n",
    "import shapely\n",
    "from matplotlib import pyplot as plt\n",
    "import matplotlib.cm as cm\n",
    "import geopandas as gp\n",
    "import seaborn as sns\n",
    "import pyproj\n",
    "parent_dir = dirname(dirname(os.getcwd()))\n",
    "sys.path.append(os.path.join(parent_dir,'StreamflowTempModel','1_data_preparation'))\n",
    "sys.path.append(os.path.join(parent_dir,'StreamflowTempModel','2_hillslope_discharge'))"
   ]
  },
  {
   "cell_type": "markdown",
   "metadata": {
    "deletable": true,
    "editable": true
   },
   "source": [
    "## Clip DEM and extract stream network\n",
    "\n",
    "First, we would like to make sure that our digital elevation model (DEM) is clipped to the modeling region. This step is necessary due to the fact that the elevation file currently in the `raw_data/dem` folder is a full National Elevation Dataset (NED) tile, which is much larger than the computational domain of our watershed. \n",
    "\n",
    "Next, perform our network extraction analysis on the DEM. We will do all of this operating GRASS from a BASH command line. The particulars here are a bit messy, but essentially we create a temporary workspace for GRASS, open the DEM, perform the extraction, then close everything and cleanup. The main script used for extracting the network can be found in `1_data_preparation/extract_stream_basins_topology.sh`."
   ]
  },
  {
   "cell_type": "code",
   "execution_count": 2,
   "metadata": {
    "collapsed": false,
    "deletable": true,
    "editable": true
   },
   "outputs": [
    {
     "name": "stdout",
     "output_type": "stream",
     "text": [
      "Creating output file that is 778P x 510L.\n",
      "Processing input file ../../raw_data/dem/ned_eel_filled.tif.\n",
      "Using internal nodata values (e.g. -99999) for image ../../raw_data/dem/ned_eel_filled.tif.\n",
      "Copying nodata values from source ../../raw_data/dem/ned_eel_filled.tif to destination ../../raw_data/dem/dem.tif.\n",
      "0...10...20...30...40...50...60...70...80...90...100 - done.\n",
      "Rebuilding Addon HTML manual pages index...\n",
      "Rebuilding Addon menu...\n",
      "\u001b[H\u001b[2J\u001b[H\u001b[2J"
     ]
    },
    {
     "name": "stderr",
     "output_type": "stream",
     "text": [
      "Cleaning up temporary files...\n",
      "ERROR: Variable 'LOCATION_NAME' not set\n",
      "Creating new GRASS GIS location/mapset...\n",
      "\n",
      "          __________  ___   __________    _______________\n",
      "         / ____/ __ \\/   | / ___/ ___/   / ____/  _/ ___/\n",
      "        / / __/ /_/ / /| | \\__ \\\\_  \\   / / __ / / \\__ \\\n",
      "       / /_/ / _, _/ ___ |___/ /__/ /  / /_/ // / ___/ /\n",
      "       \\____/_/ |_/_/  |_/____/____/   \\____/___//____/\n",
      "\n",
      "Welcome to GRASS GIS 7.4.1\n",
      "GRASS GIS homepage:                      http://grass.osgeo.org\n",
      "This version running through:            Bash Shell (/bin/bash)\n",
      "Help is available with the command:      g.manual -i\n",
      "See the licence terms with:              g.version -c\n",
      "See citation options with:               g.version -x\n",
      "Start the GUI with:                      g.gui wxpython\n",
      "When ready to quit enter:                exit\n",
      "\n",
      "Cleaning up temporary files...\n",
      "Done.\n",
      "\n",
      "Goodbye from GRASS GIS\n",
      "\n"
     ]
    }
   ],
   "source": [
    "%%bash\n",
    "############## SET WATERSHED NAME #####################\n",
    "WATERSHED_POLY_NAME=sf_branscomb\n",
    "echo $WATERSHED_POLY_NAME > ../temp/watershedname.txt\n",
    "\n",
    "############## CLIP DEM TO WATERSHED OF INTEREST #####################\n",
    "export PATH=/Library/Frameworks/GDAL.framework/Programs:$PATH\n",
    "export PROJSO=/Library/Frameworks/PROJ.framework/PROJ\n",
    "export MASTER_DEM=../../raw_data/dem/ned_eel_filled.tif\n",
    "export WATERSHED_POLY=../../raw_data/watershed_poly/$WATERSHED_POLY_NAME.shp\n",
    "rm ../../raw_data/dem/dem.tif\n",
    "gdalwarp -cutline $WATERSHED_POLY -crop_to_cutline $MASTER_DEM ../../raw_data/dem/dem.tif\n",
    "\n",
    "############## SETUP GRASS TO EXTRACT STREAM NETWORK #####################\n",
    "# make the script executable for GRASS \n",
    "chmod u+x ../1_data_preparation/extract_stream_basins_topology.sh\n",
    "# create folder to store temporary grass location\n",
    "DBASE=../../grassdata\n",
    "mkdir $DBASE\n",
    "# setup GRASS setup file to find database. This step is necessary when using GRASS from the command line. \n",
    "echo \"LOCATION_NAME: \n",
    "GISDBASE:$DBASE\n",
    "MAPSET: \n",
    "GUI: \n",
    "PID:\" > $HOME/.grass7/rc\n",
    "/Applications/GRASS-7.4.1.app/Contents/MacOS/Grass.sh -text -c ../../raw_data/dem/dem.tif ../../grassdata/mylocation"
   ]
  },
  {
   "cell_type": "code",
   "execution_count": 3,
   "metadata": {},
   "outputs": [
    {
     "name": "stdout",
     "output_type": "stream",
     "text": [
      "Rebuilding Addon HTML manual pages index...\n",
      "Rebuilding Addon menu...\n",
      "projection: 1 (UTM)\n",
      "zone:       10\n",
      "datum:      nad83\n",
      "ellipsoid:  grs80\n",
      "north:      4397288.32977403\n",
      "south:      4383832.40133984\n",
      "west:       437372.90117634\n",
      "east:       457916.20565076\n",
      "nsres:      26.3841734\n",
      "ewres:      26.40527567\n",
      "rows:       510\n",
      "cols:       778\n",
      "cells:      396780\n",
      "projection: 1 (UTM)\n",
      "zone:       10\n",
      "datum:      nad83\n",
      "ellipsoid:  grs80\n",
      "north:      4397288.32977403\n",
      "south:      4383832.40133984\n",
      "west:       437372.90117634\n",
      "east:       457916.20565076\n",
      "nsres:      26.3841734\n",
      "ewres:      26.40527567\n",
      "rows:       510\n",
      "cols:       778\n",
      "cells:      396780\n",
      "Cell area is 696.68137195\n",
      "Cells threshold is 3588\n"
     ]
    },
    {
     "name": "stderr",
     "output_type": "stream",
     "text": [
      "Cleaning up temporary files...\n",
      "Starting GRASS GIS...\n",
      "Executing <../1_data_preparation/extract_stream_basins_topology.sh> ...\n",
      "WARNING: 20 points found, but not requested to be exported. Verify 'type'\n",
      "         parameter.\n",
      "ERROR 6: Failed to add field named 'next_stream'\n",
      "ERROR 6: Failed to add field named 'scheidegger'\n",
      "ERROR 6: Failed to add field named 'source_elev'\n",
      "ERROR 6: Failed to add field named 'outlet_elev'\n",
      "WARNING: The combination of types is not supported by all formats.\n",
      "WARNING: No areas found, but requested to be exported. Will skip this\n",
      "         feature type.\n",
      "WARNING: The combination of types is not supported by all formats.\n",
      "WARNING: No points found, but requested to be exported. Will skip this\n",
      "         feature type.\n",
      "WARNING: No lines found, but requested to be exported. Will skip this\n",
      "         feature type.\n",
      "Execution of <../1_data_preparation/extract_stream_basins_topology.sh> finished.\n",
      "Cleaning up temporary files...\n"
     ]
    }
   ],
   "source": [
    "%%bash\n",
    "# Channel head initiation in meters2, dem resolution in meters\n",
    "export THRESHMETERS=2500000\n",
    "# define minimum 1st order stream length in meters. \n",
    "export MINSTREAMMETERS=400\n",
    "\n",
    "# Keep the script quiet; comment this out if you want to debug\n",
    "GRASS_VERBOSE=0\n",
    "export GRASS_VERBOSE\n",
    "\n",
    "############## USE GRASS TO EXTRACT STREAM NETWORK #####################\n",
    "# Get watershed name from previous cell\n",
    "WATERSHED_POLY_NAME=$(head -n 1 ../temp/watershedname.txt)\n",
    "# define the job file as environmental variable\n",
    "export GRASS_BATCH_JOB=\"../1_data_preparation/extract_stream_basins_topology.sh\"\n",
    "# must set path to model folder for .sh script so it can find necessary files and store output\n",
    "export MODEL=../../\n",
    "# now we can use the temp location and run the job defined via GRASS_BATCH_JOB\n",
    "/Applications/GRASS-7.4.1.app/Contents/MacOS/Grass.sh --quiet ../../grassdata/mylocation/PERMANENT\n",
    "# CLEANUP\n",
    "unset GRASS_BATCH_JOB\n",
    "# delete temporary location\n",
    "rm -rf ../../grassdata/\n",
    "# clear out rc file so that the GRASS GUI opens properly on next opening\n",
    "echo \"LOCATION_NAME: \n",
    "GISDBASE:\n",
    "MAPSET: \n",
    "GUI: \n",
    "PID:\" > $HOME/.grass7/rc"
   ]
  },
  {
   "cell_type": "markdown",
   "metadata": {
    "deletable": true,
    "editable": true
   },
   "source": [
    "## Extracted REWs\n",
    "\n",
    "Let's take a look at the REWs extracted using the above script. Here, we import the polygons corresponding to each REW, and map these REWs with labels corresponding to the REW identification number (which will be used extensively throughout these tutorials). "
   ]
  },
  {
   "cell_type": "code",
   "execution_count": 4,
   "metadata": {
    "collapsed": false,
    "deletable": true,
    "editable": true
   },
   "outputs": [
    {
     "data": {
      "image/png": "[encoded data removed]",
      "text/plain": [
       "<Figure size 720x504 with 1 Axes>"
      ]
     },
     "metadata": {},
     "output_type": "display_data"
    }
   ],
   "source": [
    "basins = glob.glob(os.path.join(parent_dir,'raw_data','basins_poly','*.shp'))[0]\n",
    "basins_shape = gp.GeoDataFrame.from_file(basins)\n",
    "basins_shape['coords'] = basins_shape['geometry'].apply(lambda x: x.representative_point().coords[:])\n",
    "basins_shape['coords'] = [coords[0] for coords in basins_shape['coords']]\n",
    "\n",
    "f,ax1 = plt.subplots(1,figsize=(10,7))\n",
    "cs = sns.color_palette('bright',len(basins_shape)+1)\n",
    "basins_shape.plot(ax=ax1, color=cs)\n",
    "\n",
    "for idx, row in basins_shape.iterrows():\n",
    "    print_str = 'REW' + str(row['cat'])\n",
    "    plt.annotate(s=print_str, xy=row['coords'],\n",
    "                 horizontalalignment='center',fontsize=10)\n",
    "try: \n",
    "    streams = glob.glob(os.path.join(parent_dir,'raw_data','streams_poly','*.shp'))[0]\n",
    "    streams_shape = gp.GeoDataFrame.from_file(streams)\n",
    "    streams_shape.plot(ax=ax1,color=cs[-1])\n",
    "except: \n",
    "    print('There are no identified streams. Watershed can only be run as a single hillslope.')\n",
    "    \n",
    "ax1.get_xaxis().set_ticks([])\n",
    "ax1.get_yaxis().set_ticks([])\n",
    "ax1.patch.set_facecolor('white')"
   ]
  },
  {
   "cell_type": "code",
   "execution_count": null,
   "metadata": {},
   "outputs": [],
   "source": []
  }
 ],
 "metadata": {
  "anaconda-cloud": {},
  "kernelspec": {
   "display_name": "py3k",
   "language": "python",
   "name": "py3k"
  },
  "language_info": {
   "codemirror_mode": {
    "name": "ipython",
    "version": 3
   },
   "file_extension": ".py",
   "mimetype": "text/x-python",
   "name": "python",
   "nbconvert_exporter": "python",
   "pygments_lexer": "ipython3",
   "version": "3.5.5"
  }
 },
 "nbformat": 4,
 "nbformat_minor": 2
}
