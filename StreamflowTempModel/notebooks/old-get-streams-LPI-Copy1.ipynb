{
 "cells": [
  {
   "cell_type": "markdown",
   "metadata": {},
   "source": [
    "# LPI Tutorial\n",
    "\n",
    "Get mean LPI for each REW channel"
   ]
  },
  {
   "cell_type": "code",
   "execution_count": 99,
   "metadata": {
    "collapsed": false
   },
   "outputs": [],
   "source": [
    "from matplotlib import pyplot as plt\n",
    "import matplotlib \n",
    "%matplotlib inline\n",
    "import pandas as pd\n",
    "import gdal\n",
    "import os\n",
    "import datetime\n",
    "from datetime import timedelta\n",
    "import numpy as np\n",
    "import fiona\n",
    "import shapely\n",
    "from shapely.geometry import Point\n",
    "from os.path import dirname\n",
    "import glob\n",
    "import rasterio\n",
    "import sys\n",
    "import pickle\n",
    "from functools import partial\n",
    "import geopandas as gp\n",
    "\n",
    "parent_dir = dirname(dirname(os.getcwd()))\n",
    "sys.path.append(os.path.join(parent_dir,'StreamflowTempModel','lib'))\n"
   ]
  },
  {
   "cell_type": "markdown",
   "metadata": {},
   "source": [
    "# Add LPI to streams shapefile\n"
   ]
  },
  {
   "cell_type": "code",
   "execution_count": 102,
   "metadata": {},
   "outputs": [],
   "source": [
    "streams_file = glob.glob(os.path.join(parent_dir, 'raw_data','streams_poly','*.shp'))[0]\n",
    "streams = gp.read_file(streams_file)\n",
    "geos = streams.geometry.values\n",
    "ids = streams.stream.values\n",
    "pts_list = []\n",
    "ids_list = []\n",
    "for i,geo in enumerate(geos):\n",
    "    pts = [pair for pair in geo.coords]\n",
    "    pts_list = pts_list + pts\n",
    "    ids_list = ids_list + len(pts)*[ids[i]]\n",
    "src = rasterio.open('/Users/daviddralle/Dropbox/research/LPI_project/data/lpi_predicted.tif')\n",
    "\n",
    "samples = np.array([item[0] for item in src.sample(pts_list)])\n",
    "samples[samples<0] = 0\n",
    "samples[samples>100]=100\n",
    "tempdf = pd.DataFrame.from_dict({'lpi':samples, 'stream':ids_list})\n",
    "new_streams = pd.DataFrame(tempdf.groupby('stream')['lpi'].mean()).merge(streams, left_on='stream', right_on='stream')\n",
    "new_streams = gp.GeoDataFrame(new_streams)\n",
    "new_streams.to_file(streams_file)"
   ]
  },
  {
   "cell_type": "code",
   "execution_count": 4,
   "metadata": {
    "collapsed": false
   },
   "outputs": [],
   "source": [
    "lpi_files = glob.glob(os.path.join('/Volumes/zee_data/lpi','*.tif'))\n",
    "points_file = glob.glob(os.path.join(parent_dir, 'raw_data','streams_points','*.shp'))[0]\n",
    "points = gp.read_file(points_file)\n",
    "\n",
    "mean_lpis = {i:0 for i in basins.cat}\n",
    "for raster_file in lpi_files:\n",
    "    lpis_dict = {i:[] for i in basins.cat}\n",
    "    filename = raster_file.split('/')[-1]\n",
    "    mind = filename.index('m')\n",
    "    month = int(filename[(mind+1):(mind+3)])\n",
    "    # get raster as numpy array\n",
    "    gdata = gdal.Open(raster_file)\n",
    "    gt = gdata.GetGeoTransform()\n",
    "    data = gdata.ReadAsArray().astype(np.float)\n",
    "    \n",
    "    # loop over basins, get points within each basin\n",
    "    for basinindex, basinrow in basins.iterrows():\n",
    "        for index, row in points.iterrows():\n",
    "            if row.geometry.within(basinrow.geometry):\n",
    "                pos = (row.geometry.x, row.geometry.y)\n",
    "                x = int((pos[0] - gt[0])/gt[1])\n",
    "                y = int((pos[1] - gt[3])/gt[5])\n",
    "                lpis_dict[basinrow['cat']].append(data[x,y])\n",
    "    \n",
    "    lpis_means = {i:np.mean(lpis_dict[i]) for i in lpis_dict.keys()}\n",
    "    for basin_index in lpis_means.keys():\n",
    "        mean_lpis[basin_index] = mean_lpis[basin_index] + lpis_means[basin_index]/12.0\n",
    "        \n",
    "pickle.dump(mean_lpis, open(os.path.join(parent_dir, 'raw_data', 'mean_rew_lpis.p'), 'wb'))"
   ]
  }
 ],
 "metadata": {
  "anaconda-cloud": {},
  "kernelspec": {
   "display_name": "py3k",
   "language": "python",
   "name": "py3k"
  },
  "language_info": {
   "codemirror_mode": {
    "name": "ipython",
    "version": 3
   },
   "file_extension": ".py",
   "mimetype": "text/x-python",
   "name": "python",
   "nbconvert_exporter": "python",
   "pygments_lexer": "ipython3",
   "version": "3.5.5"
  }
 },
 "nbformat": 4,
 "nbformat_minor": 2
}
