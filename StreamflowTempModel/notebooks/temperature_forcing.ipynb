{
 "cells": [
  {
   "cell_type": "markdown",
   "metadata": {},
   "source": [
    "# Temperature Data Extraction Tutorial"
   ]
  },
  {
   "cell_type": "code",
   "execution_count": 1,
   "metadata": {
    "collapsed": false
   },
   "outputs": [],
   "source": [
    "from matplotlib import pyplot as plt\n",
    "import matplotlib \n",
    "%matplotlib inline\n",
    "import pandas as pd\n",
    "import gdal\n",
    "import seaborn as sns\n",
    "import os\n",
    "import datetime\n",
    "from datetime import timedelta\n",
    "import numpy as np\n",
    "import fiona\n",
    "import shapely\n",
    "from shapely import geometry\n",
    "from os.path import dirname\n",
    "import glob\n",
    "import sys\n",
    "import pickle\n",
    "from functools import partial\n",
    "import geopandas as gp\n",
    "parent_dir = dirname(dirname(os.getcwd()))\n",
    "sys.path.append(os.path.join(parent_dir,'StreamflowTempModel','lib'))\n",
    "rew_config = pickle.load( open( os.path.join(parent_dir,'model_data','rew_config.p'), \"rb\" ) )\n",
    "import zonal_stats as zs\n",
    "import meteolib as meteo\n",
    "import evaplib as evap\n",
    "sys.path.append(os.path.join(parent_dir,'StreamflowTempModel','lib'))\n",
    "sys.path.append(os.path.join(parent_dir,'StreamflowTempModel','4_temperature'))\n",
    "sys.path.append(os.path.join(parent_dir,'StreamflowTempModel','3_channel_routing'))\n",
    "from temperature import SimpleTemperature, LagrangianSimpleTemperature, LagrangianSimpleTemperatureTriangular\n",
    "from channel import SimpleChannel\n",
    "\n",
    "\n",
    "try:\n",
    "    basins = glob.glob(os.path.join(parent_dir,'raw_data','basins_poly','*.shp'))[0]\n",
    "except RuntimeError:\n",
    "    print 'Cannot find basins shapefile. Please make sure basins shapefile is located in \\n the model directory under /raw_data/basins_poly'\n",
    "basins = gp.read_file(basins)\n",
    "\n",
    "rew_config = pickle.load( open( os.path.join(parent_dir,'model_data','rew_config.p'), \"rb\" ) )\n",
    "climate_group_forcing = pickle.load( open( os.path.join(parent_dir,'model_data','climate_group_forcing.p'), \"rb\" ) )\n",
    "model_config = pickle.load( open( os.path.join(parent_dir, 'model_data', 'model_config.p'), 'rb'))\n",
    "temperature_params = pickle.load( open( os.path.join(parent_dir, 'model_data', 'temperature_params.p'), 'rb'))\n",
    "hill_groups = pickle.load( open( os.path.join(parent_dir,'model_data','solved_hillslope_discharge.p'), \"rb\" ) )\n",
    "solved_channel_routing = pickle.load( open( os.path.join(parent_dir,'model_data','solved_channel_routing.p'), \"rb\" ) )\n",
    "channel_params = pickle.load( open( os.path.join(parent_dir,'model_data','channel_params.p'), \"rb\" ))\n",
    "\n",
    "#start/stop dates for running model  \n",
    "#spinup date is the date after start_date for which we assume model is finished spinning up         \n",
    "start_date = model_config['start_date']\n",
    "stop_date = model_config['stop_date']\n",
    "spinup_date = model_config['spinup_date']\n",
    "Tmax = model_config['Tmax']\n",
    "resample_freq_channel = model_config['resample_freq_channel']\n",
    "resample_freq_hillslope = model_config['resample_freq_hillslope']\n",
    "resample_freq_temperature = model_config['resample_freq_temperature']\n",
    "dt = model_config['dt_temperature']\n",
    "t = np.linspace(0,Tmax,np.ceil(Tmax/dt)+1)\n",
    "timestamps_hillslope = pd.date_range(start_date, stop_date, freq=resample_freq_hillslope)\n",
    "timestamps_channel = pd.date_range(start_date, stop_date, freq=resample_freq_channel)\n",
    "timestamps_temperature = pd.date_range(start_date, stop_date, freq=resample_freq_temperature)"
   ]
  },
  {
   "cell_type": "markdown",
   "metadata": {},
   "source": [
    "## Need to extract LPI"
   ]
  },
  {
   "cell_type": "code",
   "execution_count": 2,
   "metadata": {
    "collapsed": true
   },
   "outputs": [],
   "source": [
    "# for now, manually set effective LPI for each channel \n",
    "\n",
    "mean_rew_lpis = {rew_id:0.1 for rew_id in rew_config.keys()}"
   ]
  },
  {
   "cell_type": "code",
   "execution_count": 3,
   "metadata": {
    "collapsed": false
   },
   "outputs": [],
   "source": [
    "# compute relative humidity using temp and dewpoint\n",
    "def get_rh(tmean, tdmean):\n",
    "    a = 17.625\n",
    "    b = 243.04\n",
    "    return 100*np.exp(a*tdmean/(b+tdmean))/np.exp(a*tmean/(b+tmean))\n",
    "\n",
    "def get_ea(tdmean):\n",
    "    return 0.6108*np.exp((17.27*tdmean)/(tdmean+237.3))"
   ]
  },
  {
   "cell_type": "code",
   "execution_count": 4,
   "metadata": {
    "collapsed": false
   },
   "outputs": [],
   "source": [
    "# Get ExtraTer solar radiation\n",
    "# Using latitude appropriate for Eel River watershed.\n",
    "from datetime import timedelta\n",
    "rng = pd.date_range(start_date,stop_date )#+ timedelta(days=1))\n",
    "doy = [rng[i].timetuple().tm_yday for i in range(len(rng))]\n",
    "N, Rext = meteo.sun_NR(doy, 39.72)\n",
    "\n",
    "# Using Eqn 50 From Allen (1998) to get solar radiation from max/min temp difference\n",
    "kRs = 0.18\n",
    "radiation_dict = {}\n",
    "temperature_vaporPressure = {}\n",
    "\n",
    "for rew_id in basins.cat:\n",
    "    shreve  = rew_config[rew_id]['shreve']\n",
    "    group_id = rew_config[rew_id]['group']\n",
    "    climate_group_id = group_id[1]\n",
    "    rew_df = climate_group_forcing[climate_group_id]\n",
    "    \n",
    "    # Calculate shortwave incoming radiation. First, Rs is computed using \n",
    "    # Hargreaves radiation formula (see Allen 2008). Then \"spread\" \n",
    "    # this daily shortwave flux over the twelve hour period from 6a - 6p, \n",
    "    # and finally multiply by LPI for the REW. \n",
    "    # Begin by computing daily Rs\n",
    "    tmax = rew_df['tmax'][start_date:stop_date]\n",
    "    tmin = rew_df['tmin'][start_date:stop_date]\n",
    "    tmean = rew_df['tmean'][start_date:stop_date]\n",
    "    tdiff = tmax-tmin\n",
    "    tdiff[tdiff<0] = 0\n",
    "#     daily_Rs = kRs*np.sqrt(tdiff)*Rext\n",
    "    # get total daily incoming Srad\n",
    "    daily_Rs = climate_group_forcing[climate_group_id].srad*climate_group_forcing[climate_group_id].dayl\n",
    "    \n",
    "    #Calculate longwave incoming radiation using Konzelmann et al. 1994\n",
    "    rng = pd.date_range(start_date,datetime.datetime(stop_date.year,stop_date.month, stop_date.day, 12, 0),freq='12H')\n",
    "    interleaved = [val for pair in zip(rew_df['tmin'][start_date:stop_date], rew_df['tmax'][start_date:stop_date]) for val in pair]\n",
    "    minmax = pd.DataFrame(interleaved, index=rng, columns=['ta'])\n",
    "    if 'tdmean' in rew_df.columns:\n",
    "        ea = get_ea(rew_df['tdmean']).reindex(index=rng,fill_value=np.nan).interpolate(method='linear')\n",
    "    elif 'vp' in rew_df.columns:\n",
    "        ea = rew_df['vp'].reindex(index=rng,fill_value=np.nan).interpolate(method='linear')/1000.\n",
    "    else: \n",
    "        print('Actual vapor pressure cannot be computed using existing data')\n",
    "    temp_ea = pd.concat([minmax, ea, tmean],axis=1)\n",
    "    temp_ea.columns = ['ta', 'ea', 'tmean']\n",
    "    temp_ea = temp_ea.ffill()\n",
    "    sigma = 5.67e-8 #(watts)/(m^2 K^4)\n",
    "    F = 1 #cloud fraction, here taken to be 1\n",
    "    epscs = 0.23 + 0.4393*(1000*temp_ea['ea']/(temp_ea['tmean']+273.16))**(1/7.0)\n",
    "#     Lin = epscs*F*sigma*(temp_ea['ta']+273.16)**4\n",
    "    Bc = 0.6\n",
    "    a1 = 0.094\n",
    "    H = 20\n",
    "    sigma_sb = 5.67e-8\n",
    "    es = lambda Tair: 0.61275*np.exp(17.27*Tair/(273.3+Tair))\n",
    "    ea = lambda Tair: H/100*es(Tair) \n",
    "    eta_atm = lambda Tair: 1.1*Bc + a1*np.sqrt(ea(Tair))\n",
    "    phi_atm = lambda Tair: 0.96*eta_atm(Tair)*sigma_sb*(Tair + 273.2)**4\n",
    "\n",
    "    Lin = phi_atm(temp_ea['ta'])\n",
    "    Lin = pd.DataFrame(Lin.tolist(),index=Lin.index, columns=['Lin'])\n",
    "\n",
    "    # Interpolate daily Rs to 6 hour timesteps with diurnal cycle. \n",
    "    # Conserve energy so that daily integral of Rs = daily_Rs\n",
    "    rng = pd.date_range(start_date,datetime.datetime(stop_date.year,stop_date.month, stop_date.day, 18, 0)+timedelta(days=1),freq='6H')\n",
    "    Sin = pd.DataFrame([0]*len(rng), index=rng, columns=['Sin'])\n",
    "    for date in daily_Rs.index:\n",
    "        ind = datetime.datetime(year=date.year, month=date.month, day=date.day, hour=12)\n",
    "        # Since this is a daily value, we want \n",
    "        # a triangle wave that integrates to the same total incoming energy every day\n",
    "        Sin.set_value(col='Sin',index=ind,value=4*daily_Rs.loc[date]/86400.)\n",
    "    \n",
    "    interp_rng = pd.date_range(start_date,datetime.datetime(stop_date.year,stop_date.month, stop_date.day, 22, 0)+timedelta(days=1),freq='2H')\n",
    "    Sin = mean_rew_lpis[rew_id]*Sin.reindex(index=interp_rng,fill_value=np.nan).interpolate(method='linear')\n",
    "    Lin = Lin.reindex(index=interp_rng,fill_value=np.nan).interpolate(method='linear')\n",
    "    radiation_df = pd.concat([Lin,Sin],axis=1)\n",
    "    radiation_dict[rew_id] = radiation_df\n",
    "    temperature_vaporPressure[rew_id] = temp_ea\n",
    "    \n",
    "pickle.dump(radiation_dict, open(os.path.join(parent_dir, 'raw_data', 'radiation', 'radiation.p'),'wb'))\n",
    "pickle.dump(temperature_vaporPressure, open(os.path.join(parent_dir, 'raw_data', 'ta_ea', 'ta_ea.p'),'wb'))"
   ]
  },
  {
   "cell_type": "code",
   "execution_count": 9,
   "metadata": {
    "collapsed": false
   },
   "outputs": [
    {
     "data": {
      "text/plain": [
       "<matplotlib.axes._subplots.AxesSubplot at 0x11f6a3f10>"
      ]
     },
     "execution_count": 9,
     "metadata": {},
     "output_type": "execute_result"
    },
    {
     "data": {
      "image/png": "[encoded data removed]",
      "text/plain": [
       "<matplotlib.figure.Figure at 0x11f69af10>"
      ]
     },
     "metadata": {},
     "output_type": "display_data"
    }
   ],
   "source": [
    "radiation_df.loc['1-10-2014'].plot(style='o')"
   ]
  },
  {
   "cell_type": "code",
   "execution_count": null,
   "metadata": {
    "collapsed": true
   },
   "outputs": [],
   "source": []
  }
 ],
 "metadata": {
  "anaconda-cloud": {},
  "kernelspec": {
   "display_name": "Python [conda env:py2k_model]",
   "language": "python",
   "name": "conda-env-py2k_model-py"
  },
  "language_info": {
   "codemirror_mode": {
    "name": "ipython",
    "version": 2
   },
   "file_extension": ".py",
   "mimetype": "text/x-python",
   "name": "python",
   "nbconvert_exporter": "python",
   "pygments_lexer": "ipython2",
   "version": "2.7.12"
  }
 },
 "nbformat": 4,
 "nbformat_minor": 0
}
