{
 "cells": [
  {
   "cell_type": "markdown",
   "metadata": {
    "deletable": true,
    "editable": true
   },
   "source": [
    "# Channel Routing Tutorial\n",
    "\n",
    "In this notebook, we'll cover the basics routing hillslope discharge time series through a channel network. To learn more about how to simulate hillslope discharge, see the [hillslope discharge tutorial notebook](hillslope_discharge.ipynb). To learn more about how to create a channel network topoolgy and geometry from a digital elevation map, check out the [REW extraction tutorial](network_extraction_tutorial.ipynb)."
   ]
  },
  {
   "cell_type": "code",
   "execution_count": 1,
   "metadata": {
    "collapsed": false,
    "deletable": true,
    "editable": true
   },
   "outputs": [],
   "source": [
    "%matplotlib inline\n",
    "import numpy as np\n",
    "from matplotlib import pyplot as plt\n",
    "import seaborn as sns\n",
    "import os\n",
    "import pickle\n",
    "from datetime import date\n",
    "import pandas as pd"
   ]
  },
  {
   "cell_type": "markdown",
   "metadata": {
    "deletable": true,
    "editable": true
   },
   "source": [
    "We'll first need to import some classes to populate the channels of our REWs. The modules that are imported here must include all vadose zone, groundwater zone, and channel models that are specified below. "
   ]
  },
  {
   "cell_type": "code",
   "execution_count": 2,
   "metadata": {
    "collapsed": true,
    "deletable": true,
    "editable": true
   },
   "outputs": [],
   "source": [
    "import sys\n",
    "from os.path import dirname\n",
    "parent_dir = dirname(dirname(os.getcwd()))\n",
    "sys.path.append(os.path.join(parent_dir,'StreamflowTempModel','3_channel_routing'))\n",
    "from channel import TrapezoidalChannel, AllenChannel"
   ]
  },
  {
   "cell_type": "markdown",
   "metadata": {
    "deletable": true,
    "editable": true
   },
   "source": [
    "First, we'll need to set up some data structures to hold REW parameters and forcing data. We'll assume that these have already been computed and have been stored in the `model_data` subfolder of the parent folder. We'll then need to set some model parameters related to timescales and simuluation domains. These are both very similar to the set up in the [hillslope discharge tutorial notebook](hillslope_discharge.ipynb), and so we won't go into too much detail here. It's worth noting that we specify different timescales for hillslope discharge and channel routing. This provides us the flexibility to dial down the channel routing time step in order to ensure numerical convergence of the kinematic wave solver, while still allowing a coarser timestep for the more simple hillslope discharge solver."
   ]
  },
  {
   "cell_type": "code",
   "execution_count": 3,
   "metadata": {
    "collapsed": false,
    "deletable": true,
    "editable": true
   },
   "outputs": [],
   "source": [
    "# These dictionaries contain the all the data we'll need to instantiate \n",
    "rew_config = pd.read_pickle(os.path.join(parent_dir,'model_data','rew_config.p')) \n",
    "climate_group_forcing = pd.read_pickle(os.path.join(parent_dir,'model_data','climate_group_forcing.p')) \n",
    "model_config = pd.read_pickle(os.path.join(parent_dir, 'model_data', 'model_config.p'))\n",
    "channel_params = pd.read_pickle(os.path.join(parent_dir,'model_data','channel_params.p'))\n",
    "hill_groups = pd.read_pickle(os.path.join(parent_dir,'model_data','solved_hillslope_discharge.p')) \n",
    "\n",
    "#start/stop dates for running model  \n",
    "#spinup date is the date after start_date for which we assume model is finished spinning up         \n",
    "start_date = model_config['start_date']\n",
    "stop_date = model_config['stop_date']\n",
    "spinup_date = model_config['spinup_date']\n",
    "Tmax = model_config['Tmax']\n",
    "dt = model_config['dt_channel']\n",
    "resample_freq_channel = model_config['resample_freq_channel']\n",
    "resample_freq_hillslope = model_config['resample_freq_hillslope']\n",
    "timestamps_hillslope = pd.date_range(start_date, stop_date, freq=resample_freq_hillslope)\n",
    "timestamps_channel = pd.date_range(start_date, stop_date, freq=resample_freq_channel)\n",
    "t = np.linspace(0,Tmax,int(np.ceil(Tmax/dt))+1)"
   ]
  },
  {
   "cell_type": "markdown",
   "metadata": {
    "deletable": true,
    "editable": true
   },
   "source": [
    "The `channel_params` file must contain a dictionary whose keys are REW IDs, and whose values are themselves dictionaries. These key-value pairs of these inner dictionaries the attribute names and values required to fully populate the user-specified `Channel` class."
   ]
  },
  {
   "cell_type": "code",
   "execution_count": 4,
   "metadata": {
    "collapsed": false,
    "deletable": true,
    "editable": true
   },
   "outputs": [],
   "source": [
    "channel_network = {}\n",
    "for rew_id in rew_config.keys(): \n",
    "    args = rew_config[rew_id].copy()\n",
    "    args.update(channel_params[rew_id])\n",
    "    channel_network[rew_id] = args['model'](rew_id=rew_id, **args)"
   ]
  },
  {
   "cell_type": "markdown",
   "metadata": {
    "deletable": true,
    "editable": true
   },
   "source": [
    "We need to compute each channel's discharge time series, starting from the headwaters and moving downstream. There are many ways we might compute an acceptable ordering of channels, but GRASS GIS has already computed one for us; the Shreve index of a stream is defined as 1 if the stream is at the headwaters, and as the sum of its parents' Shreve indices otherwise. We can therefore simply compute channel flow starting with all channels with Shreve index 1 and work our way forward. \n",
    "\n",
    "The workhorse function in channel routing is the `update` method required by any inheritor of the abstract `Channel` class. As in solving any nonlinear ODE, there is always the risk of introducing numerical instability in this update method if the time step is not sufficiently small. In this example, we have included a simple proof of concept testing procedure that raises a flag if the channel would be completely evacuated in a single timestep given the current velocity.\n",
    "\n",
    "We save discharge data as a dictionary whose keys are REW IDs and whose values are time series; this file is placed in `network_volumetric_discharges` in the `model_data` folder. \n"
   ]
  },
  {
   "cell_type": "code",
   "execution_count": 5,
   "metadata": {
    "collapsed": false,
    "deletable": true,
    "editable": true
   },
   "outputs": [
    {
     "name": "stdout",
     "output_type": "stream",
     "text": [
      "Solve REWs in this order:\n",
      "[1, 2, 3]\n",
      "Working on REW 1\n",
      "Working on REW 2\n",
      "\n",
      "Warning: Numerical instability encountered. Consider decreasing timestep size. \n",
      "Discharge for REW 2 had to be approximated for some timesteps. \n",
      "\n",
      "Working on REW 3\n"
     ]
    }
   ],
   "source": [
    "network_volumetric_discharges = {}\n",
    "\n",
    "rew_ids = rew_config.keys()\n",
    "shreves = [rew_config[rew_id]['shreve'] for rew_id in rew_ids]\n",
    "channelQueue = [rew_id for (shreve,rew_id) in sorted(zip(shreves,rew_ids))]\n",
    "print(\"Solve REWs in this order:\")\n",
    "print(channelQueue)\n",
    "for rew_id in channelQueue:\n",
    "    print('Working on REW ' + str(rew_id))\n",
    "    width = []\n",
    "    length = []\n",
    "    u = []\n",
    "    depth = []\n",
    "    area = []\n",
    "    shreve  = rew_config[rew_id]['shreve']\n",
    "    group_id = rew_config[rew_id]['group']\n",
    "    climate_group_id = group_id[1]\n",
    "    ppt = np.array(climate_group_forcing[climate_group_id][start_date:stop_date].ppt.resample(resample_freq_channel).ffill())\n",
    "    hillslope_discharge = pd.DataFrame({'discharge':hill_groups[group_id]['discharge']}, index=hill_groups[group_id].index)\n",
    "    hillslope_overlandFlow = pd.DataFrame({'overlandFlow':hill_groups[group_id]['overlandFlow']}, index=hill_groups[group_id].index)\n",
    "    hillslope_discharge['discharge'] = hillslope_discharge['discharge'] + hillslope_overlandFlow['overlandFlow']\n",
    "    hillslope_volumetric_discharge = np.array(hillslope_discharge[start_date:stop_date].discharge.resample(resample_freq_channel).ffill())*rew_config[rew_id]['area_sqcm']\n",
    "    volumetric_discharge = np.zeros(np.size(t))\n",
    "    volumes = np.zeros(np.size(t))\n",
    "    approx = 0\n",
    "    \n",
    "    if shreve == 1:\n",
    "        up = np.zeros(np.shape(t))\n",
    "    else:\n",
    "        upstream_1 = rew_config[rew_id]['prev_str01']\n",
    "        upstream_2 = rew_config[rew_id]['prev_str02']\n",
    "        \n",
    "        vol_1 = network_volumetric_discharges[upstream_1].volumetric_discharge#.resample(resample_freq_channel).ffill()\n",
    "        vol_2 = network_volumetric_discharges[upstream_2].volumetric_discharge#.resample(resample_freq_channel).ffill()\n",
    "    \n",
    "        up = np.array(vol_1 + vol_2)\n",
    "    \n",
    "    for i in range(len(t)):\n",
    "        volumes[i] = channel_network[rew_id].volume\n",
    "        volumetric_discharge[i]=channel_network[rew_id].volumetric_discharge\n",
    "        width.append(channel_network[rew_id].width)\n",
    "        length.append(channel_network[rew_id].length)\n",
    "        u.append(channel_network[rew_id].u)\n",
    "        area.append(channel_network[rew_id].area)\n",
    "        depth.append(area[-1]/width[-1])\n",
    "        result = channel_network[rew_id].update(dt, upstream_volumetric_discharge=up[i], hillslope_volumetric_discharge=hillslope_volumetric_discharge[i] , ppt=ppt[i])\n",
    "        approx = (approx or result)\n",
    "        \n",
    "\n",
    "    if approx==1: \n",
    "        print('\\nWarning: Numerical instability encountered. Consider decreasing timestep size. \\nDischarge for REW ' + str(rew_id) + ' had to be approximated for some timesteps. \\n')\n",
    "    # NOTE: If not a rectangular channel, this is an \"effective\" depth\n",
    "    network_volumetric_discharges[rew_id]=pd.DataFrame({'volumetric_discharge':volumetric_discharge, 'depth':depth, 'volumes':volumes, 'width':width, 'length':length, 'u':u}, index=timestamps_channel)\n",
    "\n",
    "stores = ['volumes']\n",
    "for rew_id in channelQueue:\n",
    "    df = pd.DataFrame()\n",
    "    for col in network_volumetric_discharges[rew_id].columns:\n",
    "        if col in stores:\n",
    "            df[col] = network_volumetric_discharges[rew_id][col].resample('D').first()\n",
    "        else:\n",
    "            df[col] = network_volumetric_discharges[rew_id][col].resample('D').apply(sum)*dt\n",
    "    network_volumetric_discharges[rew_id]=df\n",
    "pickle.dump( network_volumetric_discharges, open( os.path.join(parent_dir,'model_data','solved_channel_routing.p'), \"wb\" ) )"
   ]
  },
  {
   "cell_type": "code",
   "execution_count": 7,
   "metadata": {
    "collapsed": true,
    "deletable": true,
    "editable": true
   },
   "outputs": [],
   "source": [
    "def objective_function(modeled, observed):\n",
    "    inds = ((modeled != 0) & (observed != 0))\n",
    "    inds[-1] = False\n",
    "    if np.sum(modeled)<0.01:\n",
    "        return -9999.0\n",
    "    elif np.isnan(np.sum(modeled)):\n",
    "        return -9999.0\n",
    "    else:\n",
    "        return 1-np.sum((np.log(observed.loc[inds])-np.log(modeled.loc[inds]))**2)/np.sum((np.log(observed.loc[inds])-np.mean(np.log(observed.loc[inds])))**2)"
   ]
  },
  {
   "cell_type": "code",
   "execution_count": 15,
   "metadata": {},
   "outputs": [
    {
     "data": {
      "image/png": "[encoded data removed]",
      "text/plain": [
       "<Figure size 576x216 with 1 Axes>"
      ]
     },
     "metadata": {
      "needs_background": "light"
     },
     "output_type": "display_data"
    }
   ],
   "source": [
    "calibration_data_filename = 'sf_leggett_runoff.p'\n",
    "outlet_id = 20 # Elder gauge at Leggett\n",
    "\n",
    "#Find REW with largest total contributing area\n",
    "biggest = 1\n",
    "a = 1\n",
    "for outlet_id in list(rew_config):        \n",
    "    if rew_config[outlet_id]['upstream_area']>a:\n",
    "        biggest = outlet_id\n",
    "outlet_id = biggest\n",
    "        \n",
    "discharge = network_volumetric_discharges[outlet_id].volumetric_discharge.loc[start_date:stop_date]/rew_config[outlet_id]['upstream_area']\n",
    "data_df = pd.read_pickle(os.path.join(parent_dir, 'calibration_data', calibration_data_filename)).loc[start_date:stop_date]\n",
    "\n",
    "plt.figure(figsize=(8,3))\n",
    "plt.plot(discharge, linewidth=1)\n",
    "plt.plot(data_df)\n",
    "\n",
    "modeled = discharge.loc[spinup_date:stop_date]\n",
    "observed = data_df.runoff.loc[spinup_date:stop_date]\n",
    "\n",
    "plt.xlim([spinup_date,stop_date])\n",
    "# plt.yscale('log')\n",
    "plt.ylim([1e-3, 1e1])\n",
    "plt.legend(['Modeled (logNSE = %.2f)'%(objective_function(modeled, observed)), 'Observed'],loc='best')\n",
    "# plt.legend(['Elder - Modeled (logNSE = %.2f)'%(objective_function(modeled, observed)), 'Elder - Observed'],loc='best')\n",
    "plt.title('Upscaling hillslope models')\n",
    "plt.xlim([spinup_date, stop_date])\n",
    "\n",
    "plt.ylabel('Runoff [cm/day]')\n",
    "plt.tight_layout()\n",
    "plt.savefig('/Users/daviddralle/Desktop/sf_leggett_validation.pdf')"
   ]
  },
  {
   "cell_type": "code",
   "execution_count": null,
   "metadata": {},
   "outputs": [],
   "source": [
    "#Find REW with largest total contributing area\n",
    "calibration_data_filename = 'elder_runoff.p'\n",
    "biggest = 1\n",
    "a = 1\n",
    "for outlet_id in list(rew_config):        \n",
    "    discharge = network_volumetric_discharges[outlet_id].volumetric_discharge.loc[start_date:stop_date]/rew_config[outlet_id]['upstream_area']\n",
    "    if rew_config[outlet_id]['upstream_area']>a:\n",
    "        biggest = outlet_id\n",
    "data_df = pd.read_pickle(os.path.join(parent_dir, 'calibration_data', calibration_data_filename)).loc[start_date:stop_date]\n",
    "elder_df = pd.read_pickle(os.path.join(parent_dir, 'calibration_data', 'elder_runoff.p')).loc[start_date:stop_date]\n",
    "dry_df = pd.read_pickle(os.path.join(parent_dir, 'calibration_data', 'dry_runoff.p')).loc[start_date:stop_date]\n",
    "\n",
    "plt.figure(figsize=(8,3))\n",
    "plt.plot(discharge, linewidth=1)\n",
    "plt.plot(data_df )\n",
    "# plt.plot(elder_df, linewidth=3, alpha=.5)\n",
    "# plt.plot(dry_df)\n",
    "\n",
    "modeled = discharge.loc[spinup_date:stop_date]\n",
    "observed = data_df.runoff.loc[spinup_date:stop_date]\n",
    "\n",
    "plt.xlim([spinup_date,stop_date])\n",
    "plt.yscale('log')\n",
    "plt.ylim([1e-3, 1e1])\n",
    "# plt.legend(['Modeled', 'Data'])\n",
    "# plt.legend(['Elder - Modeled (logNSE = %.2f)'%(objective_function(modeled, observed)), 'Elder - Observed'],loc='best')\n",
    "# plt.title('Upscaling hillslope models')\n",
    "# plt.xlim(['1985','2017'])\n",
    "# plt.ylabel('Runoff [cm/day]')\n",
    "plt.tight_layout()\n",
    "# plt.savefig('/Users/daviddralle/Desktop/elder.pdf')\n",
    "# data_runoff_df = data_df['runoff'][start_date:stop_date]\n",
    "# data_runoff = np.array(data_df['runoff'][start_date:stop_date])\n",
    "\n",
    "\n",
    "# outflows_df.loc[spinup_date:stop_date].plot(figsize=(12,5))\n",
    "# plt.yscale('log')\n",
    "\n",
    "\n",
    "# plt.ylim([10**-3, 10**1])"
   ]
  },
  {
   "cell_type": "code",
   "execution_count": 6,
   "metadata": {},
   "outputs": [
    {
     "data": {
      "image/png": "[encoded data removed]",
      "text/plain": [
       "<Figure size 576x216 with 1 Axes>"
      ]
     },
     "metadata": {
      "needs_background": "light"
     },
     "output_type": "display_data"
    }
   ],
   "source": [
    "#Find REW with largest total contributing area\n",
    "calibration_data_filename = 'elder_runoff.p'\n",
    "outlet_id = 3 # gauge at Elder\n",
    "        \n",
    "discharge = network_volumetric_discharges[outlet_id].volumetric_discharge.loc[start_date:stop_date]/rew_config[outlet_id]['upstream_area']\n",
    "data_df = pd.read_pickle(os.path.join(parent_dir, 'calibration_data', calibration_data_filename)).loc[start_date:stop_date]\n",
    "elder_df = pd.read_pickle(os.path.join(parent_dir, 'calibration_data', 'elder_runoff.p')).loc[start_date:stop_date]\n",
    "dry_df = pd.read_pickle(os.path.join(parent_dir, 'calibration_data', 'dry_runoff.p')).loc[start_date:stop_date]\n",
    "\n",
    "plt.figure(figsize=(8,3))\n",
    "plt.plot(discharge, linewidth=1)\n",
    "plt.plot(data_df )\n",
    "\n",
    "modeled = discharge.loc[spinup_date:stop_date]\n",
    "observed = data_df.runoff.loc[spinup_date:stop_date]\n",
    "\n",
    "plt.xlim([spinup_date,stop_date])\n",
    "plt.yscale('log')\n",
    "plt.ylim([1e-3, 1e1])\n",
    "\n",
    "# plt.legend(['SF @ Leggett - Modeled (logNSE = %.2f)'%(objective_function(modeled, observed)), 'SF @ Leggett - Observed'],loc='best')\n",
    "# plt.title('Upscaling hillslope models')\n",
    "# plt.xlim(['1985','2017'])\n",
    "plt.ylabel('Runoff [cm/day]')\n",
    "plt.tight_layout()\n",
    "# plt.savefig('/Users/daviddralle/Desktop/sf_leggett.pdf')\n",
    "\n",
    "\n"
   ]
  },
  {
   "cell_type": "code",
   "execution_count": 12,
   "metadata": {},
   "outputs": [
    {
     "data": {
      "text/plain": [
       "19"
      ]
     },
     "execution_count": 12,
     "metadata": {},
     "output_type": "execute_result"
    }
   ],
   "source": [
    "#Find REW with largest total contributing area\n",
    "calibration_data_filename = 'sf_leggett_runoff.p'\n",
    "outlet_id = 291 # gauge at Leggett\n",
    "        \n",
    "discharge = network_volumetric_discharges[outlet_id].volumetric_discharge.loc[start_date:stop_date]/rew_config[outlet_id]['upstream_area']\n",
    "data_df = pd.read_pickle(os.path.join(parent_dir, 'calibration_data', calibration_data_filename)).loc[start_date:stop_date]\n",
    "elder_df = pd.read_pickle(os.path.join(parent_dir, 'calibration_data', 'elder_runoff.p')).loc[start_date:stop_date]\n",
    "dry_df = pd.read_pickle(os.path.join(parent_dir, 'calibration_data', 'dry_runoff.p')).loc[start_date:stop_date]\n",
    "\n",
    "plt.figure(figsize=(8,3))\n",
    "plt.plot(discharge, linewidth=1)\n",
    "plt.plot(data_df )\n",
    "\n",
    "modeled = discharge.loc[spinup_date:stop_date]\n",
    "observed = data_df.runoff.loc[spinup_date:stop_date]\n",
    "\n",
    "plt.xlim([spinup_date,stop_date])\n",
    "plt.yscale('log')\n",
    "plt.ylim([1e-3, 1e1])\n",
    "\n",
    "plt.legend(['SF @ Leggett - Modeled (logNSE = %.2f)'%(objective_function(modeled, observed)), 'SF @ Leggett - Observed'],loc='best')\n",
    "plt.title('Upscaling hillslope models')\n",
    "plt.xlim(['1985','2017'])\n",
    "plt.ylabel('Runoff [cm/day]')\n",
    "plt.tight_layout()\n",
    "plt.savefig('/Users/daviddralle/Desktop/sf_leggett.pdf')\n",
    "\n"
   ]
  },
  {
   "cell_type": "code",
   "execution_count": null,
   "metadata": {},
   "outputs": [],
   "source": []
  }
 ],
 "metadata": {
  "anaconda-cloud": {},
  "kernelspec": {
   "display_name": "py3k",
   "language": "python",
   "name": "py3k"
  },
  "language_info": {
   "codemirror_mode": {
    "name": "ipython",
    "version": 3
   },
   "file_extension": ".py",
   "mimetype": "text/x-python",
   "name": "python",
   "nbconvert_exporter": "python",
   "pygments_lexer": "ipython3",
   "version": "3.5.5"
  }
 },
 "nbformat": 4,
 "nbformat_minor": 2
}
