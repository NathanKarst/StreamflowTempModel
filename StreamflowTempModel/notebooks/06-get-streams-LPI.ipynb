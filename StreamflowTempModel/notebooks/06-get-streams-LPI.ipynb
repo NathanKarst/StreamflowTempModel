{
 "cells": [
  {
   "cell_type": "markdown",
   "metadata": {},
   "source": [
    "# LPI Tutorial\n",
    "\n",
    "Get mean LPI for each REW channel"
   ]
  },
  {
   "cell_type": "code",
   "execution_count": 1,
   "metadata": {
    "collapsed": false
   },
   "outputs": [],
   "source": [
    "from matplotlib import pyplot as plt\n",
    "import matplotlib \n",
    "%matplotlib inline\n",
    "import pandas as pd\n",
    "import gdal\n",
    "import os\n",
    "import datetime\n",
    "from datetime import timedelta\n",
    "import numpy as np\n",
    "import fiona\n",
    "import shapely\n",
    "from shapely.geometry import Point\n",
    "from os.path import dirname\n",
    "import glob\n",
    "import rasterio\n",
    "import sys\n",
    "import pickle\n",
    "from functools import partial\n",
    "import geopandas as gp\n",
    "\n",
    "parent_dir = dirname(dirname(os.getcwd()))\n",
    "sys.path.append(os.path.join(parent_dir,'StreamflowTempModel','lib'))\n",
    "rew_config = pd.read_pickle(os.path.join(parent_dir,'model_data','rew_config.p'))"
   ]
  },
  {
   "cell_type": "markdown",
   "metadata": {},
   "source": [
    "# Add LPI to streams shapefile\n"
   ]
  },
  {
   "cell_type": "code",
   "execution_count": 2,
   "metadata": {},
   "outputs": [
    {
     "name": "stdout",
     "output_type": "stream",
     "text": [
      "LPI has already been added to the streams shapefile!\n"
     ]
    }
   ],
   "source": [
    "streams_file = glob.glob(os.path.join(parent_dir, 'raw_data','streams_poly','*.shp'))[0]\n",
    "streams = gp.read_file(streams_file)\n",
    "\n",
    "if 'lpi' in streams.columns:\n",
    "    geos = streams.geometry.values\n",
    "    ids = streams.stream.values\n",
    "    pts_list = []\n",
    "    ids_list = []\n",
    "    for i,geo in enumerate(geos):\n",
    "        pts = [pair for pair in geo.coords]\n",
    "        pts_list = pts_list + pts\n",
    "        ids_list = ids_list + len(pts)*[ids[i]]\n",
    "    src = rasterio.open(os.path.join(parent_dir,'raw_data', 'lpi', 'lpi_predicted.tif'))\n",
    "    samples = np.array([item[0] for item in src.sample(pts_list)])\n",
    "    samples[samples<0] = 0\n",
    "    samples[samples>100]=100\n",
    "    lpi_df = pd.DataFrame.from_dict({'lpi':samples, 'stream':ids_list})\n",
    "    for rew_id in rew_config.keys():\n",
    "        rew_config[rew_id]['lpi'] = streams.loc[streams.stream==rew_id, 'lpi'].values[0]\n",
    "    pickle.dump( rew_config, open( os.path.join(parent_dir,'model_data','rew_config.p'), \"wb\" ) )    \n",
    "    print('LPI has already been added to the streams shapefile!')\n",
    "else:\n",
    "    geos = streams.geometry.values\n",
    "    ids = streams.stream.values\n",
    "    pts_list = []\n",
    "    ids_list = []\n",
    "    for i,geo in enumerate(geos):\n",
    "        pts = [pair for pair in geo.coords]\n",
    "        pts_list = pts_list + pts\n",
    "        ids_list = ids_list + len(pts)*[ids[i]]\n",
    "    src = rasterio.open(os.path.join(parent_dir,'raw_data', 'lpi', 'lpi_predicted.tif'))\n",
    "    samples = np.array([item[0] for item in src.sample(pts_list)])\n",
    "    samples[samples<0] = 0\n",
    "    samples[samples>100]=100\n",
    "    lpi_df = pd.DataFrame.from_dict({'lpi':samples, 'stream':ids_list})\n",
    "    new_streams = pd.DataFrame(lpi_df.groupby('stream')['lpi'].mean()).merge(streams, left_on='stream', right_on='stream')\n",
    "    new_streams = gp.GeoDataFrame(new_streams)\n",
    "    for rew_id in rew_config.keys():\n",
    "        rew_config[rew_id]['lpi'] = new_streams.loc[new_streams.stream==rew_id, 'lpi'].values[0]\n",
    "    pickle.dump( rew_config, open( os.path.join(parent_dir,'model_data','rew_config.p'), \"wb\" ) )\n",
    "    new_streams.to_file(streams_file)"
   ]
  },
  {
   "cell_type": "markdown",
   "metadata": {},
   "source": [
    "# Filter terrain derived solar using LPI"
   ]
  },
  {
   "cell_type": "code",
   "execution_count": 3,
   "metadata": {},
   "outputs": [],
   "source": [
    "streams_file = glob.glob(os.path.join(parent_dir, 'raw_data','streams_poly','*.shp'))[0]\n",
    "streams = gp.read_file(streams_file)\n",
    "\n",
    "rss = pd.DataFrame([], index=[rew_id for rew_id in rew_config.keys()], columns=np.arange(1,366,1))\n",
    "\n",
    "# these tifs need to be generated on a weekly basis over the model domain\n",
    "tifs = glob.glob(os.path.join(parent_dir, 'raw_data', 'sf_rs','*.tif'))\n",
    "\n",
    "for raster_file in tifs:\n",
    "    day = int(raster_file[-7:-4])\n",
    "    src = rasterio.open(raster_file)\n",
    "    samples = np.array([item[0] for item in src.sample(pts_list)])\n",
    "    rsdf = pd.DataFrame.from_dict({'rs':samples, 'stream':ids_list})\n",
    "    rsdf['rs_lpi'] = rsdf['rs']*(lpi_df['lpi']/100.0)\n",
    "    rs = rsdf.groupby('stream')['rs_lpi'].apply(np.nanmean)\n",
    "    rss.at[rs.index, day] = rs\n",
    "rss = rss.T.astype(float).interpolate()*3600\n",
    "rss.index = rss.index - 1\n",
    "pickle.dump(rss, open(os.path.join(parent_dir, 'raw_data', 'radiation', 'rss.p'),'wb'))"
   ]
  },
  {
   "cell_type": "code",
   "execution_count": null,
   "metadata": {},
   "outputs": [],
   "source": []
  }
 ],
 "metadata": {
  "anaconda-cloud": {},
  "kernelspec": {
   "display_name": "py3k",
   "language": "python",
   "name": "py3k"
  },
  "language_info": {
   "codemirror_mode": {
    "name": "ipython",
    "version": 3
   },
   "file_extension": ".py",
   "mimetype": "text/x-python",
   "name": "python",
   "nbconvert_exporter": "python",
   "pygments_lexer": "ipython3",
   "version": "3.5.5"
  }
 },
 "nbformat": 4,
 "nbformat_minor": 2
}
