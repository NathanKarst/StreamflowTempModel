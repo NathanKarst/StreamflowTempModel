{
 "cells": [
  {
   "cell_type": "markdown",
   "metadata": {
    "deletable": true,
    "editable": true
   },
   "source": [
    "# Hillslope Discharge Tutorial\n",
    "\n",
    "This notebook outlines how to access parameters and forcing data across a collection of REWs in order to compute hillslope discharge. We pay special attention to dealing with REW parameter and climate groups, which potentially simplify calibration procedures. In this example, we lay out the general organization to deal with multiple parameter groups but will in fact only consider one.  "
   ]
  },
  {
   "cell_type": "code",
   "execution_count": 6,
   "metadata": {
    "collapsed": false,
    "deletable": true,
    "editable": true
   },
   "outputs": [],
   "source": [
    "%matplotlib inline\n",
    "import os\n",
    "from matplotlib import pylab\n",
    "import sys\n",
    "from os.path import dirname\n",
    "parent_dir = dirname(dirname(os.getcwd()))\n",
    "sys.path.append(os.path.join(parent_dir,'StreamflowTempModel','2_hillslope_discharge'))\n",
    "sys.path.append(os.path.join(parent_dir,'StreamflowTempModel','1_data_preparation'))\n",
    "sys.path.append(os.path.join(parent_dir,'StreamflowTempModel','3_channel_routing'))\n",
    "\n",
    "from vadoseZone import *\n",
    "from groundwaterZone import *\n",
    "from REW import REW\n",
    "from tqdm import tqdm_notebook\n",
    "from matplotlib import pyplot as plt\n",
    "import numpy as np\n",
    "import seaborn as sns\n",
    "import pickle\n",
    "from datetime import date\n",
    "import pandas as pd\n",
    "import numpy as np\n",
    "import time\n",
    "import sys\n",
    "\n",
    "from prep import rew_params\n",
    "rew_params()\n",
    "from prep import rew_config\n",
    "rew_config()\n",
    "from prep import model_config\n",
    "model_config()"
   ]
  },
  {
   "cell_type": "markdown",
   "metadata": {
    "deletable": true,
    "editable": true
   },
   "source": [
    "First, we'll need to set up some data structures to hold parameters and forcing data. We'll assume that these have already been computed and have been stored in the `model_data` subfolder of the parent folder. For information on the creation of these data, refer to the [model parameterization](./parameterize_and_configure.ipynb) or [data preparation](./prism_forcing.ipynb) notebooks. \n",
    "\n",
    "The `rew_config` dictionary has as its keys the list of all REWs to be modeled in the simulation. The value of each key contains data primarily related to physical topological attributes of each REW. The most important fields in this example will be `climate_group`, `parameter_group`, and `group`, which specify the parameter set and forcing data required to run the model for each REW. \n",
    "\n",
    "The `parameter_group_params` dictionary has as its keys the list of all REW parameter groups. For each group, we can specify both scalars, like a soil moisture field capacity, and classes, like specific groundwater and vadose zone models. **The parameters enumerated for each parameter group must include those needed to fully populate the chosen vadose zone and groundwater zone models, and the naming conventions between `parameter_group_params` and each class must match.** For instance, if the chosen vadose zone model has a field capacity attribute named `sfc`, then each value in the `parameter_group_params` dictionary must have a `sfc` key. Combining parameter groups with climate groups allows us perform expensive calibration procedures on a potentially small number of REW \"types\" (e.g., coastal belt covered in a Douglas fir, with particular climate data), rather than on each REW individually. \n",
    "\n",
    "The `model_config` dictionary contains the high level parameters needed to spool up and execute the time domain simulation. Values include time stamps at which hillslope discharge will be computed, as well as the time step lengths and resampling frequencies necessary to map forcing data onto the desired simulation timescales. "
   ]
  },
  {
   "cell_type": "code",
   "execution_count": 2,
   "metadata": {
    "collapsed": true,
    "deletable": true,
    "editable": true
   },
   "outputs": [],
   "source": [
    "# Load config, parameter, and forcing files\n",
    "\n",
    "parent_dir = os.path.dirname(os.path.dirname(os.getcwd()))\n",
    "sys.path.append(os.path.join(parent_dir, 'StreamflowTempModel', '1_data_preparation'))\n",
    "rew_config = pickle.load( open( os.path.join(parent_dir,'model_data','rew_config.p'), \"rb\" ) )\n",
    "climate_group_forcing = pickle.load( open( os.path.join(parent_dir,'model_data','climate_group_forcing.p'), \"rb\" ) )\n",
    "parameter_group_params = pickle.load( open( os.path.join(parent_dir,'model_data','parameter_group_params.p'), \"rb\" ))\n",
    "model_config = pickle.load( open( os.path.join(parent_dir, 'model_data', 'model_config.p'), 'rb'))\n"
   ]
  },
  {
   "cell_type": "markdown",
   "metadata": {
    "deletable": true,
    "editable": true
   },
   "source": [
    "Before starting the simulation, it's convenient to load some of the model configuration data into the local workspace, rather than continually pulling from the `model_config` dictionary. \n",
    "\n",
    "The most important quantities here are the `start_date`, `stop_date` and `spinup_date`. The first two are self-explanatory; the last specifies the date at which we assume transients related, for instance, to starting with empty groundwater and vadose zone stocks have exited the system. \n",
    "\n",
    "Note that `model_config` typically contains datetime indices, time steps, and resampling frequencies related to both the hillslope dischage _and_ channel routing models. Since we'll only be dealing with the hillslope part of the process in this example, we'll simplify the notation. "
   ]
  },
  {
   "cell_type": "code",
   "execution_count": 3,
   "metadata": {
    "collapsed": true,
    "deletable": true,
    "editable": true
   },
   "outputs": [],
   "source": [
    "start_date = model_config['start_date']\n",
    "stop_date = model_config['stop_date']\n",
    "spinup_date = model_config['spinup_date']\n",
    "Tmax = model_config['Tmax']\n",
    "dt = model_config['dt_hillslope']\n",
    "resample_freq_hillslope = model_config['resample_freq_hillslope']\n",
    "Tmax = model_config['Tmax']\n",
    "timestamps_hillslope = pd.date_range(start_date, stop_date, freq=resample_freq_hillslope)\n",
    "t = np.linspace(0,Tmax,int(np.ceil(Tmax/dt))+1)"
   ]
  },
  {
   "cell_type": "markdown",
   "metadata": {
    "deletable": true,
    "editable": true
   },
   "source": [
    "With the forcing data, REW parameterizations, and overarching model description in hand, we're finally ready to run the model. We assume that in terms of hillslope discharge, no REW depends on any other, and so we can simply simulate discharge sequentially along the list of REW groups. For each REW group, we\n",
    "\n",
    "* Instantiate a `REW` instance using the parameterization provided in `parameter_group_params`. For each REW group, the appropriate parameter group ID is located in `rew_config[REW ID]['parameter_group']`;\n",
    "* Intialize empty vadose zone and groundwater zone stocks, as well as empty time series related to the major fluxes of each zone;\n",
    "* Populate the attributes of both the vadose and groundwater zones. At REW instantiation, both the vadose zone and groundwater zone are empty. Therefore, the `parameter_group_params` dictionary **must** specify all quantities necessary for model execution, and these quantities must have the same variable name in both `parameter_group_params` and the corresponding model class; \n",
    "* Resample forcing data at the hillslope discharge simulation timescale, which is specified in `model_config`; The forcing data corresponds to the climate group forcing data associated with the overarching REW group. \n",
    "* Simulate hillslope discharge at each time specified in the `t_hillsope` field of `model_config`;\n",
    "* Store the flux and stock time series data in a Pandas data frame for each REW group, and bundle these Pandas data frames into a dictionary of solved hillslopes indexed by its group ID;\n",
    "* Save these solved hillslopes to the pickle file `solved_group_hillslopes` in the `model_data folder`."
   ]
  },
  {
   "cell_type": "code",
   "execution_count": 4,
   "metadata": {
    "collapsed": false,
    "deletable": true,
    "editable": true,
    "scrolled": true
   },
   "outputs": [
    {
     "name": "stdout",
     "output_type": "stream",
     "text": [
      "Solving 1 hillslope models...\n",
      "\n",
      "Solving for group: (1, 1)\n"
     ]
    }
   ],
   "source": [
    "group_ids = [item for item in list(set([rew_config[i]['group'] for i in list(rew_config)]))]\n",
    "solved_group_hillslopes_dict = {}\n",
    "\n",
    "\n",
    "print('Solving %s hillslope models...\\n'%(len(group_ids)))\n",
    "for j in range(len(group_ids)):\n",
    "    group_id = group_ids[j]\n",
    "    print('Solving for group: ' + str(group_id))\n",
    "    parameter_group_id = group_id[0]\n",
    "    climate_group_id = group_id[1]\n",
    "        \n",
    "    vz = parameter_group_params[parameter_group_id]['vz'](**parameter_group_params[parameter_group_id])\n",
    "    gz = parameter_group_params[parameter_group_id]['gz'](**parameter_group_params[parameter_group_id])    \n",
    "    rew = REW(vz, gz,  **{'pet':climate_group_forcing[climate_group_id].pet, 'ppt':climate_group_forcing[climate_group_id].ppt, 'aspect':90})\n",
    "\n",
    "    storageVZ       = np.zeros(np.size(t))\n",
    "    storageGZ       = np.zeros(np.size(t))\n",
    "    discharge       = np.zeros(np.size(t))\n",
    "    leakage         = np.zeros(np.size(t))\n",
    "    ET              = np.zeros(np.size(t))\n",
    "    ETR              = np.zeros(np.size(t))\n",
    "    ETS              = np.zeros(np.size(t))\n",
    "    overlandFlow    = np.zeros(np.size(t))\n",
    "    \n",
    "    # Resample pet and ppt to integration timestep\n",
    "    ppt = np.array(rew.ppt[start_date:stop_date].resample(resample_freq_hillslope).ffill())\n",
    "    pet = np.array(rew.pet[start_date:stop_date].resample(resample_freq_hillslope).ffill())\n",
    "    \n",
    "    # Solve group hillslope\n",
    "    for i in range(len(t)):\n",
    "        storageVZ[i] = rew.vz.storageVZ\n",
    "        rew.vz.update(dt,**{'ppt':ppt[i],'pet':pet[i]})\n",
    "        leakage[i]      = rew.vz.leakage\n",
    "        ET[i]           = rew.vz.ET\n",
    "        \n",
    "        storageGZ[i] = rew.gz.storageGZ\n",
    "        rew.gz.update(dt,**{'leakage':leakage[i]})\n",
    "        discharge[i] = rew.gz.discharge\n",
    "        overlandFlow[i] = rew.vz.overlandFlow + rew.gz.overlandFlow\n",
    "        try: \n",
    "            ETR[i] = rew.vz.ETR\n",
    "            ETS[i] = rew.vz.ETS\n",
    "        except:\n",
    "            continue\n",
    "        \n",
    "    # Save all results as daily data. \n",
    "    solved_hillslope = pd.DataFrame({'storageGZ':storageGZ, 'leakage':leakage, 'ET':ET, 'storageVZ':storageVZ, 'discharge':discharge, 'overlandFlow':overlandFlow, 'ETR':ETR, 'ETS':ETS, 'ppt':ppt}, index=timestamps_hillslope)\n",
    "    stores = ['storageGZ','storageVZ']\n",
    "    df = pd.DataFrame()\n",
    "    for col in solved_hillslope.columns:\n",
    "        if col in stores:\n",
    "            df[col] = solved_hillslope[col].resample('D').first()\n",
    "        else:\n",
    "            df[col] = solved_hillslope[col].resample('D').apply(sum)*dt\n",
    "    solved_group_hillslopes_dict[group_id] = df\n",
    "\n",
    "pickle.dump( solved_group_hillslopes_dict, open( os.path.join(parent_dir,'model_data','solved_hillslope_discharge.p'), \"wb\" ) )"
   ]
  },
  {
   "cell_type": "code",
   "execution_count": 5,
   "metadata": {
    "collapsed": false,
    "deletable": true,
    "editable": true
   },
   "outputs": [
    {
     "data": {
      "image/png": "[encoded data removed]",
      "text/plain": [
       "<matplotlib.figure.Figure at 0x121768d68>"
      ]
     },
     "metadata": {},
     "output_type": "display_data"
    }
   ],
   "source": [
    "calibration_data_filename = 'elder_runoff.p'\n",
    "total_area = 0\n",
    "for rew_id in rew_config.keys():\n",
    "    total_area += rew_config[rew_id]['area_sqkm']\n",
    "\n",
    "name = 'discharge'\n",
    "solved_watershed = pd.DataFrame({name:np.zeros(len(timestamps_hillslope))}, index=timestamps_hillslope).resample('D').mean()\n",
    "\n",
    "solved_watershed_array = np.zeros(int(len(solved_watershed)))\n",
    "for rew_id in rew_config.keys():\n",
    "    solved_watershed_array += rew_config[rew_id]['area_sqkm']/total_area*(solved_group_hillslopes_dict[rew_config[rew_id]['group']]['discharge'] + solved_group_hillslopes_dict[rew_config[rew_id]['group']]['overlandFlow'])\n",
    "\n",
    "solved_watershed[name] = solved_watershed_array\n",
    "\n",
    "data_df = pd.read_pickle(os.path.join(parent_dir, 'calibration_data', calibration_data_filename))\n",
    "data_runoff_df = data_df['runoff'][start_date:stop_date]\n",
    "f,ax = plt.subplots(1,figsize=(8,4))\n",
    "plt.plot(solved_watershed[name], label='Modeled')\n",
    "plt.plot(data_runoff_df, label='Data')\n",
    "plt.ylabel('q [cm/day]')\n",
    "plt.yscale('log')\n",
    "plt.ylim([1e-3,1e1])\n",
    "plt.xlim([spinup_date, stop_date])\n",
    "plt.legend(loc='best')\n",
    "f.autofmt_xdate()\n",
    "f.tight_layout()"
   ]
  },
  {
   "cell_type": "code",
   "execution_count": 9,
   "metadata": {
    "collapsed": true,
    "deletable": true,
    "editable": true
   },
   "outputs": [],
   "source": [
    "# for each REW, get time series of discharge in cubic meters per second. \n",
    "# This will equal discharge from the REW itself, plus \n",
    "# all upstream REWs. \n",
    "def get_rew_discharge(solved_group_hillslopes_dict, rew_config, rew_id):\n",
    "    # get total discharge for current REW in m^3/s\n",
    "    if rew_config[rew_id]['prev_str01']==0:\n",
    "        return (solved_group_hillslopes_dict[rew_config[rew_id]['group']].discharge*rew_config[rew_id]['area_sqcm']\n",
    "                *1.15740741e-11\n",
    "               )\n",
    "    else: \n",
    "        return (1.15740741e-11*solved_group_hillslopes_dict[rew_config[rew_id]['group']].discharge*rew_config[rew_id]['area_sqcm']\n",
    "                + get_rew_discharge(solved_group_hillslopes_dict, rew_config, rew_config[rew_id]['prev_str01'])\n",
    "                + get_rew_discharge(solved_group_hillslopes_dict, rew_config, rew_config[rew_id]['prev_str02'])\n",
    "               )\n",
    "                \n",
    "discharge_df_list = []\n",
    "for rew_id in rew_config.keys():\n",
    "    temp = get_rew_discharge(solved_group_hillslopes_dict, rew_config, rew_id)\n",
    "    temp = pd.DataFrame(temp.values, index=temp.index, columns=[rew_id])\n",
    "    discharge_df_list.append(temp)\n",
    "    \n",
    "temp = pd.concat(discharge_df_list, axis=1)\n",
    "temp = temp.loc[spinup_date:stop_date]\n",
    "## To save model output \n",
    "## The CSV index will equal model dates from spinup to the stop_date.\n",
    "## Columns of the CSV will be REW IDs. \n",
    "# temp.to_csv(os.path.join(parent_dir, 'model_output', 'sf_leggett_10172017.csv'))"
   ]
  }
 ],
 "metadata": {
  "anaconda-cloud": {},
  "kernelspec": {
   "display_name": "Python 3",
   "language": "python",
   "name": "python3"
  },
  "language_info": {
   "codemirror_mode": {
    "name": "ipython",
    "version": 3
   },
   "file_extension": ".py",
   "mimetype": "text/x-python",
   "name": "python",
   "nbconvert_exporter": "python",
   "pygments_lexer": "ipython3",
   "version": "3.5.2"
  },
  "widgets": {
   "state": {
    "c1208018cc19422384e84b2c9526e150": {
     "views": [
      {
       "cell_index": 7
      }
     ]
    }
   },
   "version": "1.2.0"
  }
 },
 "nbformat": 4,
 "nbformat_minor": 1
}
