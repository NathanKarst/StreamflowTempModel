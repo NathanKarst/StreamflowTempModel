{
 "cells": [
  {
   "cell_type": "markdown",
   "metadata": {},
   "source": [
    "# Temperature Tutorial"
   ]
  },
  {
   "cell_type": "markdown",
   "metadata": {},
   "source": [
    "In this tutorial, we'll run through the basics of generating stream temperature time series predictions. We'll assume that we've already [extracted a collection of representative elementary watersheds (REWs)](network_extraction.ipynb), [paramterized and configured the REWs](parameterize_and_configure.ipynb), [generated hillslope discharge time series](hillslope_discharge.ipynb), and [routed discharge through the channel network](channel_routing.ipynb). "
   ]
  },
  {
   "cell_type": "code",
   "execution_count": 1,
   "metadata": {
    "collapsed": false
   },
   "outputs": [],
   "source": [
    "from matplotlib import pyplot as plt\n",
    "import matplotlib \n",
    "%matplotlib inline\n",
    "import pandas as pd\n",
    "import gdal\n",
    "import os\n",
    "import datetime\n",
    "from datetime import timedelta\n",
    "import numpy as np\n",
    "import fiona\n",
    "import shapely\n",
    "from shapely import geometry\n",
    "from os.path import dirname\n",
    "import glob\n",
    "import seaborn\n",
    "import sys\n",
    "import pickle\n",
    "from functools import partial\n",
    "import seaborn as sns\n",
    "parent_dir = dirname(dirname(os.getcwd()))\n",
    "sys.path.append(os.path.join(parent_dir,'StreamflowTempModel','lib'))\n",
    "sys.path.append(os.path.join(parent_dir,'StreamflowTempModel','4_temperature'))\n",
    "sys.path.append(os.path.join(parent_dir,'StreamflowTempModel','3_channel_routing'))\n",
    "from temperature import SimpleTemperature, LagrangianSimpleTemperature\n",
    "from channel import SimpleChannel\n",
    "import zonal_stats as zs\n",
    "import meteolib as meteo\n",
    "import evaplib as evap"
   ]
  },
  {
   "cell_type": "code",
   "execution_count": 2,
   "metadata": {
    "collapsed": true
   },
   "outputs": [],
   "source": [
    "try:\n",
    "    basins = glob.glob(os.path.join(parent_dir,'raw_data','basins_poly','*.shp'))[0]\n",
    "except RuntimeError:\n",
    "    print 'Cannot find basins shapefile. Please make sure basins shapefile is located in \\n the model directory under /raw_data/basins_poly'"
   ]
  },
  {
   "cell_type": "markdown",
   "metadata": {},
   "source": [
    "We first need to gain access to all of the parameterization, configuration, hillslope discharge, and routed channel flow data that we've already generated. "
   ]
  },
  {
   "cell_type": "code",
   "execution_count": 3,
   "metadata": {
    "collapsed": false
   },
   "outputs": [],
   "source": [
    "rew_config = pickle.load( open( os.path.join(parent_dir,'model_data','rew_config.p'), \"rb\" ) )\n",
    "climate_group_forcing = pickle.load( open( os.path.join(parent_dir,'model_data','climate_group_forcing.p'), \"rb\" ) )\n",
    "model_config = pickle.load( open( os.path.join(parent_dir, 'model_data', 'model_config.p'), 'rb'))\n",
    "temperature_params = pickle.load( open( os.path.join(parent_dir, 'model_data', 'temperature_params.p'), 'rb'))\n",
    "hill_groups = pickle.load( open( os.path.join(parent_dir,'model_data','solved_hillslope_discharge.p'), \"rb\" ) )\n",
    "solved_channel_routing = pickle.load( open( os.path.join(parent_dir,'model_data','solved_channel_routing.p'), \"rb\" ) )\n",
    "channel_params = pickle.load( open( os.path.join(parent_dir,'model_data','channel_params.p'), \"rb\" ))\n",
    "radiation = pickle.load( open(os.path.join(parent_dir, 'raw_data', 'radiation', 'radiation.p'),'rb') )\n",
    "ta_ea = pickle.load( open(os.path.join(parent_dir, 'raw_data', 'ta_ea', 'ta_ea.p'),'rb') )\n",
    "\n",
    "#start/stop dates for running model  \n",
    "#spinup date is the date after start_date for which we assume model is finished spinning up         \n",
    "start_date = model_config['start_date']\n",
    "stop_date = model_config['stop_date']\n",
    "spinup_date = model_config['spinup_date']\n",
    "Tmax = model_config['Tmax']\n",
    "dt = model_config['dt_temperature']\n",
    "resample_freq_channel = model_config['resample_freq_channel']\n",
    "resample_freq_hillslope = model_config['resample_freq_hillslope']\n",
    "resample_freq_temperature = model_config['resample_freq_temperature']\n",
    "t = np.linspace(0,Tmax,np.ceil(Tmax/dt)+1)\n",
    "timestamps_hillslope = pd.date_range(start_date, stop_date, freq=resample_freq_hillslope)\n",
    "timestamps_channel = pd.date_range(start_date, stop_date, freq=resample_freq_channel)\n",
    "timestamps_temperature = pd.date_range(start_date, stop_date, freq=resample_freq_temperature)\n",
    "\n",
    "\n",
    "\n"
   ]
  },
  {
   "cell_type": "markdown",
   "metadata": {},
   "source": [
    "With these basic data now loaded, we can instantiate both the channel network and the temperature networks. "
   ]
  },
  {
   "cell_type": "code",
   "execution_count": 4,
   "metadata": {
    "collapsed": false
   },
   "outputs": [],
   "source": [
    "channel_network = {}\n",
    "for rew_id in rew_config.keys(): \n",
    "    args = rew_config[rew_id].copy()\n",
    "    args.update(channel_params[rew_id])\n",
    "    channel_network[rew_id] = args['model'](rew_id=rew_id, **args)\n",
    "\n",
    "temperature_network = {}\n",
    "for rew_id in rew_config.keys(): \n",
    "    args = rew_config[rew_id].copy()\n",
    "    args.update(temperature_params[rew_id])\n",
    "    temperature_network[rew_id] = args['model'](rew_id=rew_id, **args)"
   ]
  },
  {
   "cell_type": "markdown",
   "metadata": {},
   "source": [
    "We simulate the temperature time series beginning with the headwaters, i.e. those with Shreve index 1. These temperature time series are then used as boundary conditions for streams with higher Shreve. "
   ]
  },
  {
   "cell_type": "code",
   "execution_count": 5,
   "metadata": {
    "collapsed": false
   },
   "outputs": [
    {
     "name": "stdout",
     "output_type": "stream",
     "text": [
      "Solve REWs in this order:\n",
      "[1, 2, 3]\n",
      "Working on REW 1\n",
      "Working on REW 2\n"
     ]
    },
    {
     "ename": "KeyboardInterrupt",
     "evalue": "",
     "output_type": "error",
     "traceback": [
      "\u001b[0;31m---------------------------------------------------------------------------\u001b[0m",
      "\u001b[0;31mKeyboardInterrupt\u001b[0m                         Traceback (most recent call last)",
      "\u001b[0;32m<ipython-input-5-b08db013488a>\u001b[0m in \u001b[0;36m<module>\u001b[0;34m()\u001b[0m\n\u001b[1;32m     76\u001b[0m \u001b[0;34m\u001b[0m\u001b[0m\n\u001b[1;32m     77\u001b[0m             \u001b[0mtempArgs\u001b[0m \u001b[0;34m=\u001b[0m \u001b[0;34m{\u001b[0m\u001b[0;34m}\u001b[0m\u001b[0;34m\u001b[0m\u001b[0m\n\u001b[0;32m---> 78\u001b[0;31m             \u001b[0;32mfor\u001b[0m \u001b[0marg\u001b[0m \u001b[0;32min\u001b[0m \u001b[0mvaryArgs\u001b[0m\u001b[0;34m:\u001b[0m \u001b[0mtempArgs\u001b[0m\u001b[0;34m[\u001b[0m\u001b[0marg\u001b[0m\u001b[0;34m]\u001b[0m \u001b[0;34m=\u001b[0m \u001b[0mglobals\u001b[0m\u001b[0;34m(\u001b[0m\u001b[0;34m)\u001b[0m\u001b[0;34m[\u001b[0m\u001b[0marg\u001b[0m\u001b[0;34m]\u001b[0m\u001b[0;34m[\u001b[0m\u001b[0mi\u001b[0m\u001b[0;34m]\u001b[0m\u001b[0;34m\u001b[0m\u001b[0m\n\u001b[0m\u001b[1;32m     79\u001b[0m             \u001b[0;32mfor\u001b[0m \u001b[0marg\u001b[0m \u001b[0;32min\u001b[0m \u001b[0mconstArgs\u001b[0m\u001b[0;34m:\u001b[0m \u001b[0mtempArgs\u001b[0m\u001b[0;34m[\u001b[0m\u001b[0marg\u001b[0m\u001b[0;34m]\u001b[0m \u001b[0;34m=\u001b[0m \u001b[0mglobals\u001b[0m\u001b[0;34m(\u001b[0m\u001b[0;34m)\u001b[0m\u001b[0;34m[\u001b[0m\u001b[0marg\u001b[0m\u001b[0;34m]\u001b[0m\u001b[0;34m\u001b[0m\u001b[0m\n\u001b[1;32m     80\u001b[0m \u001b[0;34m\u001b[0m\u001b[0m\n",
      "\u001b[0;31mKeyboardInterrupt\u001b[0m: "
     ]
    }
   ],
   "source": [
    "#Find REW with largest total contributing area\n",
    "outlet_id = rew_config.keys()[0]\n",
    "area_max = rew_config[outlet_id]['upstream_area']\n",
    "for rew_id in rew_config.keys():\n",
    "    if rew_config[rew_id]['upstream_area']>area_max:\n",
    "        outlet_id = rew_id\n",
    "\n",
    "rew_ids = rew_config.keys()\n",
    "shreves = [rew_config[rew_id]['shreve'] for rew_id in rew_ids]\n",
    "rewQueue = [rew_id for (shreve,rew_id) in sorted(zip(shreves,rew_ids))]\n",
    "network_temps = {}\n",
    "network_airtemp = {}\n",
    "print \"Solve REWs in this order:\"\n",
    "print(rewQueue)\n",
    "\n",
    "for rew_id in rewQueue:\n",
    "    \n",
    "    print 'Working on REW ' + str(rew_id)\n",
    "    shreve  = rew_config[rew_id]['shreve']\n",
    "    group_id = rew_config[rew_id]['group']\n",
    "    climate_group_id = group_id[1]\n",
    "    rew_df = climate_group_forcing[climate_group_id]\n",
    "    width = channel_network[rew_id].width\n",
    "    length = channel_network[rew_id].length\n",
    "    \n",
    "    Lin = np.array(radiation[rew_id]['Lin'][start_date:stop_date].resample(resample_freq_temperature).ffill())\n",
    "    Sin = np.array(radiation[rew_id]['Sin'][start_date:stop_date].resample(resample_freq_temperature).ffill())\n",
    "    \n",
    "    temp_ea = ta_ea[rew_id].resample(resample_freq_temperature).interpolate()\n",
    "    ppt_daily = climate_group_forcing[climate_group_id][start_date:stop_date].ppt\n",
    "    ppt = np.array(climate_group_forcing[climate_group_id][start_date:stop_date].ppt.resample(resample_freq_temperature).ffill())\n",
    "    ta = np.array(temp_ea['ta'][start_date:stop_date])\n",
    "    ea = np.array(temp_ea['ea'][start_date:stop_date])\n",
    "    hillslope_discharge = pd.DataFrame({'discharge':hill_groups[group_id]['discharge']}, index=hill_groups[group_id].index)\n",
    "    hillslope_overlandFlow = pd.DataFrame({'overlandFlow':hill_groups[group_id]['overlandFlow']}, index=hill_groups[group_id].index)\n",
    "    \n",
    "    hillslope_volumetric_overlandFlow = np.array(hillslope_overlandFlow[start_date:stop_date].overlandFlow.resample(resample_freq_temperature).ffill())*rew_config[rew_id]['area_sqcm']\n",
    "    hillslope_volumetric_discharge = np.array(hillslope_discharge[start_date:stop_date].discharge.resample(resample_freq_temperature).ffill())*rew_config[rew_id]['area_sqcm']\n",
    "    hillslope_volumetric_discharge_daily = hillslope_discharge[start_date:stop_date].discharge*rew_config[rew_id]['area_sqcm']\n",
    "    \n",
    "    volumetric_discharge = np.array(solved_channel_routing[rew_id][start_date:stop_date].volumetric_discharge.resample(resample_freq_temperature).ffill())\n",
    "    volumetric_discharge_daily = solved_channel_routing[rew_id][start_date:stop_date].volumetric_discharge\n",
    "    temp = np.zeros(np.shape(t))\n",
    "    \n",
    "    #get upstream discharges, upstream temperatures\n",
    "    vol_1_daily = 0\n",
    "    vol_2_daily = 0\n",
    "    if shreve == 1:\n",
    "        vol_1 = np.zeros(np.shape(t))\n",
    "        vol_2 = np.zeros(np.shape(t))\n",
    "\n",
    "        temp_1 = np.zeros(np.shape(t))\n",
    "        temp_2 = np.zeros(np.shape(t))\n",
    "    else:\n",
    "        upstream_1 = rew_config[rew_id]['prev_str01']\n",
    "        upstream_2 = rew_config[rew_id]['prev_str02']\n",
    "\n",
    "        vol_1 = np.array(solved_channel_routing[upstream_1][start_date:stop_date].volumetric_discharge.resample(resample_freq_temperature).ffill())\n",
    "        vol_2 = np.array(solved_channel_routing[upstream_2][start_date:stop_date].volumetric_discharge.resample(resample_freq_temperature).ffill())\n",
    "\n",
    "        vol_1_daily = solved_channel_routing[upstream_1][start_date:stop_date].volumetric_discharge[0]\n",
    "        vol_2_daily = solved_channel_routing[upstream_2][start_date:stop_date].volumetric_discharge[0]\n",
    "        \n",
    "        temp_1 = np.array(network_temps[upstream_1].temperature)\n",
    "        temp_2 = np.array(network_temps[upstream_2].temperature)\n",
    "\n",
    "    # Now get volumes in channel link. \n",
    "    volume = np.array(solved_channel_routing[rew_id][start_date:stop_date].volumes.resample(resample_freq_temperature).interpolate())\n",
    "    start_temp_model = int(1/dt*(len(pd.date_range(start_date,spinup_date))-365))\n",
    "    for i in range(len(t)):\n",
    "        if i<start_temp_model:\n",
    "            temp[i] = temperature_network[rew_id].temperature\n",
    "        else:\n",
    "            varyArgs = ['vol_1','temp_1','vol_2','temp_2','hillslope_volumetric_discharge', 'hillslope_volumetric_overlandFlow', 'volumetric_discharge', 'volume', 'ta', 'Lin', 'Sin', 'ppt', 'ea']\n",
    "            constArgs = ['width','length']\n",
    "\n",
    "            tempArgs = {}\n",
    "            for arg in varyArgs: tempArgs[arg] = globals()[arg][i]\n",
    "            for arg in constArgs: tempArgs[arg] = globals()[arg]\n",
    "\n",
    "            temp[i]=temperature_network[rew_id].temperature\n",
    "            temperature_network[rew_id].update(dt, **tempArgs)\n",
    "            \n",
    "    \n",
    "            \n",
    "    depth = volume/(length*width)\n",
    "    network_airtemp[rew_id] = pd.DataFrame({'ta':ta, 'ppt':ppt, 'volume':volume, 'depth':depth, 'Sin':Sin}, index=timestamps_temperature)\n",
    "    network_temps[rew_id] = pd.DataFrame({'temperature':temp},index=timestamps_temperature)"
   ]
  },
  {
   "cell_type": "code",
   "execution_count": 6,
   "metadata": {
    "collapsed": false
   },
   "outputs": [
    {
     "ename": "KeyError",
     "evalue": "3",
     "output_type": "error",
     "traceback": [
      "\u001b[0;31m---------------------------------------------------------------------------\u001b[0m",
      "\u001b[0;31mKeyError\u001b[0m                                  Traceback (most recent call last)",
      "\u001b[0;32m<ipython-input-6-f60d5de5ffb9>\u001b[0m in \u001b[0;36m<module>\u001b[0;34m()\u001b[0m\n\u001b[1;32m      3\u001b[0m \u001b[0mtemp_data\u001b[0m \u001b[0;34m=\u001b[0m \u001b[0mpickle\u001b[0m\u001b[0;34m.\u001b[0m\u001b[0mload\u001b[0m\u001b[0;34m(\u001b[0m \u001b[0mopen\u001b[0m\u001b[0;34m(\u001b[0m\u001b[0mos\u001b[0m\u001b[0;34m.\u001b[0m\u001b[0mpath\u001b[0m\u001b[0;34m.\u001b[0m\u001b[0mjoin\u001b[0m\u001b[0;34m(\u001b[0m\u001b[0mparent_dir\u001b[0m\u001b[0;34m,\u001b[0m\u001b[0;34m'calibration_data'\u001b[0m\u001b[0;34m,\u001b[0m\u001b[0;34m'elder_temperature.p'\u001b[0m\u001b[0;34m)\u001b[0m\u001b[0;34m,\u001b[0m \u001b[0;34m\"rb\"\u001b[0m \u001b[0;34m)\u001b[0m\u001b[0;34m)\u001b[0m\u001b[0;34m\u001b[0m\u001b[0m\n\u001b[1;32m      4\u001b[0m \u001b[0;34m\u001b[0m\u001b[0m\n\u001b[0;32m----> 5\u001b[0;31m \u001b[0mplt\u001b[0m\u001b[0;34m.\u001b[0m\u001b[0mplot\u001b[0m\u001b[0;34m(\u001b[0m\u001b[0mnetwork_temps\u001b[0m\u001b[0;34m[\u001b[0m\u001b[0;36m3\u001b[0m\u001b[0;34m]\u001b[0m\u001b[0;34m,\u001b[0m\u001b[0malpha\u001b[0m\u001b[0;34m=\u001b[0m\u001b[0;36m.3\u001b[0m\u001b[0;34m,\u001b[0m \u001b[0mlinewidth\u001b[0m\u001b[0;34m=\u001b[0m\u001b[0;36m4\u001b[0m\u001b[0;34m)\u001b[0m\u001b[0;34m\u001b[0m\u001b[0m\n\u001b[0m\u001b[1;32m      6\u001b[0m \u001b[0mplt\u001b[0m\u001b[0;34m.\u001b[0m\u001b[0mplot\u001b[0m\u001b[0;34m(\u001b[0m\u001b[0mtemp_data\u001b[0m\u001b[0;34m.\u001b[0m\u001b[0mtemperature\u001b[0m\u001b[0;34m)\u001b[0m\u001b[0;34m\u001b[0m\u001b[0m\n\u001b[1;32m      7\u001b[0m \u001b[0mplt\u001b[0m\u001b[0;34m.\u001b[0m\u001b[0mplot\u001b[0m\u001b[0;34m(\u001b[0m\u001b[0mnetwork_airtemp\u001b[0m\u001b[0;34m[\u001b[0m\u001b[0;36m1\u001b[0m\u001b[0;34m]\u001b[0m\u001b[0;34m.\u001b[0m\u001b[0mta\u001b[0m\u001b[0;34m,\u001b[0m\u001b[0malpha\u001b[0m\u001b[0;34m=\u001b[0m\u001b[0;36m0.5\u001b[0m\u001b[0;34m)\u001b[0m\u001b[0;34m\u001b[0m\u001b[0m\n",
      "\u001b[0;31mKeyError\u001b[0m: 3"
     ]
    },
    {
     "data": {
      "text/plain": [
       "<matplotlib.figure.Figure at 0x11abdbb50>"
      ]
     },
     "metadata": {},
     "output_type": "display_data"
    }
   ],
   "source": [
    "sns.set(font_scale=4)\n",
    "plt.figure(figsize=(45,20))\n",
    "temp_data = pickle.load( open(os.path.join(parent_dir,'calibration_data','elder_temperature.p'), \"rb\" ))\n",
    "\n",
    "plt.plot(network_temps[3],alpha=.3, linewidth=4)\n",
    "plt.plot(temp_data.temperature)\n",
    "plt.plot(network_airtemp[1].ta,alpha=0.5)\n",
    "plt.plot(-network_airtemp[1].ppt)\n",
    "# plt.plot((network_airtemp[1].Sin-10)/10)\n",
    "# plt.plot(network_airtemp[1].depth)\n",
    "\n",
    "plt.axvspan(start_date, spinup_date, color='r', alpha=0.1, lw=0)\n",
    "plt.axvspan(spinup_date, stop_date, color='g', alpha=0.1, lw=0)\n",
    "plt.xlim(['10-2012','10-2014'])\n",
    "\n",
    "# plt.ylim([-3,20])"
   ]
  },
  {
   "cell_type": "code",
   "execution_count": null,
   "metadata": {
    "collapsed": false
   },
   "outputs": [],
   "source": [
    "# Mass balance from final iteration\n",
    "cumInDis = np.cumsum(vol_1 + vol_2 + hillslope_volumetric_discharge)*dt\n",
    "cumPpt = np.cumsum(ppt)*dt*length*width\n",
    "cumOutDis = np.cumsum(volumetric_discharge)*dt\n",
    "S0 = volume[0]\n",
    "totalIn = np.array(cumInDis + cumPpt)\n",
    "S = np.array(volume)\n",
    "totalOut = np.array(cumOutDis)\n",
    "balance = (totalIn[:-1] - totalOut[:-1] + S0)/S[1:]\n",
    "plt.plot(balance)\n",
    "print np.max(balance)\n",
    "print np.min(balance)"
   ]
  },
  {
   "cell_type": "code",
   "execution_count": null,
   "metadata": {
    "collapsed": false
   },
   "outputs": [],
   "source": [
    "# # check balance of an individual channel \n",
    "# network_volumetric_discharges = pickle.load( open( os.path.join(parent_dir,'model_data','solved_channel_routing.p'), \"rb\" ) )\n",
    "\n",
    "# rew=3\n",
    "# stream = network_volumetric_discharges[rew].volumes\n",
    "# length = channel_network[rew].length\n",
    "# width = channel_network[rew].width\n",
    "# area = length*width\n",
    "# group = rew_config[rew]['group']\n",
    "# climate_group_id = group_id[1]\n",
    "# ppt = climate_group_forcing[climate_group_id][start_date:stop_date].ppt*area \n",
    "# hillslope_discharge = pd.DataFrame({'discharge':hill_groups[group_id]['discharge']}, index=hill_groups[group_id].index)\n",
    "# hillslope_overlandFlow = pd.DataFrame({'overlandFlow':hill_groups[group_id]['overlandFlow']}, index=hill_groups[group_id].index)\n",
    "# hillslope_discharge['discharge'] = hillslope_discharge['discharge'] + hillslope_overlandFlow['overlandFlow']\n",
    "# hillslope_volumetric_discharge = hillslope_discharge[start_date:stop_date].discharge*rew_config[rew]['area_sqcm']\n",
    "\n",
    "\n",
    "# outDis = network_volumetric_discharges[rew].volumetric_discharge\n",
    "# cumOutDis = outDis.cumsum() \n",
    "\n",
    "# upstream_1 = rew_config[rew]['prev_str01']\n",
    "# upstream_2 = rew_config[rew]['prev_str02']\n",
    "# try:\n",
    "#     vol_1 = network_volumetric_discharges[upstream_1].volumetric_discharge#.resample(resample_freq_channel).ffill()\n",
    "#     vol_2 = network_volumetric_discharges[upstream_2].volumetric_discharge#.resample(resample_freq_channel).ffill()\n",
    "#     inDis = vol_1 + vol_2 + hillslope_volumetric_discharge\n",
    "# except:\n",
    "#     inDis = hillslope_volumetric_discharge\n",
    "        \n",
    "\n",
    "# cumInDis = inDis.cumsum()\n",
    "\n",
    "# cumPpt = ppt.cumsum()\n",
    "\n",
    "\n",
    "# S0 = stream[0] + cumOutDis[0] - cumPpt[0] - cumInDis[0]\n",
    "# totalIn = cumPpt + cumInDis\n",
    "# S =  stream\n",
    "# totalOut = cumOutDis\n",
    "# balance = (totalIn - totalOut + S0)/S\n",
    "# plt.plot(balance[0:-2])\n",
    "# plt.ylim([0,1.1])\n",
    "# print(np.max(balance[0:-2]))\n",
    "# print(np.min(balance[0:-2]))"
   ]
  },
  {
   "cell_type": "code",
   "execution_count": null,
   "metadata": {
    "collapsed": false
   },
   "outputs": [],
   "source": [
    "\n",
    "# rew = 3\n",
    "# group_id = rew_config[rew]['group']\n",
    "# climate_group_id = group_id[1]\n",
    "# network_volumetric_discharges = pickle.load( open( os.path.join(parent_dir,'model_data','solved_channel_routing.p'), \"rb\" ) )\n",
    "\n",
    "# # volume in outlet rew stream\n",
    "# stream = network_volumetric_discharges[rew].volumes.resample(resample_freq_temperature).interpolate()\n",
    "# width = network_volumetric_discharges[rew].width[0]\n",
    "# length = network_volumetric_discharges[rew].length[0]\n",
    "\n",
    "# # volumetric discharge leaving rew stream\n",
    "# volumetric_discharge = network_volumetric_discharges[rew].volumetric_discharge.resample(resample_freq_temperature).bfill()\n",
    "\n",
    "# # precip on channel\n",
    "# area = width*length\n",
    "# ppt = climate_group_forcing[climate_group_id][start_date:stop_date].ppt.resample(resample_freq_temperature).bfill()*area \n",
    "\n",
    "# # incoming hillslope discharge \n",
    "# hillslope_discharge = pd.DataFrame({'discharge':hill_groups[group_id]['discharge']}, index=hill_groups[group_id].index)\n",
    "# hillslope_volumetric_discharge = hillslope_discharge[start_date:stop_date].discharge.resample(resample_freq_temperature).bfill()*rew_config[rew]['area_sqcm']\n",
    "\n",
    "# # volumetric discharges from upstream\n",
    "# upstream_1 = rew_config[rew]['prev_str01']\n",
    "# upstream_2 = rew_config[rew]['prev_str02']            \n",
    "# vol_1 = network_volumetric_discharges[upstream_1].volumetric_discharge.resample(resample_freq_temperature).bfill()\n",
    "# vol_2 = network_volumetric_discharges[upstream_2].volumetric_discharge.resample(resample_freq_temperature).bfill()\n",
    "                                          \n",
    "# cumPpt = np.cumsum(ppt)*dt\n",
    "# cumInDis = np.cumsum(vol_1 + vol_2 + hillslope_volumetric_discharge)*dt\n",
    "# cumOutDis = np.cumsum(volumetric_discharge)*dt\n",
    "\n",
    "# S0 = stream[0] - cumInDis[0] + cumOutDis[0] - cumPpt[0]\n",
    "# S = stream\n",
    "# totalIn = cumPpt + cumInDis\n",
    "# totalOut = cumOutDis\n",
    "# balance = (totalIn - totalOut + S0)/S\n",
    "# print(np.max(balance[0:-int(1/dt)]))\n",
    "# print(np.min(balance[0:-int(1/dt)]))\n",
    "# plt.plot(balance[0:-int(1/dt)])"
   ]
  },
  {
   "cell_type": "code",
   "execution_count": null,
   "metadata": {
    "collapsed": false
   },
   "outputs": [],
   "source": [
    "sns.set(font_scale=1)\n",
    "plt.plot(network_temps[1].temperature.loc['10-5-2012':'10-15-2012'])"
   ]
  },
  {
   "cell_type": "code",
   "execution_count": null,
   "metadata": {
    "collapsed": false
   },
   "outputs": [],
   "source": [
    "network_temps[1].temperature"
   ]
  },
  {
   "cell_type": "code",
   "execution_count": null,
   "metadata": {
    "collapsed": false
   },
   "outputs": [],
   "source": [
    "hillslope_discharge[start_date:stop_date].index.month>8"
   ]
  },
  {
   "cell_type": "code",
   "execution_count": null,
   "metadata": {
    "collapsed": true
   },
   "outputs": [],
   "source": []
  }
 ],
 "metadata": {
  "anaconda-cloud": {},
  "kernelspec": {
   "display_name": "Python [conda env:py2k_model]",
   "language": "python",
   "name": "conda-env-py2k_model-py"
  },
  "language_info": {
   "codemirror_mode": {
    "name": "ipython",
    "version": 2
   },
   "file_extension": ".py",
   "mimetype": "text/x-python",
   "name": "python",
   "nbconvert_exporter": "python",
   "pygments_lexer": "ipython2",
   "version": "2.7.12"
  }
 },
 "nbformat": 4,
 "nbformat_minor": 0
}
