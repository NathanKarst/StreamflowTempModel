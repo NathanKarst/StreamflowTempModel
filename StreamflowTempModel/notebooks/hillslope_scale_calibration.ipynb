{
 "cells": [
  {
   "cell_type": "markdown",
   "metadata": {},
   "source": [
    "# Hillslope Scale Calibration Tutorial\n",
    "\n",
    "This notebook outlines how to perform model calibration for a selected subset of REWs. It is assumed that the selected subset is a unique sub-watershed of the full model watershed. It is furthermore assumed that channel effects are not important at the scale of the sub-watershed, so that the model can be compared to streamflow data simply by up-scaling the hillslopes output. \n",
    "\n",
    "Two files are required for hillslope scale calibration:\n",
    "\n",
    "1. A shapefile corresponding to the sub-basin to be calibrated must be stored in `raw_data/watershed_poly`. \n",
    "2. Streamflow data (in units of cm/day) stored in the `calibration_data` folder. This must be gapless, daily streamflow data spanning at least the time period from `spinup_date` to `stop_date`. \n",
    "\n",
    "Full model calibration including channel transport is overviewed in the [Network Scale Calibration Tutorial](./network_scale_calibration.ipynb). "
   ]
  },
  {
   "cell_type": "code",
   "execution_count": 9,
   "metadata": {
    "collapsed": false,
    "scrolled": true
   },
   "outputs": [],
   "source": [
    "import os\n",
    "import sys\n",
    "from os.path import dirname\n",
    "parent_dir = dirname(dirname(os.getcwd()))\n",
    "sys.path.append(os.path.join(parent_dir,'StreamflowTempModel','2_hillslope_discharge'))\n",
    "sys.path.append(os.path.join(parent_dir,'StreamflowTempModel','3_channel_routing'))\n",
    "import random\n",
    "random.seed()\n",
    "from vadoseZone import *\n",
    "import glob\n",
    "from groundwaterZone import *\n",
    "from REW import REW\n",
    "from matplotlib import pyplot as plt\n",
    "import numpy as np\n",
    "import seaborn as sns\n",
    "import pickle\n",
    "from datetime import date\n",
    "import pandas as pd\n",
    "import numpy as np\n",
    "import geopandas as gp\n",
    "import mpld3\n",
    "import time\n",
    "import sys\n",
    "import copy\n",
    "import shapely\n",
    "import fiona\n",
    "import folium\n",
    "from ast import literal_eval as make_tuple\n",
    "import hillslope_calibration\n",
    "import multiprocessing as mp\n",
    "%matplotlib inline\n",
    "\n",
    "parent_dir = os.path.dirname(os.path.dirname(os.getcwd()))\n",
    "sys.path.append(os.path.join(parent_dir, 'StreamflowTempModel', '1_data_preparation'))\n",
    "from prep import rew_params\n",
    "rew_params()\n",
    "\n",
    "rew_config = pickle.load( open( os.path.join(parent_dir,'model_data','rew_config.p'), \"rb\" ) )\n",
    "climate_group_forcing = pickle.load( open( os.path.join(parent_dir,'model_data','climate_group_forcing.p'), \"rb\" ) )\n",
    "parameter_group_params = pickle.load( open( os.path.join(parent_dir,'model_data','parameter_group_params.p'), \"rb\" ))\n",
    "model_config = pickle.load( open( os.path.join(parent_dir, 'model_data', 'model_config.p'), 'rb'))\n",
    "parameter_ranges = pickle.load( open( os.path.join(parent_dir, 'model_data', 'parameter_ranges.p'), 'rb'))\n",
    "start_date = model_config['start_date']\n",
    "stop_date = model_config['stop_date']\n",
    "spinup_date = model_config['spinup_date']\n",
    "Tmax = model_config['Tmax']\n",
    "dt = model_config['dt_hillslope']\n",
    "resample_freq_hillslope = model_config['resample_freq_hillslope']\n",
    "timestamps_hillslope = pd.date_range(start_date, stop_date, freq=resample_freq_hillslope)\n",
    "t = np.linspace(0,Tmax,np.ceil(Tmax/dt)+1)"
   ]
  },
  {
   "cell_type": "markdown",
   "metadata": {},
   "source": [
    "## Get REWs located within calibration sub-watershed \n",
    "\n",
    "Here, we use the representative REW points to determine which REWs are located within the sub-watershed that we are calibrating. We want to make sure to run the model only for the REWs that are relevant for calibration. If no REWs are contained within the sub-watershed, the REW in which the sub-watershed is located will be calibrated. "
   ]
  },
  {
   "cell_type": "code",
   "execution_count": 10,
   "metadata": {
    "collapsed": false,
    "scrolled": true
   },
   "outputs": [
    {
     "name": "stdout",
     "output_type": "stream",
     "text": [
      "REWs [1, 2, 3] are located within the calibration sub-watershed\n",
      "The groups [(1, 0)] will be run for calibration purposes\n"
     ]
    }
   ],
   "source": [
    "subwatershed_name = 'elder'\n",
    "groups_to_calibrate, ids_in_subwatershed = hillslope_calibration.get_groups_to_calibrate(subwatershed_name + str('.shp'))"
   ]
  },
  {
   "cell_type": "markdown",
   "metadata": {},
   "source": [
    "## Monte Carlo procedure\n",
    "\n",
    "The hillslope calibrator will perform a simple Monte Carlo calibration on any parameters found in the `parameter_ranges` dictionary loaded above.\n",
    "\n",
    "FIX WORDING\n",
    "\n",
    "Now, objective function must be minimized, no matter what. "
   ]
  },
  {
   "cell_type": "code",
   "execution_count": 11,
   "metadata": {
    "collapsed": true
   },
   "outputs": [],
   "source": [
    "# Nash sutcliffe efficiency. Should be maximized for best fit. \n",
    "def objective_function(modeled, observed):\n",
    "    inds = ((modeled != 0) & (observed != 0))\n",
    "    if np.sum(modeled)<0.01:\n",
    "        return -9999.0\n",
    "    elif np.isnan(np.sum(modeled)):\n",
    "        return -9999.0\n",
    "    else:\n",
    "        return 1-np.sum((observed.loc[inds]-modeled.loc[inds])**2)/np.sum((observed.loc[inds]-np.mean(observed.loc[inds]))**2)\n",
    "minimize_objective_function = False\n",
    "\n",
    "\n",
    "# # Log nash sutcliffe efficiency. Should be maximized for best fit. \n",
    "# def objective_function(modeled, observed):\n",
    "#     inds = ((modeled != 0) & (observed != 0))\n",
    "#     if np.sum(modeled)<0.01:\n",
    "#         return -9999.0\n",
    "#     elif np.isnan(np.sum(modeled)):\n",
    "#         return -9999.0\n",
    "#     else:\n",
    "#         return 1-np.sum((np.log(observed.loc[inds])-np.log(modeled.loc[inds]))**2)/np.sum((np.log(observed.loc[inds])-np.mean(np.log(observed.loc[inds])))**2)\n",
    "# minimize_objective_function = False\n",
    "\n",
    "\n",
    "# # r^2. Should be maximized for best fit. \n",
    "# def objective_function(modeled, observed):\n",
    "#     inds = ((modeled != 0) & (observed != 0))\n",
    "#     if np.sum(modeled)<0.01:\n",
    "#         return -9999.0\n",
    "#     elif np.isnan(np.sum(modeled)):\n",
    "#         return -9999.0\n",
    "#     else:\n",
    "#         sstotal = np.sum((observed.loc[inds] - np.mean(observed.loc[inds]))**2)\n",
    "#         ssreg = np.sum((modeled.loc[inds] - np.mean(observed.loc[inds]))**2)\n",
    "#         ssres = np.sum((observed.loc[inds] - modeled.loc[inds])**2)\n",
    "#         return 1-ssres/sstotal\n",
    "# minimize_objective_function = False"
   ]
  },
  {
   "cell_type": "code",
   "execution_count": 12,
   "metadata": {
    "collapsed": false
   },
   "outputs": [
    {
     "name": "stdout",
     "output_type": "stream",
     "text": [
      "There are 4 cores on this machine, \n",
      "20 model runs will be performed on each core\n"
     ]
    }
   ],
   "source": [
    "#specify the number of parameter sets to generate\n",
    "N = 20\n",
    "cores = mp.cpu_count()\n",
    "print('There are %s cores on this machine, \\n%s model runs will be performed on each core'%(str(cores), str(N)))"
   ]
  },
  {
   "cell_type": "code",
   "execution_count": 15,
   "metadata": {
    "collapsed": false
   },
   "outputs": [
    {
     "name": "stderr",
     "output_type": "stream",
     "text": [
      "/Users/daviddralle/anaconda2/envs/py2k_model/lib/python2.7/site-packages/ipywidgets/widgets/widget.py:166: DeprecationWarning: Widget._keys_default is deprecated in traitlets 4.1: use @default decorator instead.\n",
      "  def _keys_default(self):\n",
      "/Users/daviddralle/anaconda2/envs/py2k_model/lib/python2.7/site-packages/ipywidgets/widgets/widget.py:166: DeprecationWarning: Widget._keys_default is deprecated in traitlets 4.1: use @default decorator instead.\n",
      "  def _keys_default(self):\n",
      "/Users/daviddralle/anaconda2/envs/py2k_model/lib/python2.7/site-packages/ipywidgets/widgets/widget.py:166: DeprecationWarning: Widget._keys_default is deprecated in traitlets 4.1: use @default decorator instead.\n",
      "  def _keys_default(self):\n",
      "/Users/daviddralle/anaconda2/envs/py2k_model/lib/python2.7/site-packages/ipywidgets/widgets/widget.py:166: DeprecationWarning: Widget._keys_default is deprecated in traitlets 4.1: use @default decorator instead.\n",
      "  def _keys_default(self):\n"
     ]
    },
    {
     "name": "stdout",
     "output_type": "stream",
     "text": [
      "\n",
      "\n",
      "\n",
      "\n"
     ]
    }
   ],
   "source": [
    "subwatershed_calibration_name = 'elder_runoff' + '.p'\n",
    "calibration_data = pickle.load( open(os.path.join(parent_dir,'calibration_data',subwatershed_calibration_name)))\n",
    "calibration_data = calibration_data[spinup_date:stop_date]\n",
    "\n",
    "parameters_per_core = {}\n",
    "arguments = []\n",
    "for cpu in range(0,cores):\n",
    "    parameters_per_core[cpu] = hillslope_calibration.generate_parameter_sets(N, parameter_group_params, parameter_ranges)\n",
    "    arguments.append((subwatershed_calibration_name, groups_to_calibrate, ids_in_subwatershed, parameters_per_core[cpu], objective_function, minimize_objective_function, cpu))\n",
    "\n",
    "pool = mp.Pool()\n",
    "\n",
    "# results is a list of 3-tuples. Each 3-tuple includes, in order, \n",
    "# the best fit model run time series\n",
    "# the objective function value of the best run, and the index of the best run \n",
    "# parameter set\n",
    "results = pool.map(hillslope_calibration.calibrate, arguments)\n",
    "cpu_objs = [results[i][1] for i in range(cores)]\n",
    "if minimize_objective_function:\n",
    "    cpu_best = np.argmax(cpu_objs)\n",
    "else:\n",
    "    cpu_best = np.argmin(cpu_objs)\n",
    "\n",
    "best_index = results[cpu_best][2]\n",
    "best_fit = results[cpu_best][0]\n",
    "best_objective = results[cpu_best][1]"
   ]
  },
  {
   "cell_type": "code",
   "execution_count": 16,
   "metadata": {
    "collapsed": false
   },
   "outputs": [
    {
     "name": "stdout",
     "output_type": "stream",
     "text": [
      "With an objective function value of 0.89, the best parameter set is:\n",
      "{1: {'storageGZ': 0.0, 'zrS': 100.36, 'zrR': 1000.1, 'res2': 1.0, 'emax': 0.5, 'res1': 1.0, 'gz': <class groundwaterZone.LinearToNonlinearReservoir at 0x109741328>, 'nR': 0.03299892718965077, 'b': 1.5693657635554565, 'discharge': 0, 'stR': 0.352923591207556, 'stS': 0.7890189998777439, 'ET': 0, 'storageS': 0.0, 'nS': 0.5364628376489066, 'leakage': 0, 'a': 0.0435388827748408, 'k12': 0.3432379192907691, 'storageR': 0.0, 'f': 0.850084355142734, 's0R': 0.39040384433338765, 's0S': 0.12913185587049134, 'sfc': 0.51, 'storageVZ': 0, 'k1': 0.25379407593745124, 'vz': <class vadoseZone.SimpleRockMoistureZone at 0x109714f58>}}\n"
     ]
    }
   ],
   "source": [
    "print('With an objective function value of %0.2f, the best parameter set is:' % (np.max(best_objective)))\n",
    "print(parameters_per_core[cpu_best][best_index])\n"
   ]
  },
  {
   "cell_type": "markdown",
   "metadata": {},
   "source": [
    "## Model goodness of fit\n",
    "\n",
    "Here, each model run is compared to calibration data using the objective function as defined above. The user must specify the pickled dataframe with calibration runoff data in units of cm/day. Calibration data must be available at least from `spinup_date` to `stop_date`. "
   ]
  },
  {
   "cell_type": "code",
   "execution_count": null,
   "metadata": {
    "collapsed": false
   },
   "outputs": [],
   "source": [
    "calibration_data = pickle.load( open(os.path.join(parent_dir,'calibration_data',subwatershed_calibration_name)))\n",
    "sns.set(font_scale=1.0)\n",
    "fig = plt.figure(figsize=(7,5))\n",
    "plt.plot(calibration_data.loc[start_date:stop_date],linewidth=3)\n",
    "plt.plot(best_fit.loc[start_date:stop_date],'--',linewidth=3)\n",
    "plt.legend(['Calibration data', 'Best model run'])\n",
    "plt.xlabel('Date')\n",
    "plt.ylabel('Runoff [cm/day]')\n",
    "plt.title( subwatershed_name + ' subwatershed calibration results')\n",
    "html = mpld3.fig_to_html(fig)\n",
    "#print 'The best fit parameter set has an objective function value of %0.2f' % (np.max(best_objective))\n",
    "plt.savefig('/Users/daviddralle/Desktop/cal.pdf')"
   ]
  },
  {
   "cell_type": "code",
   "execution_count": null,
   "metadata": {
    "collapsed": false,
    "scrolled": true
   },
   "outputs": [],
   "source": [
    "# Note: working in Folium, ALL projections must be converted to epsg='4326'\n",
    "watershed_name = 'sf_below_tenmile'\n",
    "subwatershed_name = 'elder'\n",
    "\n",
    "#Add watershed\n",
    "shapefile_path = os.path.join(parent_dir, 'raw_data','watershed_poly', watershed_name + '.shp')\n",
    "basins_shape = gp.GeoDataFrame.from_file(shapefile_path).to_crs(epsg='4326')\n",
    "basins_shape['coords'] = basins_shape['geometry'].apply(lambda x: x.representative_point().coords[:])\n",
    "basins_shape['coords'] = [coords[0] for coords in basins_shape['coords']]\n",
    "basins = basins_shape.to_crs(epsg='4326').to_json()\n",
    "bounds = basins_shape.exterior.bounds\n",
    "\n",
    "mapa = folium.Map([basins_shape['coords'][0][1], basins_shape['coords'][0][0]],\n",
    "                  tiles='Stamen Terrain')\n",
    "\n",
    "folium.GeoJson(\n",
    "    basins,\n",
    "    style_function=lambda feature: {\n",
    "        'color' : '#00ff00',\n",
    "        'fillOpacity': .05\n",
    "        }\n",
    "    ).add_to(mapa)\n",
    "\n",
    "\n",
    "shapefile_path = os.path.join(parent_dir, 'raw_data','watershed_poly', subwatershed_name + '.shp')\n",
    "basins_shape = gp.GeoDataFrame.from_file(shapefile_path).to_crs(epsg='4326')\n",
    "basins_shape['coords'] = basins_shape['geometry'].apply(lambda x: x.representative_point().coords[:])\n",
    "basins_shape['coords'] = [coords[0] for coords in basins_shape['coords']]\n",
    "basins = basins_shape.to_crs(epsg='4326').to_json()\n",
    "\n",
    "folium.GeoJson(\n",
    "    basins,\n",
    "    style_function=lambda feature: {\n",
    "        'color' : '#FF0000',\n",
    "        'opacity': 0.4\n",
    "        }\n",
    "    ).add_to(mapa)\n",
    "\n",
    "iframe = folium.element.IFrame(html=html, width=650, height=400)\n",
    "popup = folium.Popup(iframe, max_width=2650)\n",
    "folium.Marker([basins_shape['coords'][0][1], basins_shape['coords'][0][0]], popup=popup, icon=folium.Icon(color='red',icon='info-sign')).add_to(mapa)\n",
    "\n",
    "streams_path = glob.glob(os.path.join(parent_dir,'raw_data','streams_poly','*.shp'))[0]\n",
    "streams_shape = gp.GeoDataFrame.from_file(streams_path).to_crs(epsg='4326')\n",
    "streams = gp.GeoDataFrame(streams_shape['geometry'], crs=streams_shape.crs)\n",
    "streams['RGBA'] = '#0000ff'\n",
    "streams = streams.to_crs(epsg='4326').to_json()\n",
    "colors = []\n",
    "folium.GeoJson(\n",
    "    streams,\n",
    "    style_function=lambda feature: {\n",
    "        'color' : feature['properties']['RGBA'],\n",
    "        'weight' : 4, \n",
    "        'opacity': 1\n",
    "        }\n",
    "    ).add_to(mapa)\n",
    "\n",
    "\n",
    "calibration_output_name = subwatershed_name + '_calibration.html'\n",
    "mapa.fit_bounds([[ bounds['miny'].loc[0], bounds['minx'].loc[0]], [ bounds['maxy'].loc[0], bounds['maxx'].loc[0]]])\n",
    "mapa.save(os.path.join(parent_dir, 'calibration_output', calibration_output_name))\n",
    "mapa.save(os.path.join(calibration_output_name))\n",
    "mapa"
   ]
  },
  {
   "cell_type": "code",
   "execution_count": null,
   "metadata": {
    "collapsed": true
   },
   "outputs": [],
   "source": []
  }
 ],
 "metadata": {
  "anaconda-cloud": {},
  "kernelspec": {
   "display_name": "Python [conda env:py2k_model]",
   "language": "python",
   "name": "conda-env-py2k_model-py"
  },
  "language_info": {
   "codemirror_mode": {
    "name": "ipython",
    "version": 2
   },
   "file_extension": ".py",
   "mimetype": "text/x-python",
   "name": "python",
   "nbconvert_exporter": "python",
   "pygments_lexer": "ipython2",
   "version": "2.7.12"
  },
  "widgets": {
   "state": {
    "0328b8782131413ca2103776081aa302": {
     "views": [
      {
       "cell_index": 7
      }
     ]
    },
    "19a691a9d3be4466aefc1ca6bce455bc": {
     "views": [
      {
       "cell_index": 7
      }
     ]
    },
    "4cff935bc4d844539e75ac5fc159cbb1": {
     "views": [
      {
       "cell_index": 7
      }
     ]
    },
    "888775f443104e3d84a911e92957fd1f": {
     "views": [
      {
       "cell_index": 7
      }
     ]
    },
    "8ab00c27bfef4d3491aa3b8d97ef4c2c": {
     "views": [
      {
       "cell_index": 7
      }
     ]
    },
    "9b80a72a851747f19acb580960a006f8": {
     "views": [
      {
       "cell_index": 7
      }
     ]
    },
    "c67361efb04a4fce83a2b04b9ab2cd48": {
     "views": [
      {
       "cell_index": 7
      }
     ]
    },
    "cab7b815ea404f3390b8a42d2be55633": {
     "views": [
      {
       "cell_index": 7
      }
     ]
    }
   },
   "version": "1.2.0"
  }
 },
 "nbformat": 4,
 "nbformat_minor": 0
}
