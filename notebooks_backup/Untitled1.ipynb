{
 "cells": [
  {
   "cell_type": "code",
   "execution_count": 15,
   "metadata": {
    "collapsed": false
   },
   "outputs": [],
   "source": [
    "%matplotlib inline\n",
    "import os\n",
    "import sys\n",
    "from os.path import dirname\n",
    "parent_dir = dirname(dirname(os.getcwd()))\n",
    "sys.path.append(os.path.join(parent_dir,'StreamflowTempModel','2_hillslope_discharge'))\n",
    "sys.path.append(os.path.join(parent_dir,'StreamflowTempModel','3_channel_routing'))\n",
    "\n",
    "from vadoseZone import LaioVadoseZone, PorporatoVadoseZone\n",
    "from groundwaterZone import GroundwaterZone, NonlinearReservoir\n",
    "from REW import REW\n",
    "from matplotlib import pyplot as plt\n",
    "import numpy as np\n",
    "import seaborn as sns\n",
    "import numpy as np"
   ]
  },
  {
   "cell_type": "code",
   "execution_count": 36,
   "metadata": {
    "collapsed": false
   },
   "outputs": [],
   "source": [
    "## time domain\n",
    "Tmax    = 365*10.               # days (or whatever)\n",
    "dt      = 1/24.               \n",
    "t       = np.linspace(0,Tmax,np.ceil(Tmax/dt))\n",
    "\n",
    "## rainfall statistics\n",
    "alpha       = 2.5               # [cm / event]\n",
    "L           = 10/30.            # [events / day]\n",
    "\n",
    "rainfall = np.array([np.random.exponential(alpha) if np.random.uniform() > np.exp(-L*dt) else 0.0 for i in range(len(t))])"
   ]
  },
  {
   "cell_type": "code",
   "execution_count": 37,
   "metadata": {
    "collapsed": false
   },
   "outputs": [],
   "source": [
    "params = {'n': 0.29, 'storage': 0, 'discharge': 0, 'groundwater': 0, 'emax': 0.5, 'b': 3, 'leakage': 0, 'a': 0.0001064, 'sfc': 0.51, 'sw': 0.3, 'zr': 76.4, 'ET': 0}\n",
    "\n",
    "vz = PorporatoVadoseZone(**params)\n",
    "gz = NonlinearReservoir(**params)\n",
    "\n",
    "rew = REW(vz,gz,**{'ppt':rainfall})"
   ]
  },
  {
   "cell_type": "code",
   "execution_count": 38,
   "metadata": {
    "collapsed": false
   },
   "outputs": [
    {
     "data": {
      "text/plain": [
       "[<matplotlib.lines.Line2D at 0x1171bccd0>]"
      ]
     },
     "execution_count": 38,
     "metadata": {},
     "output_type": "execute_result"
    },
    {
     "data": {
      "image/png": "[encoded data removed]",
      "text/plain": [
       "<matplotlib.figure.Figure at 0x11808f810>"
      ]
     },
     "metadata": {},
     "output_type": "display_data"
    }
   ],
   "source": [
    "vzStorage   = np.zeros(np.size(t))\n",
    "gzStorage   = np.zeros(np.size(t))\n",
    "\n",
    "for i in range(len(rainfall)):\n",
    "    vzFluxes = rew.vz.update(dt,**{'ppt':rew.ppt[i]})\n",
    "\n",
    "    vzStorage[i]    = rew.vz.storage/params['n']/params['zr'] # [cm]\n",
    "    \n",
    "plt.plot(t,vzStorage)"
   ]
  },
  {
   "cell_type": "code",
   "execution_count": 46,
   "metadata": {
    "collapsed": false
   },
   "outputs": [
    {
     "data": {
      "text/plain": [
       "(array([  1.48000000e+02,   3.96000000e+02,   5.41000000e+02,\n",
       "          7.50000000e+02,   1.06700000e+03,   1.22200000e+03,\n",
       "          1.52900000e+03,   1.78600000e+03,   1.91400000e+03,\n",
       "          2.04400000e+03,   2.27300000e+03,   2.38400000e+03,\n",
       "          2.39700000e+03,   2.51600000e+03,   2.53100000e+03,\n",
       "          2.57800000e+03,   2.63700000e+03,   2.65900000e+03,\n",
       "          2.64000000e+03,   2.58700000e+03,   2.47400000e+03,\n",
       "          2.42500000e+03,   2.35900000e+03,   2.25200000e+03,\n",
       "          2.24900000e+03,   2.13500000e+03,   2.05000000e+03,\n",
       "          1.88900000e+03,   1.78900000e+03,   1.64100000e+03,\n",
       "          1.49000000e+03,   1.43000000e+03,   1.32000000e+03,\n",
       "          1.19300000e+03,   1.09700000e+03,   1.02200000e+03,\n",
       "          9.60000000e+02,   9.51000000e+02,   8.62000000e+02,\n",
       "          7.96000000e+02,   7.47000000e+02,   6.77000000e+02,\n",
       "          6.40000000e+02,   5.84000000e+02,   5.88000000e+02,\n",
       "          5.50000000e+02,   4.90000000e+02,   4.51000000e+02,\n",
       "          4.17000000e+02,   3.76000000e+02,   3.34000000e+02,\n",
       "          3.11000000e+02,   2.89000000e+02,   2.69000000e+02,\n",
       "          2.55000000e+02,   2.57000000e+02,   2.18000000e+02,\n",
       "          2.03000000e+02,   1.75000000e+02,   1.89000000e+02,\n",
       "          1.77000000e+02,   1.57000000e+02,   1.55000000e+02,\n",
       "          1.42000000e+02,   1.41000000e+02,   1.25000000e+02,\n",
       "          1.10000000e+02,   1.03000000e+02,   9.30000000e+01,\n",
       "          8.60000000e+01,   8.30000000e+01,   7.70000000e+01,\n",
       "          6.70000000e+01,   5.80000000e+01,   4.00000000e+01,\n",
       "          3.70000000e+01,   3.30000000e+01,   3.00000000e+01,\n",
       "          2.20000000e+01,   1.70000000e+01,   1.10000000e+01,\n",
       "          1.00000000e+01,   9.00000000e+00,   6.00000000e+00,\n",
       "          6.00000000e+00,   5.00000000e+00,   5.00000000e+00,\n",
       "          4.00000000e+00,   2.00000000e+00,   2.00000000e+00,\n",
       "          3.00000000e+00,   2.00000000e+00,   3.00000000e+00,\n",
       "          2.00000000e+00,   2.00000000e+00,   3.00000000e+00,\n",
       "          2.00000000e+00,   2.00000000e+00,   2.00000000e+00,\n",
       "          3.00000000e+00]),\n",
       " array([ 0.30094437,  0.30150126,  0.30205816,  0.30261506,  0.30317196,\n",
       "         0.30372886,  0.30428575,  0.30484265,  0.30539955,  0.30595645,\n",
       "         0.30651335,  0.30707024,  0.30762714,  0.30818404,  0.30874094,\n",
       "         0.30929784,  0.30985473,  0.31041163,  0.31096853,  0.31152543,\n",
       "         0.31208233,  0.31263922,  0.31319612,  0.31375302,  0.31430992,\n",
       "         0.31486682,  0.31542371,  0.31598061,  0.31653751,  0.31709441,\n",
       "         0.31765131,  0.3182082 ,  0.3187651 ,  0.319322  ,  0.3198789 ,\n",
       "         0.3204358 ,  0.32099269,  0.32154959,  0.32210649,  0.32266339,\n",
       "         0.32322029,  0.32377718,  0.32433408,  0.32489098,  0.32544788,\n",
       "         0.32600478,  0.32656167,  0.32711857,  0.32767547,  0.32823237,\n",
       "         0.32878927,  0.32934617,  0.32990306,  0.33045996,  0.33101686,\n",
       "         0.33157376,  0.33213066,  0.33268755,  0.33324445,  0.33380135,\n",
       "         0.33435825,  0.33491515,  0.33547204,  0.33602894,  0.33658584,\n",
       "         0.33714274,  0.33769964,  0.33825653,  0.33881343,  0.33937033,\n",
       "         0.33992723,  0.34048413,  0.34104102,  0.34159792,  0.34215482,\n",
       "         0.34271172,  0.34326862,  0.34382551,  0.34438241,  0.34493931,\n",
       "         0.34549621,  0.34605311,  0.34661   ,  0.3471669 ,  0.3477238 ,\n",
       "         0.3482807 ,  0.3488376 ,  0.34939449,  0.34995139,  0.35050829,\n",
       "         0.35106519,  0.35162209,  0.35217898,  0.35273588,  0.35329278,\n",
       "         0.35384968,  0.35440658,  0.35496347,  0.35552037,  0.35607727,\n",
       "         0.35663417]),\n",
       " <a list of 100 Patch objects>)"
      ]
     },
     "execution_count": 46,
     "metadata": {},
     "output_type": "execute_result"
    },
    {
     "data": {
      "image/png": "[encoded data removed]",
      "text/plain": [
       "<matplotlib.figure.Figure at 0x1195959d0>"
      ]
     },
     "metadata": {},
     "output_type": "display_data"
    }
   ],
   "source": [
    "plt.hist(vzStorage[24*365:],100)"
   ]
  }
 ],
 "metadata": {
  "anaconda-cloud": {},
  "kernelspec": {
   "display_name": "Python [py2k_gis]",
   "language": "python",
   "name": "Python [py2k_gis]"
  },
  "language_info": {
   "codemirror_mode": {
    "name": "ipython",
    "version": 2
   },
   "file_extension": ".py",
   "mimetype": "text/x-python",
   "name": "python",
   "nbconvert_exporter": "python",
   "pygments_lexer": "ipython2",
   "version": "2.7.11"
  }
 },
 "nbformat": 4,
 "nbformat_minor": 0
}
