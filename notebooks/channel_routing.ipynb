{
 "cells": [
  {
   "cell_type": "markdown",
   "metadata": {},
   "source": [
    "# Channel Routing Tutorial\n",
    "\n",
    "In this notebook, we'll cover the basics routing hillslope discharge time series through a channel network. To learn more about how to simulate hillslope discharge, see the [hillslope discharge tutorial notebook](hillslope_discharge.ipynb). To learn more about how to create a channel network topoolgy and geometry from a digital elevation map, check out the [GRASS GIS tutorial]()."
   ]
  },
  {
   "cell_type": "code",
   "execution_count": 3,
   "metadata": {
    "collapsed": false
   },
   "outputs": [
    {
     "name": "stderr",
     "output_type": "stream",
     "text": [
      "/Users/nathankarst/anaconda/envs/py2k_gis/lib/python2.7/site-packages/IPython/html.py:14: ShimWarning: The `IPython.html` package has been deprecated. You should import from `notebook` instead. `IPython.html.widgets` has moved to `ipywidgets`.\n",
      "  \"`IPython.html.widgets` has moved to `ipywidgets`.\", ShimWarning)\n"
     ]
    }
   ],
   "source": [
    "%matplotlib inline\n",
    "import numpy as np\n",
    "from matplotlib import pyplot as plt\n",
    "import seaborn as sns\n",
    "import os\n",
    "import pickle\n",
    "from datetime import date\n",
    "import pandas as pd"
   ]
  },
  {
   "cell_type": "markdown",
   "metadata": {},
   "source": [
    "We'll first need to import some classes to populate the hillslopes and channels of our REWs. The modules that are imported here must include all vadose zone, groundwater zone, and channel models that are specified in the `group_params` data strcuture discussed below. "
   ]
  },
  {
   "cell_type": "code",
   "execution_count": 4,
   "metadata": {
    "collapsed": true
   },
   "outputs": [],
   "source": [
    "import sys\n",
    "from os.path import dirname\n",
    "parent_dir = dirname(dirname(os.getcwd()))\n",
    "sys.path.append(os.path.join(parent_dir,'StreamflowTempModel','2_hillslope_discharge'))\n",
    "sys.path.append(os.path.join(parent_dir,'StreamflowTempModel','3_channel_routing'))\n",
    "\n",
    "#must import all hillslope modules to set models for each group\n",
    "\n",
    "from REW import REW\n",
    "\n",
    "from vadoseZone import LaioVadoseZone\n",
    "from groundwaterZone import NonlinearReservoir\n",
    "\n",
    "from channel import SimpleChannel"
   ]
  },
  {
   "cell_type": "markdown",
   "metadata": {},
   "source": [
    "First, we'll need to set up some data structures to hold REW parameters and forcing data. We'll assume that these have already been computed and have been stored in the `model_data` subfolder of the parent folder. We'll then need to set some model parameters related to timescales and simuluation domains. These are both very similar to the set up in the [hillslope discharge tutorial notebook](hillslope_discharge.ipynb), and so we won't go into too much detail here. It's worth noting that we specify different timescales for hillslope discharge and channel routing. This provides us the flexibility to dial down the channel routing time step in order to ensure numerical convergence of the kinematic wave solver, while at the same time not requiring the relatively simpler hillslope discharge solver to operate at this short time step."
   ]
  },
  {
   "cell_type": "code",
   "execution_count": 5,
   "metadata": {
    "collapsed": false
   },
   "outputs": [],
   "source": [
    "hill_groups = pickle.load( open( os.path.join(parent_dir,'model_data','solved_group_hillslopes_dict.p'), \"rb\" ) )\n",
    "rew_config = pickle.load( open( os.path.join(parent_dir,'model_data','rew_config.p'), \"rb\" ) )\n",
    "group_params = pickle.load( open( os.path.join(parent_dir,'model_data','group_params.p'), \"rb\" ))\n",
    "model_config = pickle.load( open( os.path.join(parent_dir, 'model_data', 'model_config.p'), 'rb'))\n",
    "rew_forcing_dict = pickle.load( open( os.path.join(parent_dir,'model_data','rew_forcing_dict.p'), \"rb\" ) )\n",
    "channel_params = pickle.load( open( os.path.join(parent_dir,'model_data','channel_params.p'), \"rb\" ))\n",
    "\n",
    "#start/stop dates for running model  \n",
    "#spinup date is the date after start_date for which we assume model is finished spinning up         \n",
    "start_date = model_config['start_date']\n",
    "stop_date = model_config['stop_date']\n",
    "spinup_date = model_config['spinup_date']\n",
    "Tmax = model_config['Tmax']\n",
    "dt = model_config['dt_channel']\n",
    "t = model_config['t_channel']\n",
    "resample_freq_channel = model_config['resample_freq_channel']\n",
    "resample_freq_hillslope = model_config['resample_freq_hillslope']\n",
    "timestamps_hillslope = model_config['timestamps_hillslope']\n",
    "timestamps_channel = model_config['timestamps_channel']"
   ]
  },
  {
   "cell_type": "markdown",
   "metadata": {},
   "source": [
    "The `channel_params` file must contain a dictionary whose keys are REW IDs, and whose values are themselves dictionaries. These key-value pairs of these inner dictionaries the attribute names and values required to fully populate the user-specified `Channel` class."
   ]
  },
  {
   "cell_type": "code",
   "execution_count": 8,
   "metadata": {
    "collapsed": true
   },
   "outputs": [],
   "source": [
    "channel_network = {}\n",
    "for rew_id in rew_config.index: \n",
    "    channel_network[rew_id] = SimpleChannel(rew_id=rew_id, rew_config=rew_config, **channel_params[rew_id])"
   ]
  },
  {
   "cell_type": "markdown",
   "metadata": {},
   "source": [
    "We need to compute each channels discharge time series, starting from the headwaters and moving downstream. There are many ways we might compute an acceptable ordering of channels, but Grass GIS has already computed one for us; the Shreve index of a stream is defined as 1 if the stream is at the headwaters as the sum of its parents' Shreve indices otherwise. We can therefore simply compute channel flow starting with all channels with Shreve index 1 and work our way forward. \n",
    "\n",
    "The workhorse function in channel routing is the `update` method required by any inheritor of the abstract `Channel` class. As in solving any PDE, there is always the risk of introducing numerical instability in this update method if the time step is not sufficiently small. In this example, we have included a simple proof of concept testing procedure that raises a flag if the channel would be completely evacuated in a single timestep given the current velocity.\n",
    "\n",
    "We save discharge data as a dictionary whose keys are REW IDs and whose values are time series; this file is placed in `network_volumetric_discharges` in the `model_data` folder. \n"
   ]
  },
  {
   "cell_type": "code",
   "execution_count": 53,
   "metadata": {
    "collapsed": false
   },
   "outputs": [
    {
     "name": "stdout",
     "output_type": "stream",
     "text": [
      "\n",
      "Warning: Numerical instability encountered. Consider decreasing timestep size. \n",
      "Discharge for REW 6 had to be approximated for some timesteps. \n",
      "\n",
      "\n",
      "Warning: Numerical instability encountered. Consider decreasing timestep size. \n",
      "Discharge for REW 10 had to be approximated for some timesteps. \n",
      "\n",
      "\n",
      "Warning: Numerical instability encountered. Consider decreasing timestep size. \n",
      "Discharge for REW 4 had to be approximated for some timesteps. \n",
      "\n"
     ]
    }
   ],
   "source": [
    "network_volumetric_discharges = {}\n",
    "network_volumes = {}\n",
    "\n",
    "channelQueue = rew_config.sort_values('shreve').index\n",
    "\n",
    "for rew_id in channelQueue:\n",
    "    shreve  = rew_config.shreve.loc[rew_id]\n",
    "    group_id = rew_config.group.loc[rew_id]\n",
    "    ppt = np.array(rew_forcing_dict[rew_id][start_date:stop_date].ppt.resample(resample_freq_channel).ffill())\n",
    "    hillslope_discharge = pd.DataFrame({'discharge':hill_groups[group_id]['discharge']}, index=hill_groups[group_id].index)\n",
    "    hillslope_volumetric_discharge = np.array(hillslope_discharge[start_date:stop_date].discharge.resample(resample_freq_channel).ffill())*rew_config.area_sqcm.loc[rew_id]\n",
    "    volumetric_discharge = np.zeros(np.size(t))\n",
    "    volumes = np.zeros(np.size(t))\n",
    "    approx = 0\n",
    "    \n",
    "    if shreve == 1:\n",
    "        up = np.zeros(np.shape(t))\n",
    "    else:\n",
    "        up = np.array(network_volumetric_discharges[rew_config.prev_str01.loc[rew_id]].volumetric_discharge.resample(resample_freq_channel).ffill() + network_volumetric_discharges[rew_config.prev_str02.loc[rew_id]].volumetric_discharge.resample(resample_freq_channel).ffill())\n",
    "    \n",
    "    for i in range(len(t)):\n",
    "        result = channel_network[rew_id].update(dt, upstream_volumetric_discharge=up[i], hillslope_volumetric_discharge=hillslope_volumetric_discharge[i] , ppt=ppt[i])\n",
    "        approx = (approx or result)\n",
    "        volumetric_discharge[i]=channel_network[rew_id].volumetric_discharge\n",
    "        volumes[i] = channel_network[rew_id].volume\n",
    "\n",
    "    if approx==1: \n",
    "        print '\\nWarning: Numerical instability encountered. Consider decreasing timestep size. \\nDischarge for REW ' + str(rew_id) + ' had to be approximated for some timesteps. \\n'\n",
    "\n",
    "    network_volumetric_discharges[rew_id]=pd.DataFrame({'volumetric_discharge':volumetric_discharge}, index=timestamps_channel).resample('D').mean()\n",
    "    network_volumes[rew_id] = pd.DataFrame({'volumes':volumes}, index=timestamps_channel).resample('D').mean()\n",
    "                \n",
    "pickle.dump( network_volumetric_discharges, open( os.path.join(parent_dir,'model_data','network_volumetric_discharges.p'), \"wb\" ) )\n",
    "pickle.dump( network_volumes, open( os.path.join(parent_dir,'model_data','network_volumes.p'), \"wb\" ) )"
   ]
  },
  {
   "cell_type": "code",
   "execution_count": 54,
   "metadata": {
    "collapsed": false
   },
   "outputs": [
    {
     "data": {
      "image/png": "[encoded data removed]",
      "text/plain": [
       "<matplotlib.figure.Figure at 0x116208cd0>"
      ]
     },
     "metadata": {},
     "output_type": "display_data"
    }
   ],
   "source": [
    "discharge = np.array(network_volumetric_discharges[2].volumetric_discharge/rew_config.upstream_area.loc[2])\n",
    "elder_df = pickle.load( open( os.path.join(parent_dir, 'calibration_data', 'elder_2010_2015.p'), 'rb'))\n",
    "elder_runoff_df = elder_df['runoff'][start_date:stop_date]\n",
    "elder_runoff = np.array(elder_df['runoff'][start_date:stop_date])\n",
    "outflows_df = pd.DataFrame({'data':elder_runoff, 'modeled':discharge}, index = elder_runoff_df.index)\n",
    "outflows_df.plot()\n",
    "plt.show()"
   ]
  },
  {
   "cell_type": "code",
   "execution_count": null,
   "metadata": {
    "collapsed": true
   },
   "outputs": [],
   "source": []
  }
 ],
 "metadata": {
  "anaconda-cloud": {},
  "kernelspec": {
   "display_name": "Python [py2k_gis]",
   "language": "python",
   "name": "Python [py2k_gis]"
  },
  "language_info": {
   "codemirror_mode": {
    "name": "ipython",
    "version": 2
   },
   "file_extension": ".py",
   "mimetype": "text/x-python",
   "name": "python",
   "nbconvert_exporter": "python",
   "pygments_lexer": "ipython2",
   "version": "2.7.11"
  }
 },
 "nbformat": 4,
 "nbformat_minor": 0
}
