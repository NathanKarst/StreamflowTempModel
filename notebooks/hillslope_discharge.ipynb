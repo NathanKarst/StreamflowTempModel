{
 "cells": [
  {
   "cell_type": "markdown",
   "metadata": {},
   "source": [
    "# Hillslope Discharge Tutorial\n",
    "\n",
    "This notebook outlines how to access parameters and forcing data across a collection of REWs in order to compute hillslope discharge. We pay special attention to dealing with REW parameter and climate groups, which potentially simplify calibration procedures. In this example, we lay out the general organization to deal with multiple parameter groups but will in fact only consider one.  "
   ]
  },
  {
   "cell_type": "code",
   "execution_count": 1,
   "metadata": {
    "collapsed": false
   },
   "outputs": [],
   "source": [
    "%matplotlib inline\n",
    "import os\n",
    "from matplotlib import pylab\n",
    "import sys\n",
    "from os.path import dirname\n",
    "parent_dir = dirname(dirname(os.getcwd()))\n",
    "sys.path.append(os.path.join(parent_dir,'StreamflowTempModel','2_hillslope_discharge'))\n",
    "sys.path.append(os.path.join(parent_dir,'StreamflowTempModel','3_channel_routing'))\n",
    "\n",
    "from vadoseZone import *\n",
    "from groundwaterZone import *\n",
    "from REW import REW\n",
    "from matplotlib import pyplot as plt\n",
    "import numpy as np\n",
    "import seaborn as sns\n",
    "import pickle\n",
    "from datetime import date\n",
    "import pandas as pd\n",
    "import numpy as np\n",
    "import time\n",
    "import sys"
   ]
  },
  {
   "cell_type": "markdown",
   "metadata": {},
   "source": [
    "First, we'll need to set up some data structures to hold REW parameters and forcing data. We'll assume that these have already been computed and have been stored in the `model_data` subfolder of the parent folder. For information on the creation of these data, refer to the [model parameterization](./parameterize_and_configure.ipynb) or [data preparation](./prism_forcing.ipynb) notebooks. \n",
    "\n",
    "The `rew_config` dictionary has as its keys the list of all REWs to be modeled in the simulation. The value of each key contains data primarily related to physical topological attributes of each REW. The most important field in this example will be `group`, which specifies which collection of parameters we will be using to configure each REW. See the description of `group_params` below for more details.\n",
    "\n",
    "The `rew_forcing` dictionary contains a number of forcing time series. The only one we will be using here is precipiation, `ppt`. \n",
    "\n",
    "The `group_params` dictionary has as its keys the list of all REW parameter groups. For each group, we can specific both scalars like field capacity or maximum evapotranspiration, and classes like specific groundwater and vadose zone mdoels. **The parameters enumerated for each group must include those needed to fully populate the chosen vadose zone and groundwater zone models, and the naming conventions between `group_params` and each class must match.** For instance, if the chosen vadose zone model has a field capacity attribute named `sfc`, then each value in the `group_params` dictionary must have a `sfc` key. Each REW will be instantiated using the parameters corresponding to the its `group` field in `rew_config`. This allows us to perform expensive calibration procedures only a few representative REW \"types\" (e.g., coastal belt covered in a Douglas fir), rather than on each REW individually. \n",
    "\n",
    "The `model_config` dictionary contains the high level parameters needed to spool up and execute the time domain simulation. Values include time stamps at which hillslope discharge will be computed, as well as the time step lengths and resampling frequencies necessary to map forcing data onto the desired simulation timescales. "
   ]
  },
  {
   "cell_type": "code",
   "execution_count": 2,
   "metadata": {
    "collapsed": false
   },
   "outputs": [],
   "source": [
    "# Load config files, forcing file, and paramters for each group\n",
    "parent_dir = os.path.dirname(os.path.dirname(os.getcwd()))\n",
    "\n",
    "sys.path.append(os.path.join(parent_dir, 'StreamflowTempModel', '1_data_preparation'))\n",
    "\n",
    "# These dictionaries contain the all the data we'll need to instantiate \n",
    "rew_config = pickle.load( open( os.path.join(parent_dir,'model_data','rew_config.p'), \"rb\" ) )\n",
    "climate_group_forcing = pickle.load( open( os.path.join(parent_dir,'model_data','climate_group_forcing.p'), \"rb\" ) )\n",
    "parameter_group_params = pickle.load( open( os.path.join(parent_dir,'model_data','parameter_group_params.p'), \"rb\" ))\n",
    "model_config = pickle.load( open( os.path.join(parent_dir, 'model_data', 'model_config.p'), 'rb'))\n"
   ]
  },
  {
   "cell_type": "markdown",
   "metadata": {},
   "source": [
    "Before starting the simulation, it's convenient to load some of the model configuration data into the local workspace, rather than continually pulling from the `model_config` dictionary. \n",
    "\n",
    "The most important quantities here are the `start_date`, `stop_date` and `spinup_date`. The first two are self-explanatory; the last specifies the date at which we assume transients related, for instance, to starting with empty groundwater and vadose zone stocks have exited the system. \n",
    "\n",
    "Note that `model_config` typically contains datetime indices, time steps, and resampling frequencies related to both the hillslope dischage _and_ channel routing models. Since we'll only be dealing with the hillslope part of the process in this example, we'll simplify the notation. "
   ]
  },
  {
   "cell_type": "code",
   "execution_count": 3,
   "metadata": {
    "collapsed": true
   },
   "outputs": [],
   "source": [
    "start_date = model_config['start_date']\n",
    "stop_date = model_config['stop_date']\n",
    "spinup_date = model_config['spinup_date']\n",
    "Tmax = model_config['Tmax']\n",
    "dt = model_config['dt_hillslope']\n",
    "t = model_config['t_hillslope']\n",
    "resample_freq_hillslope = model_config['resample_freq_hillslope']\n",
    "timestamps_hillslope = model_config['timestamps_hillslope']"
   ]
  },
  {
   "cell_type": "markdown",
   "metadata": {},
   "source": [
    "With the forcing data, REW parameterizations, and overarching model description in hand, we're finally ready to run the model. We assume that in terms of hillslope discharge, no REW depends on any other, and so we can simply simulate discharge sequentially along the list of REWs. For each REW, we\n",
    "\n",
    "* Instantiate a `REW` instance using the parameterization provided in `group_params`. For each REW, the appropriate group ID is located in `rew_config[REW ID]['group']`;\n",
    "* Intialize empty vadose zone and groundwater zone stocks, as well as empty time series related to the major fluxes of each zone;\n",
    "* Populate the attributes of both the vadose and groundwater zones. At REW instantiation, both the vadose zone and groundwater zone are empty. Therefore, the `group_params` dictionary **must** specify all quantities necessary for model execution, and these quantities must have the same variable name in both `group_params` and the corresponding model class; \n",
    "* Resample forcing data at the hillslope discharge simulation timescale specified in `model_config`;\n",
    "* Simulate hillslope discharge at each time specified in the `t_hillsope` field of `model_config`;\n",
    "* Store the flux and stock time series data in a Pandas data frame for each REW, and bundle these Pandas data frames into a dictionary of solved hillslopes indexed by its group ID;\n",
    "* Save these solved hillslopes to the pickle file `solved_group_hillslopes` in the `model_data folder`."
   ]
  },
  {
   "cell_type": "code",
   "execution_count": 4,
   "metadata": {
    "collapsed": false,
    "scrolled": true
   },
   "outputs": [],
   "source": [
    "group_ids = [rew_config[i]['group'] for i in rew_config.keys()]\n",
    "solved_group_hillslopes_dict = {}\n",
    "\n",
    "for group_id in group_ids:\n",
    "\n",
    "    parameter_group_id = group_id[0]\n",
    "    climate_group_id = group_id[1]\n",
    "        \n",
    "    vz = parameter_group_params[parameter_group_id]['vz'](**parameter_group_params[parameter_group_id])\n",
    "    gz = parameter_group_params[parameter_group_id]['gz'](**parameter_group_params[parameter_group_id])    \n",
    "    \n",
    "    rew = REW(vz, gz,  **{'pet':climate_group_forcing[climate_group_id].pet, 'ppt':climate_group_forcing[climate_group_id].ppt, 'aspect':90})\n",
    "\n",
    "    storage    = np.zeros(np.size(t))\n",
    "    groundwater     = np.zeros(np.size(t))\n",
    "    discharge       = np.zeros(np.size(t))\n",
    "    leakage         = np.zeros(np.size(t))\n",
    "    ET              = np.zeros(np.size(t))\n",
    "\n",
    "    # Resample pet and ppt to integration timestep\n",
    "    ppt = np.array(rew.ppt[start_date:stop_date].resample(resample_freq_hillslope).ffill())\n",
    "    pet = np.array(rew.pet[start_date:stop_date].resample(resample_freq_hillslope).ffill())\n",
    "\n",
    "    # Solve group hillslope\n",
    "    for i in range(len(t)):\n",
    "        rew.vz.update(dt,**{'ppt':ppt[i],'pet':pet[i]})\n",
    "        storage[i] = rew.vz.storage\n",
    "        leakage[i]      = rew.vz.leakage\n",
    "        ET[i]           = rew.vz.ET   \n",
    "        rew.gz.update(dt,**{'leakage':leakage[i]})\n",
    "        groundwater[i] = rew.gz.storage\n",
    "        discharge[i] = rew.gz.discharge\n",
    "\n",
    "    # Save all results as daily data. \n",
    "    solved_hillslope = pd.DataFrame({'storage':storage, 'leakage':leakage, 'ET':ET, 'groundwater':groundwater, 'discharge':discharge}, index=timestamps_hillslope)\n",
    "    solved_group_hillslopes_dict[group_id] = solved_hillslope.resample('D').mean()\n",
    "\n",
    "pickle.dump( solved_group_hillslopes_dict, open( os.path.join(parent_dir,'model_data','solved_hillslope_discharge.p'), \"wb\" ) )"
   ]
  },
  {
   "cell_type": "code",
   "execution_count": 5,
   "metadata": {
    "collapsed": false
   },
   "outputs": [
    {
     "data": {
      "text/plain": [
       "<matplotlib.axes._subplots.AxesSubplot at 0x103defd10>"
      ]
     },
     "execution_count": 5,
     "metadata": {},
     "output_type": "execute_result"
    },
    {
     "data": {
      "image/png": "[encoded data removed]",
      "text/plain": [
       "<matplotlib.figure.Figure at 0x103de1f50>"
      ]
     },
     "metadata": {},
     "output_type": "display_data"
    }
   ],
   "source": [
    "pylab.rcParams['figure.figsize'] = (10, 6)\n",
    "solved_hillslope.plot(y='discharge')"
   ]
  },
  {
   "cell_type": "code",
   "execution_count": null,
   "metadata": {
    "collapsed": true
   },
   "outputs": [],
   "source": []
  }
 ],
 "metadata": {
  "anaconda-cloud": {},
  "kernelspec": {
   "display_name": "Python 2",
   "language": "python",
   "name": "python2"
  },
  "language_info": {
   "codemirror_mode": {
    "name": "ipython",
    "version": 2
   },
   "file_extension": ".py",
   "mimetype": "text/x-python",
   "name": "python",
   "nbconvert_exporter": "python",
   "pygments_lexer": "ipython2",
   "version": "2.7.11"
  }
 },
 "nbformat": 4,
 "nbformat_minor": 0
}
