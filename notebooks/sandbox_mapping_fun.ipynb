{
 "cells": [
  {
   "cell_type": "code",
   "execution_count": 160,
   "metadata": {
    "collapsed": false
   },
   "outputs": [],
   "source": [
    "%matplotlib inline\n",
    "import geopandas as gp\n",
    "import glob\n",
    "import os\n",
    "import sys\n",
    "from os.path import dirname\n",
    "parent_dir = dirname(dirname(os.getcwd()))\n",
    "sys.path.append(os.path.join(parent_dir,'StreamflowTempModel','2_hillslope_discharge'))\n",
    "sys.path.append(os.path.join(parent_dir,'StreamflowTempModel','3_channel_routing'))\n",
    "\n",
    "from vadoseZone import *\n",
    "from groundwaterZone import *\n",
    "from REW import REW\n",
    "from matplotlib import pyplot as plt\n",
    "import numpy as np\n",
    "import seaborn as sns\n",
    "import pickle\n",
    "import vincent\n",
    "from datetime import date\n",
    "import pandas as pd\n",
    "import numpy as np\n",
    "import time\n",
    "import sys\n",
    "import shapely\n",
    "import fiona\n",
    "from pyDOE import *\n",
    "import folium\n",
    "from ast import literal_eval as make_tuple\n",
    "from shapely.geometry import MultiLineString\n",
    "import mpld3\n",
    "\n",
    "# Load config files, forcing file, and paramters for each group\n",
    "parent_dir = os.path.dirname(os.path.dirname(os.getcwd()))\n",
    "\n",
    "# These dictionaries contain the all the data we'll need to instantiate \n",
    "rew_config = pickle.load( open( os.path.join(parent_dir,'model_data','rew_config.p'), \"rb\" ) )\n",
    "climate_group_forcing = pickle.load( open( os.path.join(parent_dir,'model_data','climate_group_forcing.p'), \"rb\" ) )\n",
    "parameter_group_params = pickle.load( open( os.path.join(parent_dir,'model_data','parameter_group_params.p'), \"rb\" ))\n",
    "model_config = pickle.load( open( os.path.join(parent_dir, 'model_data', 'model_config.p'), 'rb'))\n",
    "parameter_ranges = pickle.load( open( os.path.join(parent_dir, 'model_data', 'parameter_ranges.p'), 'rb'))\n",
    "\n",
    "start_date = model_config['start_date']\n",
    "stop_date = model_config['stop_date']\n",
    "spinup_date = model_config['spinup_date']\n",
    "Tmax = model_config['Tmax']\n",
    "dt = model_config['dt_hillslope']\n",
    "t = model_config['t_hillslope']\n",
    "resample_freq_hillslope = model_config['resample_freq_hillslope']\n",
    "timestamps_hillslope = model_config['timestamps_hillslope']"
   ]
  },
  {
   "cell_type": "markdown",
   "metadata": {},
   "source": [
    "# Plot basins along with stream network"
   ]
  },
  {
   "cell_type": "code",
   "execution_count": 181,
   "metadata": {
    "collapsed": false,
    "scrolled": false
   },
   "outputs": [
    {
     "name": "stderr",
     "output_type": "stream",
     "text": [
      "/Users/daviddralle/anaconda2/envs/py2k_gis/lib/python2.7/site-packages/dateutil/rrule.py:470: DeprecationWarning: Using both 'count' and 'until' is inconsistent with RFC 2445 and has been deprecated in dateutil. Future versions will raise an error.\n",
      "  \"raise an error.\", DeprecationWarning)\n",
      "/Users/daviddralle/anaconda2/envs/py2k_gis/lib/python2.7/site-packages/dateutil/rrule.py:470: DeprecationWarning: Using both 'count' and 'until' is inconsistent with RFC 2445 and has been deprecated in dateutil. Future versions will raise an error.\n",
      "  \"raise an error.\", DeprecationWarning)\n",
      "/Users/daviddralle/anaconda2/envs/py2k_gis/lib/python2.7/site-packages/dateutil/rrule.py:470: DeprecationWarning: Using both 'count' and 'until' is inconsistent with RFC 2445 and has been deprecated in dateutil. Future versions will raise an error.\n",
      "  \"raise an error.\", DeprecationWarning)\n",
      "/Users/daviddralle/anaconda2/envs/py2k_gis/lib/python2.7/site-packages/dateutil/rrule.py:470: DeprecationWarning: Using both 'count' and 'until' is inconsistent with RFC 2445 and has been deprecated in dateutil. Future versions will raise an error.\n",
      "  \"raise an error.\", DeprecationWarning)\n",
      "/Users/daviddralle/anaconda2/envs/py2k_gis/lib/python2.7/site-packages/dateutil/rrule.py:470: DeprecationWarning: Using both 'count' and 'until' is inconsistent with RFC 2445 and has been deprecated in dateutil. Future versions will raise an error.\n",
      "  \"raise an error.\", DeprecationWarning)\n",
      "/Users/daviddralle/anaconda2/envs/py2k_gis/lib/python2.7/site-packages/dateutil/rrule.py:470: DeprecationWarning: Using both 'count' and 'until' is inconsistent with RFC 2445 and has been deprecated in dateutil. Future versions will raise an error.\n",
      "  \"raise an error.\", DeprecationWarning)\n",
      "/Users/daviddralle/anaconda2/envs/py2k_gis/lib/python2.7/site-packages/dateutil/rrule.py:470: DeprecationWarning: Using both 'count' and 'until' is inconsistent with RFC 2445 and has been deprecated in dateutil. Future versions will raise an error.\n",
      "  \"raise an error.\", DeprecationWarning)\n",
      "/Users/daviddralle/anaconda2/envs/py2k_gis/lib/python2.7/site-packages/dateutil/rrule.py:470: DeprecationWarning: Using both 'count' and 'until' is inconsistent with RFC 2445 and has been deprecated in dateutil. Future versions will raise an error.\n",
      "  \"raise an error.\", DeprecationWarning)\n",
      "/Users/daviddralle/anaconda2/envs/py2k_gis/lib/python2.7/site-packages/dateutil/rrule.py:470: DeprecationWarning: Using both 'count' and 'until' is inconsistent with RFC 2445 and has been deprecated in dateutil. Future versions will raise an error.\n",
      "  \"raise an error.\", DeprecationWarning)\n"
     ]
    },
    {
     "data": {
      "image/png": "[encoded data removed]",
      "text/plain": [
       "<matplotlib.figure.Figure at 0x120cc71d0>"
      ]
     },
     "metadata": {},
     "output_type": "display_data"
    }
   ],
   "source": [
    "basins_file = glob.glob(os.path.join(parent_dir,'raw_data','basins_poly','*.shp'))[0]\n",
    "basins_shape = gp.GeoDataFrame.from_file(basins_file)\n",
    "basins_shape['coords'] = basins_shape['geometry'].apply(lambda x: x.representative_point().coords[:])\n",
    "basins_shape['coords'] = [coords[0] for coords in basins_shape['coords']]\n",
    "basins = basins_shape.to_crs(epsg='4326').to_json()\n",
    "\n",
    "streams = glob.glob(os.path.join(parent_dir,'raw_data','streams_poly','*.shp'))[0]\n",
    "streams_shape = gp.GeoDataFrame.from_file(streams).to_crs(epsg='4326')\n",
    "\n",
    "mapa = folium.Map([basins_shape['coords'][0][1], basins_shape['coords'][0][0]],\n",
    "                  zoom_start=11,\n",
    "                  tiles='Stamen Terrain')\n",
    "\n",
    "# cmap = sns.cubehelix_palette(light=1, as_cmap=True)\n",
    "# hex_colors = []\n",
    "# for i in range(cmap.N):\n",
    "#     rgb = cmap(i)[:3]\n",
    "#     hex_colors.append(matplotlib.colors.rgb2hex(rgb))\n",
    "\n",
    "# hex_colors = hex_colors[0:]\n",
    "\n",
    "folium.GeoJson(\n",
    "    basins,\n",
    "    style_function=lambda feature: {\n",
    "        'color' : '#FF0000'\n",
    "        }\n",
    "    ).add_to(mapa)\n",
    "\n",
    "\n",
    "for index, row in basins_shape.iterrows():\n",
    "    rew_id = row['cat']\n",
    "    label = 'REW ' + str(rew_id)\n",
    "    folium.Marker([row['coords'][1], row['coords'][0]], popup=label).add_to(mapa)\n",
    "\n",
    "streams = gp.GeoDataFrame(streams_shape['geometry'], crs=streams_shape.crs)\n",
    "streams['RGBA'] = '#0000ff'\n",
    "streams = streams.to_crs(epsg='4326').to_json()\n",
    "\n",
    "colors = []\n",
    "folium.GeoJson(\n",
    "    streams,\n",
    "    style_function=lambda feature: {\n",
    "        'color' : feature['properties']['RGBA'],\n",
    "        'weight' : 4, \n",
    "        'opacity': 1\n",
    "        }\n",
    "    ).add_to(mapa)\n",
    "\n",
    "\n",
    "calibration_data_filename = 'elder_runoff.p'\n",
    "calibration_data = pickle.load( open(os.path.join(parent_dir,'calibration_data',calibration_data_filename)))\n",
    "calibration_data = calibration_data['2012':'2014']\n",
    "fig = plt.figure(figsize=(8,4))\n",
    "plt.plot(calibration_data)\n",
    "plt.xlabel('Date')\n",
    "plt.ylabel('Runoff [cm/day]')\n",
    "plt.title('Runoff data')\n",
    "\n",
    "html = mpld3.fig_to_html(fig)\n",
    "\n",
    "iframe = folium.element.IFrame(html=html, width=650, height=400)\n",
    "popup = folium.Popup(iframe, max_width=2650)\n",
    "folium.Marker([basins_shape['coords'][0][1], basins_shape['coords'][0][0]], popup=popup).add_to(mapa)\n",
    "\n",
    "mapa.save('test.html')\n",
    "\n",
    "\n"
   ]
  },
  {
   "cell_type": "code",
   "execution_count": 182,
   "metadata": {
    "collapsed": true
   },
   "outputs": [],
   "source": [
    "mv test.html /Users/daviddralle/Desktop/"
   ]
  },
  {
   "cell_type": "code",
   "execution_count": null,
   "metadata": {
    "collapsed": true
   },
   "outputs": [],
   "source": []
  }
 ],
 "metadata": {
  "kernelspec": {
   "display_name": "Python 2",
   "language": "python",
   "name": "python2"
  },
  "language_info": {
   "codemirror_mode": {
    "name": "ipython",
    "version": 2
   },
   "file_extension": ".py",
   "mimetype": "text/x-python",
   "name": "python",
   "nbconvert_exporter": "python",
   "pygments_lexer": "ipython2",
   "version": "2.7.11"
  }
 },
 "nbformat": 4,
 "nbformat_minor": 0
}
